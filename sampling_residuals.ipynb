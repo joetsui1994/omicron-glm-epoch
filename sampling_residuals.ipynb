{
 "cells": [
  {
   "cell_type": "code",
   "execution_count": 54,
   "id": "premier-missile",
   "metadata": {},
   "outputs": [],
   "source": [
    "# basics\n",
    "import math\n",
    "import numpy as np\n",
    "import pandas as pd\n",
    "import datetime as dt\n",
    "from datetime import datetime, timedelta\n",
    "import json\n",
    "import statsmodels.api as sm\n",
    "from sklearn.linear_model import LinearRegression\n",
    "from scipy import stats\n",
    "\n",
    "# plotting\n",
    "import matplotlib.pyplot as plt\n",
    "\n",
    "# shapefiles\n",
    "import geopandas as gpd\n",
    "import shapely\n"
   ]
  },
  {
   "cell_type": "markdown",
   "id": "funded-strip",
   "metadata": {},
   "source": [
    "## Load rescaled Omicron case numbers"
   ]
  },
  {
   "cell_type": "code",
   "execution_count": 6,
   "id": "curious-meditation",
   "metadata": {},
   "outputs": [],
   "source": [
    "## epochs definitions (left/right inclusive)\n",
    "epochs = {\n",
    "    1: (dt.datetime(2021, 11, 1), dt.datetime(2021, 12, 25)),\n",
    "    2: (dt.datetime(2021, 12, 26), dt.datetime(2022, 1, 15)),\n",
    "    3: (dt.datetime(2022, 1, 16), dt.datetime(2022, 1, 31))\n",
    "}\n",
    "\n",
    "def bin_date(date_str, epochs):\n",
    "    date = dt.datetime.strptime(date_str, '%Y-%m-%d')\n",
    "    for k, v in epochs.items():\n",
    "        if (date >= v[0] and date <= v[1]):\n",
    "            return k\n",
    " "
   ]
  },
  {
   "cell_type": "code",
   "execution_count": 17,
   "id": "coated-harrison",
   "metadata": {},
   "outputs": [],
   "source": [
    "omicron_cases = pd.read_csv('master_final_re-scaled_cases_20210901_20220228.csv', sep=',').iloc[:,1:]\n",
    "omicron_cases = omicron_cases[['LTLA_code', 'specimen_date', 'count_mean', 'samples', 'Total_number_of_cases']]\n",
    "omicron_cases = omicron_cases.rename(columns={\n",
    "    'LTLA_code': 'origin',\n",
    "    'specimen_date': 'date'\n",
    "})\n",
    "omicron_cases['epoch'] = omicron_cases.date.apply(lambda x: bin_date(x, epochs))\n",
    "omicron_cases = omicron_cases[(omicron_cases.date >= '2021-11-01') & (omicron_cases.date <= '2022-01-31')]\n"
   ]
  },
  {
   "cell_type": "code",
   "execution_count": 26,
   "id": "fifth-chuck",
   "metadata": {},
   "outputs": [
    {
     "data": {
      "text/plain": [
       "22223.05581841844"
      ]
     },
     "execution_count": 26,
     "metadata": {},
     "output_type": "execute_result"
    }
   ],
   "source": [
    "omicron_cases[omicron_cases.epoch == 1].count_mean.sum()\n",
    "omicron_cases[(omicron_cases.epoch == 1) & \n",
    "              (omicron_cases.date < '2021-11-28') & \n",
    "              (omicron_cases.date > '2021-11-13')].count_mean.sum()\n"
   ]
  },
  {
   "cell_type": "code",
   "execution_count": 51,
   "id": "expressed-belly",
   "metadata": {},
   "outputs": [
    {
     "data": {
      "text/html": [
       "<div>\n",
       "<style scoped>\n",
       "    .dataframe tbody tr th:only-of-type {\n",
       "        vertical-align: middle;\n",
       "    }\n",
       "\n",
       "    .dataframe tbody tr th {\n",
       "        vertical-align: top;\n",
       "    }\n",
       "\n",
       "    .dataframe thead th {\n",
       "        text-align: right;\n",
       "    }\n",
       "</style>\n",
       "<table border=\"1\" class=\"dataframe\">\n",
       "  <thead>\n",
       "    <tr style=\"text-align: right;\">\n",
       "      <th></th>\n",
       "      <th>origin</th>\n",
       "      <th>count_mean</th>\n",
       "    </tr>\n",
       "  </thead>\n",
       "  <tbody>\n",
       "    <tr>\n",
       "      <th>0</th>\n",
       "      <td>E06000001</td>\n",
       "      <td>8600.559874</td>\n",
       "    </tr>\n",
       "    <tr>\n",
       "      <th>1</th>\n",
       "      <td>E06000002</td>\n",
       "      <td>13015.491082</td>\n",
       "    </tr>\n",
       "    <tr>\n",
       "      <th>2</th>\n",
       "      <td>E06000003</td>\n",
       "      <td>11984.899771</td>\n",
       "    </tr>\n",
       "    <tr>\n",
       "      <th>3</th>\n",
       "      <td>E06000004</td>\n",
       "      <td>18898.413039</td>\n",
       "    </tr>\n",
       "    <tr>\n",
       "      <th>4</th>\n",
       "      <td>E06000005</td>\n",
       "      <td>8705.815612</td>\n",
       "    </tr>\n",
       "    <tr>\n",
       "      <th>...</th>\n",
       "      <td>...</td>\n",
       "      <td>...</td>\n",
       "    </tr>\n",
       "    <tr>\n",
       "      <th>309</th>\n",
       "      <td>E09000029</td>\n",
       "      <td>19481.282951</td>\n",
       "    </tr>\n",
       "    <tr>\n",
       "      <th>310</th>\n",
       "      <td>E09000030</td>\n",
       "      <td>29035.634739</td>\n",
       "    </tr>\n",
       "    <tr>\n",
       "      <th>311</th>\n",
       "      <td>E09000031</td>\n",
       "      <td>24769.120314</td>\n",
       "    </tr>\n",
       "    <tr>\n",
       "      <th>312</th>\n",
       "      <td>E09000032</td>\n",
       "      <td>33328.888300</td>\n",
       "    </tr>\n",
       "    <tr>\n",
       "      <th>313</th>\n",
       "      <td>E09000033</td>\n",
       "      <td>16153.541781</td>\n",
       "    </tr>\n",
       "  </tbody>\n",
       "</table>\n",
       "<p>314 rows × 2 columns</p>\n",
       "</div>"
      ],
      "text/plain": [
       "        origin    count_mean\n",
       "0    E06000001   8600.559874\n",
       "1    E06000002  13015.491082\n",
       "2    E06000003  11984.899771\n",
       "3    E06000004  18898.413039\n",
       "4    E06000005   8705.815612\n",
       "..         ...           ...\n",
       "309  E09000029  19481.282951\n",
       "310  E09000030  29035.634739\n",
       "311  E09000031  24769.120314\n",
       "312  E09000032  33328.888300\n",
       "313  E09000033  16153.541781\n",
       "\n",
       "[314 rows x 2 columns]"
      ]
     },
     "execution_count": 51,
     "metadata": {},
     "output_type": "execute_result"
    }
   ],
   "source": [
    "## aggregate from 2021-11-28 to 2022-01-31\n",
    "omicron_cases_study = omicron_cases[(omicron_cases.date >= '2021-11-28') & \\\n",
    "                                    (omicron_cases.date <= '2022-01-31')].copy()\n",
    "omicron_cases_study_agg = omicron_cases_study.groupby('origin').agg({'count_mean': 'sum'}).reset_index()\n",
    "omicron_cases_study_agg\n"
   ]
  },
  {
   "cell_type": "markdown",
   "id": "turkish-hughes",
   "metadata": {},
   "source": [
    "## Read in TL tip <-> LTLA"
   ]
  },
  {
   "cell_type": "code",
   "execution_count": 27,
   "id": "black-anthropology",
   "metadata": {},
   "outputs": [],
   "source": [
    "BA115_DTA_700_n713_tip_ltla = pd.read_csv('./BA.1.15_DTA_700_n713/tip_ltla_date_epo.tsv', sep='\\t')\n",
    "BA115_DTA_102_n2975_tip_ltla = pd.read_csv('./BA.1.15_DTA_102_n2975/tip_ltla_date_epo.tsv', sep='\\t')\n",
    "BA117_DTA_175_n11351_tip_ltla = pd.read_csv('./BA.1.17_DTA_175_n11351/tip_ltla_date_epo.tsv', sep='\\t')\n",
    "BA11_DTA_1467_n722_tip_ltla = pd.read_csv('./BA.1.1_DTA_1467_n722/tip_ltla_date_epo.tsv', sep='\\t')\n",
    "BA11_DTA_1254_n2249_tip_ltla = pd.read_csv('./BA.1.1_DTA_1254_n2249/tip_ltla_date_epo.tsv', sep='\\t')\n",
    "BA1_DTA_1944_n1406_tip_ltla = pd.read_csv('./BA.1_DTA_1944_n1406/tip_ltla_date_epo.tsv', sep='\\t')\n",
    "BA1_DTA_1800_n944_tip_ltla = pd.read_csv('./BA.1_DTA_1800_n944/tip_ltla_date_epo.tsv', sep='\\t')\n",
    "BA1_DTA_1207_n9727_tip_ltla = pd.read_csv('./BA.1_DTA_1207_n9727/tip_ltla_date_epo.tsv', sep='\\t')\n"
   ]
  },
  {
   "cell_type": "markdown",
   "id": "surprised-designation",
   "metadata": {},
   "source": [
    "## Read in LTLA aggregations"
   ]
  },
  {
   "cell_type": "code",
   "execution_count": 28,
   "id": "suburban-filling",
   "metadata": {},
   "outputs": [],
   "source": [
    "BA115_DTA_700_n713_mergers_rev = pd.read_csv('./BA.1.15_DTA_700_n713/mergers_rev.tsv', sep='\\t')\n",
    "BA115_DTA_102_n2975_mergers_rev = pd.read_csv('./BA.1.15_DTA_102_n2975/mergers_rev.tsv', sep='\\t')\n",
    "BA117_DTA_175_n11351_mergers_rev = pd.read_csv('./BA.1.17_DTA_175_n11351/mergers_rev.tsv', sep='\\t')\n",
    "BA11_DTA_1467_n722_mergers_rev = pd.read_csv('./BA.1.1_DTA_1467_n722/mergers_rev.tsv', sep='\\t')\n",
    "BA11_DTA_1254_n2249_mergers_rev = pd.read_csv('./BA.1.1_DTA_1254_n2249/mergers_rev.tsv', sep='\\t')\n",
    "BA1_DTA_1944_n1406_mergers_rev = pd.read_csv('./BA.1_DTA_1944_n1406/mergers_rev.tsv', sep='\\t')\n",
    "BA1_DTA_1800_n944_mergers_rev = pd.read_csv('./BA.1_DTA_1800_n944/mergers_rev.tsv', sep='\\t')\n",
    "BA1_DTA_1207_n9727_mergers_rev = pd.read_csv('./BA.1_DTA_1207_n9727/mergers_rev.tsv', sep='\\t')\n"
   ]
  },
  {
   "cell_type": "markdown",
   "id": "spare-christopher",
   "metadata": {},
   "source": [
    "## Read in TL estimated importation date"
   ]
  },
  {
   "cell_type": "code",
   "execution_count": 94,
   "id": "acquired-creek",
   "metadata": {},
   "outputs": [],
   "source": [
    "def dec2date(date_dec, get_str=False):\n",
    "    year = math.floor(date_dec)\n",
    "    year_start = dt.datetime(year, 1, 1)\n",
    "    year_end = dt.datetime(year+1, 1, 1)\n",
    "    \n",
    "    year_dur = (year_end - year_start).days\n",
    "    date_frac = date_dec % year\n",
    "    date_days = round(year_dur*date_frac)\n",
    "    \n",
    "    date = year_start + dt.timedelta(days=date_days)\n",
    "    \n",
    "    if get_str:\n",
    "        return dt.datetime.strftime(date, '%Y-%m-%d')\n",
    "    else:\n",
    "        return date\n",
    "    "
   ]
  },
  {
   "cell_type": "code",
   "execution_count": 49,
   "id": "divided-twist",
   "metadata": {},
   "outputs": [],
   "source": [
    "BA115_mcc_tls = pd.read_csv('../BA.1.15/mcc_tls/mcc_tls.tsv', sep='\\t').iloc[:,2:]\n",
    "BA115_mcc_tls = BA115_mcc_tls.loc[(BA115_mcc_tls.ntaxa > 0) & (BA115_mcc_tls.source == 'nonENG')]\n",
    "BA115_mcc_tls['import_est'] = BA115_mcc_tls.apply(lambda row: (row.tmrca + row.ptmrca)/2, axis=1)\n",
    "BA115_DTA_700_n713_import_est = BA115_mcc_tls[BA115_mcc_tls.ntaxa == 713].import_est.values[0]\n",
    "BA115_DTA_102_n2975_import_est = BA115_mcc_tls[BA115_mcc_tls.ntaxa == 2975].import_est.values[0]\n",
    "\n",
    "BA11_mcc_tls = pd.read_csv('../BA.1.1/mcc_tls/mcc_tls.tsv', sep='\\t').iloc[:,2:]\n",
    "BA11_mcc_tls = BA11_mcc_tls.loc[(BA11_mcc_tls.ntaxa > 0) & (BA11_mcc_tls.source == 'nonENG')]\n",
    "BA11_mcc_tls['import_est'] = BA11_mcc_tls.apply(lambda row: (row.tmrca + row.ptmrca)/2, axis=1)\n",
    "BA11_DTA_1467_n722_import_est = BA11_mcc_tls[BA11_mcc_tls.ntaxa == 722].import_est.values[0]\n",
    "BA11_DTA_1254_n2249_import_est = BA11_mcc_tls[BA11_mcc_tls.ntaxa == 2249].import_est.values[0]\n",
    "\n",
    "BA1_mcc_tls = pd.read_csv('../BA.1/mcc_tls/mcc_tls.tsv', sep='\\t').iloc[:,2:]\n",
    "BA1_mcc_tls = BA1_mcc_tls.loc[(BA1_mcc_tls.ntaxa > 0) & (BA1_mcc_tls.source == 'nonENG')]\n",
    "BA1_mcc_tls['import_est'] = BA1_mcc_tls.apply(lambda row: (row.tmrca + row.ptmrca)/2, axis=1)\n",
    "BA1_DTA_1800_n944_import_est = BA1_mcc_tls[BA1_mcc_tls.ntaxa == 944].import_est.values[0]\n",
    "BA1_DTA_1944_n1406_import_est = BA1_mcc_tls[BA1_mcc_tls.ntaxa == 1406].import_est.values[0]\n",
    "BA1_DTA_1207_n9727_import_est = BA1_mcc_tls[BA1_mcc_tls.ntaxa == 9727].import_est.values[0]\n",
    "\n",
    "BA117_mcc_tls = pd.read_csv('../BA.1.17/mcc_tls/mcc_tls.tsv', sep='\\t').iloc[:,2:]\n",
    "BA117_mcc_tls = BA117_mcc_tls.loc[(BA117_mcc_tls.ntaxa > 0) & (BA117_mcc_tls.source == 'nonENG')]\n",
    "BA117_mcc_tls['import_est'] = BA117_mcc_tls.apply(lambda row: (row.tmrca + row.ptmrca)/2, axis=1)\n",
    "BA117_DTA_175_n11351_import_est = BA117_mcc_tls[BA117_mcc_tls.ntaxa == 11351].import_est.values[0]\n"
   ]
  },
  {
   "cell_type": "markdown",
   "id": "constitutional-credit",
   "metadata": {},
   "source": [
    "## Merge LTLAs for BA.1.15_DTA_700_n713"
   ]
  },
  {
   "cell_type": "markdown",
   "id": "opposed-bouquet",
   "metadata": {},
   "source": [
    "no mergers needed"
   ]
  },
  {
   "cell_type": "code",
   "execution_count": 110,
   "id": "figured-infection",
   "metadata": {},
   "outputs": [],
   "source": [
    "BA115_DTA_700_n713_omicron_cases_study = omicron_cases[\n",
    "    omicron_cases.origin.isin(BA115_DTA_700_n713_tip_ltla.ltla.unique().tolist())].copy()\n",
    "BA115_DTA_700_n713_omicron_cases_study\n",
    "\n",
    "BA115_DTA_700_n713_omicron_cases_epo_1 = BA115_DTA_700_n713_omicron_cases_study[\n",
    "    (BA115_DTA_700_n713_omicron_cases_study.epoch == 1) &\n",
    "    (BA115_DTA_700_n713_omicron_cases_study.date >= dec2date(BA115_DTA_700_n713_import_est, get_str=True))\n",
    "].groupby('origin').agg({'count_mean': 'sum'}).reset_index()\n",
    "\n",
    "BA115_DTA_700_n713_omicron_cases_epo_2 = BA115_DTA_700_n713_omicron_cases_study[\n",
    "    BA115_DTA_700_n713_omicron_cases_study.epoch == 2\n",
    "].groupby('origin').agg({'count_mean': 'sum'}).reset_index()\n",
    "\n",
    "BA115_DTA_700_n713_omicron_cases_epo_3 = BA115_DTA_700_n713_omicron_cases_study[\n",
    "    BA115_DTA_700_n713_omicron_cases_study.epoch == 3\n",
    "].groupby('origin').agg({'count_mean': 'sum'}).reset_index()\n"
   ]
  },
  {
   "cell_type": "code",
   "execution_count": 145,
   "id": "appropriate-numbers",
   "metadata": {},
   "outputs": [],
   "source": [
    "BA115_DTA_700_n713_omicron_cases_sample_n_epo_1 = pd.merge(\n",
    "    BA115_DTA_700_n713_omicron_cases_epo_1,\n",
    "    BA115_DTA_700_n713_tip_ltla[BA115_DTA_700_n713_tip_ltla.epoch == 1].groupby('ltla').count().reset_index().rename(\n",
    "        columns={'ltla': 'origin'}), on='origin', how='left').rename(columns={'name': 'sample_n'})[[\n",
    "    'origin', 'count_mean', 'sample_n']]\n",
    "zero_filled_sample_n_epo_1 = BA115_DTA_700_n713_omicron_cases_sample_n_epo_1.sample_n.apply(\n",
    "    lambda x: 0 if pd.isna(x) else x)\n",
    "BA115_DTA_700_n713_omicron_cases_sample_n_epo_1.sample_n = zero_filled_sample_n_epo_1\n",
    "\n",
    "BA115_DTA_700_n713_omicron_cases_sample_n_epo_2 = pd.merge(\n",
    "    BA115_DTA_700_n713_omicron_cases_epo_2,\n",
    "    BA115_DTA_700_n713_tip_ltla[BA115_DTA_700_n713_tip_ltla.epoch == 2].groupby('ltla').count().reset_index().rename(\n",
    "        columns={'ltla': 'origin'}), on='origin', how='left').rename(columns={'name': 'sample_n'})[[\n",
    "    'origin', 'count_mean', 'sample_n']]\n",
    "zero_filled_sample_n_epo_2 = BA115_DTA_700_n713_omicron_cases_sample_n_epo_2.sample_n.apply(\n",
    "    lambda x: 0 if pd.isna(x) else x)\n",
    "BA115_DTA_700_n713_omicron_cases_sample_n_epo_2.sample_n = zero_filled_sample_n_epo_2\n",
    "\n",
    "BA115_DTA_700_n713_omicron_cases_sample_n_epo_3 = pd.merge(\n",
    "    BA115_DTA_700_n713_omicron_cases_epo_3,\n",
    "    BA115_DTA_700_n713_tip_ltla[BA115_DTA_700_n713_tip_ltla.epoch == 3].groupby('ltla').count().reset_index().rename(\n",
    "        columns={'ltla': 'origin'}), on='origin', how='left').rename(columns={'name': 'sample_n'})[[\n",
    "    'origin', 'count_mean', 'sample_n']]\n",
    "zero_filled_sample_n_epo_3 = BA115_DTA_700_n713_omicron_cases_sample_n_epo_3.sample_n.apply(\n",
    "    lambda x: 0 if pd.isna(x) else x)\n",
    "BA115_DTA_700_n713_omicron_cases_sample_n_epo_3.sample_n = zero_filled_sample_n_epo_3\n"
   ]
  },
  {
   "cell_type": "markdown",
   "id": "characteristic-beijing",
   "metadata": {},
   "source": [
    "#### Epoch-1"
   ]
  },
  {
   "cell_type": "code",
   "execution_count": 149,
   "id": "fantastic-burden",
   "metadata": {},
   "outputs": [
    {
     "data": {
      "image/png": "[encoded data removed]",
      "text/plain": [
       "<Figure size 432x288 with 1 Axes>"
      ]
     },
     "metadata": {
      "needs_background": "light"
     },
     "output_type": "display_data"
    }
   ],
   "source": [
    "plt.scatter(BA115_DTA_700_n713_omicron_cases_sample_n_epo_1.count_mean,\n",
    "            BA115_DTA_700_n713_omicron_cases_sample_n_epo_1.sample_n)\n",
    "plt.show()\n"
   ]
  },
  {
   "cell_type": "code",
   "execution_count": 166,
   "id": "ambient-granny",
   "metadata": {},
   "outputs": [
    {
     "name": "stdout",
     "output_type": "stream",
     "text": [
      "                            OLS Regression Results                            \n",
      "==============================================================================\n",
      "Dep. Variable:               sample_n   R-squared:                       0.467\n",
      "Model:                            OLS   Adj. R-squared:                  0.465\n",
      "Method:                 Least Squares   F-statistic:                     194.9\n",
      "Date:                Sun, 18 Sep 2022   Prob (F-statistic):           3.27e-32\n",
      "Time:                        19:01:57   Log-Likelihood:                -402.40\n",
      "No. Observations:                 224   AIC:                             808.8\n",
      "Df Residuals:                     222   BIC:                             815.6\n",
      "Df Model:                           1                                         \n",
      "Covariance Type:            nonrobust                                         \n",
      "==============================================================================\n",
      "                 coef    std err          t      P>|t|      [0.025      0.975]\n",
      "------------------------------------------------------------------------------\n",
      "const         -0.2951      0.148     -1.991      0.048      -0.587      -0.003\n",
      "count_mean     0.0004   2.95e-05     13.960      0.000       0.000       0.000\n",
      "==============================================================================\n",
      "Omnibus:                       79.654   Durbin-Watson:                   1.856\n",
      "Prob(Omnibus):                  0.000   Jarque-Bera (JB):              286.611\n",
      "Skew:                           1.440   Prob(JB):                     5.80e-63\n",
      "Kurtosis:                       7.734   Cond. No.                     7.61e+03\n",
      "==============================================================================\n",
      "\n",
      "Notes:\n",
      "[1] Standard Errors assume that the covariance matrix of the errors is correctly specified.\n",
      "[2] The condition number is large, 7.61e+03. This might indicate that there are\n",
      "strong multicollinearity or other numerical problems.\n",
      "const        -0.295142\n",
      "count_mean    0.000412\n",
      "dtype: float64\n"
     ]
    },
    {
     "data": {
      "text/plain": [
       "0      0.048380\n",
       "1      0.459733\n",
       "2     -1.274985\n",
       "3     -0.487465\n",
       "4     -0.796916\n",
       "         ...   \n",
       "219    0.453666\n",
       "220   -1.864441\n",
       "221    0.289761\n",
       "222   -0.460655\n",
       "223    2.360415\n",
       "Length: 224, dtype: float64"
      ]
     },
     "execution_count": 166,
     "metadata": {},
     "output_type": "execute_result"
    }
   ],
   "source": [
    "X = sm.add_constant(BA115_DTA_700_n713_omicron_cases_sample_n_epo_1.count_mean)\n",
    "BA115_DTA_700_n713_reg_epo_1 = sm.OLS(\n",
    "    BA115_DTA_700_n713_omicron_cases_sample_n_epo_1.sample_n,\n",
    "    X\n",
    ").fit()\n",
    "print(BA115_DTA_700_n713_reg_epo_1.summary())\n",
    "print(BA115_DTA_700_n713_reg_epo_1.params)\n",
    "BA115_DTA_700_n713_reg_epo_1.resid\n"
   ]
  },
  {
   "cell_type": "code",
   "execution_count": 179,
   "id": "extensive-recovery",
   "metadata": {},
   "outputs": [
    {
     "data": {
      "text/html": [
       "<div>\n",
       "<style scoped>\n",
       "    .dataframe tbody tr th:only-of-type {\n",
       "        vertical-align: middle;\n",
       "    }\n",
       "\n",
       "    .dataframe tbody tr th {\n",
       "        vertical-align: top;\n",
       "    }\n",
       "\n",
       "    .dataframe thead th {\n",
       "        text-align: right;\n",
       "    }\n",
       "</style>\n",
       "<table border=\"1\" class=\"dataframe\">\n",
       "  <thead>\n",
       "    <tr style=\"text-align: right;\">\n",
       "      <th></th>\n",
       "      <th>origin</th>\n",
       "      <th>count_mean</th>\n",
       "      <th>sample_n</th>\n",
       "      <th>resid</th>\n",
       "    </tr>\n",
       "  </thead>\n",
       "  <tbody>\n",
       "    <tr>\n",
       "      <th>0</th>\n",
       "      <td>E06000001</td>\n",
       "      <td>599.088643</td>\n",
       "      <td>0.0</td>\n",
       "      <td>0.048380</td>\n",
       "    </tr>\n",
       "    <tr>\n",
       "      <th>1</th>\n",
       "      <td>E06000006</td>\n",
       "      <td>2028.206040</td>\n",
       "      <td>1.0</td>\n",
       "      <td>0.459733</td>\n",
       "    </tr>\n",
       "    <tr>\n",
       "      <th>2</th>\n",
       "      <td>E06000007</td>\n",
       "      <td>3811.951833</td>\n",
       "      <td>0.0</td>\n",
       "      <td>-1.274985</td>\n",
       "    </tr>\n",
       "    <tr>\n",
       "      <th>3</th>\n",
       "      <td>E06000010</td>\n",
       "      <td>1900.012052</td>\n",
       "      <td>0.0</td>\n",
       "      <td>-0.487465</td>\n",
       "    </tr>\n",
       "    <tr>\n",
       "      <th>4</th>\n",
       "      <td>E06000011</td>\n",
       "      <td>2651.296399</td>\n",
       "      <td>0.0</td>\n",
       "      <td>-0.796916</td>\n",
       "    </tr>\n",
       "    <tr>\n",
       "      <th>...</th>\n",
       "      <td>...</td>\n",
       "      <td>...</td>\n",
       "      <td>...</td>\n",
       "      <td>...</td>\n",
       "    </tr>\n",
       "    <tr>\n",
       "      <th>219</th>\n",
       "      <td>E09000029</td>\n",
       "      <td>6898.530624</td>\n",
       "      <td>3.0</td>\n",
       "      <td>0.453666</td>\n",
       "    </tr>\n",
       "    <tr>\n",
       "      <th>220</th>\n",
       "      <td>E09000030</td>\n",
       "      <td>12526.427630</td>\n",
       "      <td>3.0</td>\n",
       "      <td>-1.864441</td>\n",
       "    </tr>\n",
       "    <tr>\n",
       "      <th>221</th>\n",
       "      <td>E09000031</td>\n",
       "      <td>9724.257098</td>\n",
       "      <td>4.0</td>\n",
       "      <td>0.289761</td>\n",
       "    </tr>\n",
       "    <tr>\n",
       "      <th>222</th>\n",
       "      <td>E09000032</td>\n",
       "      <td>16401.712403</td>\n",
       "      <td>6.0</td>\n",
       "      <td>-0.460655</td>\n",
       "    </tr>\n",
       "    <tr>\n",
       "      <th>223</th>\n",
       "      <td>E09000033</td>\n",
       "      <td>7124.924720</td>\n",
       "      <td>5.0</td>\n",
       "      <td>2.360415</td>\n",
       "    </tr>\n",
       "  </tbody>\n",
       "</table>\n",
       "<p>224 rows × 4 columns</p>\n",
       "</div>"
      ],
      "text/plain": [
       "        origin    count_mean  sample_n     resid\n",
       "0    E06000001    599.088643       0.0  0.048380\n",
       "1    E06000006   2028.206040       1.0  0.459733\n",
       "2    E06000007   3811.951833       0.0 -1.274985\n",
       "3    E06000010   1900.012052       0.0 -0.487465\n",
       "4    E06000011   2651.296399       0.0 -0.796916\n",
       "..         ...           ...       ...       ...\n",
       "219  E09000029   6898.530624       3.0  0.453666\n",
       "220  E09000030  12526.427630       3.0 -1.864441\n",
       "221  E09000031   9724.257098       4.0  0.289761\n",
       "222  E09000032  16401.712403       6.0 -0.460655\n",
       "223  E09000033   7124.924720       5.0  2.360415\n",
       "\n",
       "[224 rows x 4 columns]"
      ]
     },
     "execution_count": 179,
     "metadata": {},
     "output_type": "execute_result"
    }
   ],
   "source": [
    "BA115_DTA_700_n713_omicron_cases_sample_n_epo_1['resid'] = BA115_DTA_700_n713_reg_epo_1.resid\n",
    "BA115_DTA_700_n713_omicron_cases_sample_n_epo_1\n"
   ]
  },
  {
   "cell_type": "code",
   "execution_count": 181,
   "id": "central-algebra",
   "metadata": {},
   "outputs": [],
   "source": [
    "with open('./BA.1.15_DTA_700_n713/ltla_residual_epo_1.tsv', 'w+') as outfile:\n",
    "    outfile.write('ltla\\tresidual\\n')\n",
    "    outfile.write('\\n'.join(['%s\\t%s' % (row.origin, row.resid)\n",
    "                             for index, row in BA115_DTA_700_n713_omicron_cases_sample_n_epo_1.iterrows()]))\n",
    "    "
   ]
  },
  {
   "cell_type": "markdown",
   "id": "regional-couple",
   "metadata": {},
   "source": [
    "#### Epoch-2"
   ]
  },
  {
   "cell_type": "code",
   "execution_count": 150,
   "id": "together-hammer",
   "metadata": {},
   "outputs": [
    {
     "data": {
      "image/png": "[encoded data removed]",
      "text/plain": [
       "<Figure size 432x288 with 1 Axes>"
      ]
     },
     "metadata": {
      "needs_background": "light"
     },
     "output_type": "display_data"
    }
   ],
   "source": [
    "plt.scatter(BA115_DTA_700_n713_omicron_cases_sample_n_epo_2.count_mean,\n",
    "            BA115_DTA_700_n713_omicron_cases_sample_n_epo_2.sample_n)\n",
    "plt.show()\n"
   ]
  },
  {
   "cell_type": "code",
   "execution_count": 167,
   "id": "fitted-wheel",
   "metadata": {},
   "outputs": [
    {
     "name": "stdout",
     "output_type": "stream",
     "text": [
      "                            OLS Regression Results                            \n",
      "==============================================================================\n",
      "Dep. Variable:               sample_n   R-squared:                       0.134\n",
      "Model:                            OLS   Adj. R-squared:                  0.130\n",
      "Method:                 Least Squares   F-statistic:                     34.33\n",
      "Date:                Sun, 18 Sep 2022   Prob (F-statistic):           1.66e-08\n",
      "Time:                        19:02:33   Log-Likelihood:                -311.76\n",
      "No. Observations:                 224   AIC:                             627.5\n",
      "Df Residuals:                     222   BIC:                             634.3\n",
      "Df Model:                           1                                         \n",
      "Covariance Type:            nonrobust                                         \n",
      "==============================================================================\n",
      "                 coef    std err          t      P>|t|      [0.025      0.975]\n",
      "------------------------------------------------------------------------------\n",
      "const          0.4895      0.107      4.572      0.000       0.279       0.701\n",
      "count_mean  6.319e-05   1.08e-05      5.859      0.000    4.19e-05    8.44e-05\n",
      "==============================================================================\n",
      "Omnibus:                       50.748   Durbin-Watson:                   1.976\n",
      "Prob(Omnibus):                  0.000   Jarque-Bera (JB):               86.069\n",
      "Skew:                           1.208   Prob(JB):                     2.04e-19\n",
      "Kurtosis:                       4.839   Cond. No.                     1.63e+04\n",
      "==============================================================================\n",
      "\n",
      "Notes:\n",
      "[1] Standard Errors assume that the covariance matrix of the errors is correctly specified.\n",
      "[2] The condition number is large, 1.63e+04. This might indicate that there are\n",
      "strong multicollinearity or other numerical problems.\n",
      "const         0.489516\n",
      "count_mean    0.000063\n",
      "dtype: float64\n"
     ]
    },
    {
     "data": {
      "text/plain": [
       "0      0.130521\n",
       "1     -0.973150\n",
       "2     -0.175150\n",
       "3      1.718886\n",
       "4      1.576008\n",
       "         ...   \n",
       "219    0.960995\n",
       "220   -0.261743\n",
       "221    0.812332\n",
       "222   -0.223199\n",
       "223    1.110433\n",
       "Length: 224, dtype: float64"
      ]
     },
     "execution_count": 167,
     "metadata": {},
     "output_type": "execute_result"
    }
   ],
   "source": [
    "X = sm.add_constant(BA115_DTA_700_n713_omicron_cases_sample_n_epo_2.count_mean)\n",
    "BA115_DTA_700_n713_reg_epo_2 = sm.OLS(\n",
    "    BA115_DTA_700_n713_omicron_cases_sample_n_epo_2.sample_n,\n",
    "    X\n",
    ").fit()\n",
    "print(BA115_DTA_700_n713_reg_epo_2.summary())\n",
    "print(BA115_DTA_700_n713_reg_epo_2.params)\n",
    "BA115_DTA_700_n713_reg_epo_2.resid\n"
   ]
  },
  {
   "cell_type": "code",
   "execution_count": 182,
   "id": "developed-hometown",
   "metadata": {},
   "outputs": [
    {
     "data": {
      "text/html": [
       "<div>\n",
       "<style scoped>\n",
       "    .dataframe tbody tr th:only-of-type {\n",
       "        vertical-align: middle;\n",
       "    }\n",
       "\n",
       "    .dataframe tbody tr th {\n",
       "        vertical-align: top;\n",
       "    }\n",
       "\n",
       "    .dataframe thead th {\n",
       "        text-align: right;\n",
       "    }\n",
       "</style>\n",
       "<table border=\"1\" class=\"dataframe\">\n",
       "  <thead>\n",
       "    <tr style=\"text-align: right;\">\n",
       "      <th></th>\n",
       "      <th>origin</th>\n",
       "      <th>count_mean</th>\n",
       "      <th>sample_n</th>\n",
       "      <th>resid</th>\n",
       "    </tr>\n",
       "  </thead>\n",
       "  <tbody>\n",
       "    <tr>\n",
       "      <th>0</th>\n",
       "      <td>E06000001</td>\n",
       "      <td>6013.218639</td>\n",
       "      <td>1.0</td>\n",
       "      <td>0.130521</td>\n",
       "    </tr>\n",
       "    <tr>\n",
       "      <th>1</th>\n",
       "      <td>E06000006</td>\n",
       "      <td>7653.898475</td>\n",
       "      <td>0.0</td>\n",
       "      <td>-0.973150</td>\n",
       "    </tr>\n",
       "    <tr>\n",
       "      <th>2</th>\n",
       "      <td>E06000007</td>\n",
       "      <td>10850.713185</td>\n",
       "      <td>1.0</td>\n",
       "      <td>-0.175150</td>\n",
       "    </tr>\n",
       "    <tr>\n",
       "      <th>3</th>\n",
       "      <td>E06000010</td>\n",
       "      <td>12527.673528</td>\n",
       "      <td>3.0</td>\n",
       "      <td>1.718886</td>\n",
       "    </tr>\n",
       "    <tr>\n",
       "      <th>4</th>\n",
       "      <td>E06000011</td>\n",
       "      <td>14788.822581</td>\n",
       "      <td>3.0</td>\n",
       "      <td>1.576008</td>\n",
       "    </tr>\n",
       "    <tr>\n",
       "      <th>...</th>\n",
       "      <td>...</td>\n",
       "      <td>...</td>\n",
       "      <td>...</td>\n",
       "      <td>...</td>\n",
       "    </tr>\n",
       "    <tr>\n",
       "      <th>219</th>\n",
       "      <td>E09000029</td>\n",
       "      <td>8696.094999</td>\n",
       "      <td>2.0</td>\n",
       "      <td>0.960995</td>\n",
       "    </tr>\n",
       "    <tr>\n",
       "      <th>220</th>\n",
       "      <td>E09000030</td>\n",
       "      <td>12221.102257</td>\n",
       "      <td>1.0</td>\n",
       "      <td>-0.261743</td>\n",
       "    </tr>\n",
       "    <tr>\n",
       "      <th>221</th>\n",
       "      <td>E09000031</td>\n",
       "      <td>11048.812696</td>\n",
       "      <td>2.0</td>\n",
       "      <td>0.812332</td>\n",
       "    </tr>\n",
       "    <tr>\n",
       "      <th>222</th>\n",
       "      <td>E09000032</td>\n",
       "      <td>11611.121439</td>\n",
       "      <td>1.0</td>\n",
       "      <td>-0.223199</td>\n",
       "    </tr>\n",
       "    <tr>\n",
       "      <th>223</th>\n",
       "      <td>E09000033</td>\n",
       "      <td>6331.133605</td>\n",
       "      <td>2.0</td>\n",
       "      <td>1.110433</td>\n",
       "    </tr>\n",
       "  </tbody>\n",
       "</table>\n",
       "<p>224 rows × 4 columns</p>\n",
       "</div>"
      ],
      "text/plain": [
       "        origin    count_mean  sample_n     resid\n",
       "0    E06000001   6013.218639       1.0  0.130521\n",
       "1    E06000006   7653.898475       0.0 -0.973150\n",
       "2    E06000007  10850.713185       1.0 -0.175150\n",
       "3    E06000010  12527.673528       3.0  1.718886\n",
       "4    E06000011  14788.822581       3.0  1.576008\n",
       "..         ...           ...       ...       ...\n",
       "219  E09000029   8696.094999       2.0  0.960995\n",
       "220  E09000030  12221.102257       1.0 -0.261743\n",
       "221  E09000031  11048.812696       2.0  0.812332\n",
       "222  E09000032  11611.121439       1.0 -0.223199\n",
       "223  E09000033   6331.133605       2.0  1.110433\n",
       "\n",
       "[224 rows x 4 columns]"
      ]
     },
     "execution_count": 182,
     "metadata": {},
     "output_type": "execute_result"
    }
   ],
   "source": [
    "BA115_DTA_700_n713_omicron_cases_sample_n_epo_2['resid'] = BA115_DTA_700_n713_reg_epo_2.resid\n",
    "BA115_DTA_700_n713_omicron_cases_sample_n_epo_2\n"
   ]
  },
  {
   "cell_type": "code",
   "execution_count": 183,
   "id": "impaired-thanks",
   "metadata": {},
   "outputs": [],
   "source": [
    "with open('./BA.1.15_DTA_700_n713/ltla_residual_epo_2.tsv', 'w+') as outfile:\n",
    "    outfile.write('ltla\\tresidual\\n')\n",
    "    outfile.write('\\n'.join(['%s\\t%s' % (row.origin, row.resid)\n",
    "                             for index, row in BA115_DTA_700_n713_omicron_cases_sample_n_epo_2.iterrows()]))\n",
    "    "
   ]
  },
  {
   "cell_type": "markdown",
   "id": "personal-survey",
   "metadata": {},
   "source": [
    "#### Epoch-3"
   ]
  },
  {
   "cell_type": "code",
   "execution_count": 151,
   "id": "severe-diving",
   "metadata": {},
   "outputs": [
    {
     "data": {
      "image/png": "[encoded data removed]",
      "text/plain": [
       "<Figure size 432x288 with 1 Axes>"
      ]
     },
     "metadata": {
      "needs_background": "light"
     },
     "output_type": "display_data"
    }
   ],
   "source": [
    "plt.scatter(BA115_DTA_700_n713_omicron_cases_sample_n_epo_3.count_mean,\n",
    "            BA115_DTA_700_n713_omicron_cases_sample_n_epo_3.sample_n)\n",
    "plt.show()\n"
   ]
  },
  {
   "cell_type": "code",
   "execution_count": 171,
   "id": "handmade-soundtrack",
   "metadata": {},
   "outputs": [
    {
     "name": "stdout",
     "output_type": "stream",
     "text": [
      "                            OLS Regression Results                            \n",
      "==============================================================================\n",
      "Dep. Variable:               sample_n   R-squared:                       0.045\n",
      "Model:                            OLS   Adj. R-squared:                  0.041\n",
      "Method:                 Least Squares   F-statistic:                     10.56\n",
      "Date:                Sun, 18 Sep 2022   Prob (F-statistic):            0.00134\n",
      "Time:                        19:04:36   Log-Likelihood:                -337.28\n",
      "No. Observations:                 224   AIC:                             678.6\n",
      "Df Residuals:                     222   BIC:                             685.4\n",
      "Df Model:                           1                                         \n",
      "Covariance Type:            nonrobust                                         \n",
      "==============================================================================\n",
      "                 coef    std err          t      P>|t|      [0.025      0.975]\n",
      "------------------------------------------------------------------------------\n",
      "const          0.6016      0.127      4.750      0.000       0.352       0.851\n",
      "count_mean   9.65e-05   2.97e-05      3.249      0.001     3.8e-05       0.000\n",
      "==============================================================================\n",
      "Omnibus:                       69.307   Durbin-Watson:                   1.799\n",
      "Prob(Omnibus):                  0.000   Jarque-Bera (JB):              149.965\n",
      "Skew:                           1.481   Prob(JB):                     2.73e-33\n",
      "Kurtosis:                       5.701   Cond. No.                     7.38e+03\n",
      "==============================================================================\n",
      "\n",
      "Notes:\n",
      "[1] Standard Errors assume that the covariance matrix of the errors is correctly specified.\n",
      "[2] The condition number is large, 7.38e+03. This might indicate that there are\n",
      "strong multicollinearity or other numerical problems.\n",
      "const         0.601647\n",
      "count_mean    0.000097\n",
      "dtype: float64\n"
     ]
    },
    {
     "data": {
      "text/plain": [
       "0     -0.794858\n",
       "1     -0.836582\n",
       "2     -0.928810\n",
       "3      0.833298\n",
       "4      1.795177\n",
       "         ...   \n",
       "219    0.013037\n",
       "220   -1.019555\n",
       "221   -0.990614\n",
       "222   -1.120733\n",
       "223    0.133745\n",
       "Length: 224, dtype: float64"
      ]
     },
     "execution_count": 171,
     "metadata": {},
     "output_type": "execute_result"
    }
   ],
   "source": [
    "X = sm.add_constant(BA115_DTA_700_n713_omicron_cases_sample_n_epo_3.count_mean)\n",
    "BA115_DTA_700_n713_reg_epo_3 = sm.OLS(\n",
    "    BA115_DTA_700_n713_omicron_cases_sample_n_epo_3.sample_n,\n",
    "    X\n",
    ").fit()\n",
    "print(BA115_DTA_700_n713_reg_epo_3.summary())\n",
    "print(BA115_DTA_700_n713_reg_epo_3.params)\n",
    "BA115_DTA_700_n713_reg_epo_3.resid\n"
   ]
  },
  {
   "cell_type": "code",
   "execution_count": 184,
   "id": "sapphire-cameroon",
   "metadata": {},
   "outputs": [
    {
     "data": {
      "text/html": [
       "<div>\n",
       "<style scoped>\n",
       "    .dataframe tbody tr th:only-of-type {\n",
       "        vertical-align: middle;\n",
       "    }\n",
       "\n",
       "    .dataframe tbody tr th {\n",
       "        vertical-align: top;\n",
       "    }\n",
       "\n",
       "    .dataframe thead th {\n",
       "        text-align: right;\n",
       "    }\n",
       "</style>\n",
       "<table border=\"1\" class=\"dataframe\">\n",
       "  <thead>\n",
       "    <tr style=\"text-align: right;\">\n",
       "      <th></th>\n",
       "      <th>origin</th>\n",
       "      <th>count_mean</th>\n",
       "      <th>sample_n</th>\n",
       "      <th>resid</th>\n",
       "    </tr>\n",
       "  </thead>\n",
       "  <tbody>\n",
       "    <tr>\n",
       "      <th>0</th>\n",
       "      <td>E06000001</td>\n",
       "      <td>2002.165508</td>\n",
       "      <td>0.0</td>\n",
       "      <td>-0.794858</td>\n",
       "    </tr>\n",
       "    <tr>\n",
       "      <th>1</th>\n",
       "      <td>E06000006</td>\n",
       "      <td>2434.531879</td>\n",
       "      <td>0.0</td>\n",
       "      <td>-0.836582</td>\n",
       "    </tr>\n",
       "    <tr>\n",
       "      <th>2</th>\n",
       "      <td>E06000007</td>\n",
       "      <td>3390.253717</td>\n",
       "      <td>0.0</td>\n",
       "      <td>-0.928810</td>\n",
       "    </tr>\n",
       "    <tr>\n",
       "      <th>3</th>\n",
       "      <td>E06000010</td>\n",
       "      <td>5855.435143</td>\n",
       "      <td>2.0</td>\n",
       "      <td>0.833298</td>\n",
       "    </tr>\n",
       "    <tr>\n",
       "      <th>4</th>\n",
       "      <td>E06000011</td>\n",
       "      <td>6250.464547</td>\n",
       "      <td>3.0</td>\n",
       "      <td>1.795177</td>\n",
       "    </tr>\n",
       "    <tr>\n",
       "      <th>...</th>\n",
       "      <td>...</td>\n",
       "      <td>...</td>\n",
       "      <td>...</td>\n",
       "      <td>...</td>\n",
       "    </tr>\n",
       "    <tr>\n",
       "      <th>219</th>\n",
       "      <td>E09000029</td>\n",
       "      <td>3992.865846</td>\n",
       "      <td>1.0</td>\n",
       "      <td>0.013037</td>\n",
       "    </tr>\n",
       "    <tr>\n",
       "      <th>220</th>\n",
       "      <td>E09000030</td>\n",
       "      <td>4330.607922</td>\n",
       "      <td>0.0</td>\n",
       "      <td>-1.019555</td>\n",
       "    </tr>\n",
       "    <tr>\n",
       "      <th>221</th>\n",
       "      <td>E09000031</td>\n",
       "      <td>4030.702329</td>\n",
       "      <td>0.0</td>\n",
       "      <td>-0.990614</td>\n",
       "    </tr>\n",
       "    <tr>\n",
       "      <th>222</th>\n",
       "      <td>E09000032</td>\n",
       "      <td>5379.078310</td>\n",
       "      <td>0.0</td>\n",
       "      <td>-1.120733</td>\n",
       "    </tr>\n",
       "    <tr>\n",
       "      <th>223</th>\n",
       "      <td>E09000033</td>\n",
       "      <td>2742.022294</td>\n",
       "      <td>1.0</td>\n",
       "      <td>0.133745</td>\n",
       "    </tr>\n",
       "  </tbody>\n",
       "</table>\n",
       "<p>224 rows × 4 columns</p>\n",
       "</div>"
      ],
      "text/plain": [
       "        origin   count_mean  sample_n     resid\n",
       "0    E06000001  2002.165508       0.0 -0.794858\n",
       "1    E06000006  2434.531879       0.0 -0.836582\n",
       "2    E06000007  3390.253717       0.0 -0.928810\n",
       "3    E06000010  5855.435143       2.0  0.833298\n",
       "4    E06000011  6250.464547       3.0  1.795177\n",
       "..         ...          ...       ...       ...\n",
       "219  E09000029  3992.865846       1.0  0.013037\n",
       "220  E09000030  4330.607922       0.0 -1.019555\n",
       "221  E09000031  4030.702329       0.0 -0.990614\n",
       "222  E09000032  5379.078310       0.0 -1.120733\n",
       "223  E09000033  2742.022294       1.0  0.133745\n",
       "\n",
       "[224 rows x 4 columns]"
      ]
     },
     "execution_count": 184,
     "metadata": {},
     "output_type": "execute_result"
    }
   ],
   "source": [
    "BA115_DTA_700_n713_omicron_cases_sample_n_epo_3['resid'] = BA115_DTA_700_n713_reg_epo_3.resid\n",
    "BA115_DTA_700_n713_omicron_cases_sample_n_epo_3\n"
   ]
  },
  {
   "cell_type": "code",
   "execution_count": 185,
   "id": "reverse-processor",
   "metadata": {},
   "outputs": [],
   "source": [
    "with open('./BA.1.15_DTA_700_n713/ltla_residual_epo_3.tsv', 'w+') as outfile:\n",
    "    outfile.write('ltla\\tresidual\\n')\n",
    "    outfile.write('\\n'.join(['%s\\t%s' % (row.origin, row.resid)\n",
    "                             for index, row in BA115_DTA_700_n713_omicron_cases_sample_n_epo_3.iterrows()]))\n",
    "    "
   ]
  },
  {
   "cell_type": "markdown",
   "id": "addressed-accuracy",
   "metadata": {},
   "source": [
    "## Merge LTLAs for BA.1.15_DTA_102_n2975"
   ]
  },
  {
   "cell_type": "code",
   "execution_count": 187,
   "id": "satellite-organization",
   "metadata": {},
   "outputs": [],
   "source": [
    "BA115_DTA_102_n2975_mergers_rev_dict = dict(zip(BA115_DTA_102_n2975_mergers_rev.child_ltla.values,\n",
    "                                                BA115_DTA_102_n2975_mergers_rev.parent_ltla.values))\n",
    "\n",
    "BA115_DTA_102_n2975_omicron_cases_study = omicron_cases.copy()\n",
    "BA115_DTA_102_n2975_omicron_cases_study.origin = BA115_DTA_102_n2975_omicron_cases_study.origin.apply(\n",
    "    lambda x: BA115_DTA_102_n2975_mergers_rev_dict[x] if x in BA115_DTA_102_n2975_mergers_rev_dict else x\n",
    ")\n",
    "BA115_DTA_102_n2975_omicron_cases_study = BA115_DTA_102_n2975_omicron_cases_study[\n",
    "    BA115_DTA_102_n2975_omicron_cases_study.origin.isin(BA115_DTA_102_n2975_tip_ltla.ltla.unique().tolist())]\n",
    "\n",
    "BA115_DTA_102_n2975_omicron_cases_epo_1 = BA115_DTA_102_n2975_omicron_cases_study[\n",
    "    (BA115_DTA_102_n2975_omicron_cases_study.epoch == 1) &\n",
    "    (BA115_DTA_102_n2975_omicron_cases_study.date >= dec2date(BA115_DTA_102_n2975_import_est, get_str=True))\n",
    "].groupby('origin').agg({'count_mean': 'sum'}).reset_index()\n",
    "\n",
    "BA115_DTA_102_n2975_omicron_cases_epo_2 = BA115_DTA_102_n2975_omicron_cases_study[\n",
    "    BA115_DTA_102_n2975_omicron_cases_study.epoch == 2\n",
    "].groupby('origin').agg({'count_mean': 'sum'}).reset_index()\n",
    "\n",
    "BA115_DTA_102_n2975_omicron_cases_epo_3 = BA115_DTA_102_n2975_omicron_cases_study[\n",
    "    BA115_DTA_102_n2975_omicron_cases_study.epoch == 3\n",
    "].groupby('origin').agg({'count_mean': 'sum'}).reset_index()\n"
   ]
  },
  {
   "cell_type": "code",
   "execution_count": 213,
   "id": "ordered-broadcast",
   "metadata": {},
   "outputs": [],
   "source": [
    "BA115_DTA_102_n2975_omicron_cases_sample_n_epo_1 = pd.merge(\n",
    "    BA115_DTA_102_n2975_omicron_cases_epo_1,\n",
    "    BA115_DTA_102_n2975_tip_ltla[BA115_DTA_102_n2975_tip_ltla.epoch == 1\n",
    "                                ].groupby('ltla').count().reset_index().rename(columns={'ltla': 'origin'}),\n",
    "    on='origin', how='left').rename(columns={'name': 'sample_n'})[['origin', 'count_mean', 'sample_n']]\n",
    "zero_filled_sample_n_epo_1 = BA115_DTA_102_n2975_omicron_cases_sample_n_epo_1.sample_n.apply(\n",
    "    lambda x: 0 if pd.isna(x) else x)\n",
    "BA115_DTA_102_n2975_omicron_cases_sample_n_epo_1.sample_n = zero_filled_sample_n_epo_1\n",
    "\n",
    "BA115_DTA_102_n2975_omicron_cases_sample_n_epo_2 = pd.merge(\n",
    "    BA115_DTA_102_n2975_omicron_cases_epo_2,\n",
    "    BA115_DTA_102_n2975_tip_ltla[BA115_DTA_102_n2975_tip_ltla.epoch == 2\n",
    "                                ].groupby('ltla').count().reset_index().rename(columns={'ltla': 'origin'}),\n",
    "    on='origin', how='left').rename(columns={'name': 'sample_n'})[['origin', 'count_mean', 'sample_n']]\n",
    "zero_filled_sample_n_epo_2 = BA115_DTA_102_n2975_omicron_cases_sample_n_epo_2.sample_n.apply(\n",
    "    lambda x: 0 if pd.isna(x) else x)\n",
    "BA115_DTA_102_n2975_omicron_cases_sample_n_epo_2.sample_n = zero_filled_sample_n_epo_2\n",
    "\n",
    "BA115_DTA_102_n2975_omicron_cases_sample_n_epo_3 = pd.merge(\n",
    "    BA115_DTA_102_n2975_omicron_cases_epo_3,\n",
    "    BA115_DTA_102_n2975_tip_ltla[BA115_DTA_102_n2975_tip_ltla.epoch == 3\n",
    "                                ].groupby('ltla').count().reset_index().rename(columns={'ltla': 'origin'}),\n",
    "    on='origin', how='left').rename(columns={'name': 'sample_n'})[['origin', 'count_mean', 'sample_n']]\n",
    "zero_filled_sample_n_epo_3 = BA115_DTA_102_n2975_omicron_cases_sample_n_epo_3.sample_n.apply(\n",
    "    lambda x: 0 if pd.isna(x) else x)\n",
    "BA115_DTA_102_n2975_omicron_cases_sample_n_epo_3.sample_n = zero_filled_sample_n_epo_3\n",
    "\n"
   ]
  },
  {
   "cell_type": "markdown",
   "id": "geographic-tomato",
   "metadata": {},
   "source": [
    "#### Epoch-1"
   ]
  },
  {
   "cell_type": "code",
   "execution_count": 221,
   "id": "mexican-toner",
   "metadata": {},
   "outputs": [
    {
     "data": {
      "image/png": "[encoded data removed]",
      "text/plain": [
       "<Figure size 432x288 with 1 Axes>"
      ]
     },
     "metadata": {
      "needs_background": "light"
     },
     "output_type": "display_data"
    }
   ],
   "source": [
    "plt.scatter(BA115_DTA_102_n2975_omicron_cases_sample_n_epo_1.count_mean,\n",
    "            BA115_DTA_102_n2975_omicron_cases_sample_n_epo_1.sample_n)\n",
    "plt.show()\n"
   ]
  },
  {
   "cell_type": "code",
   "execution_count": 222,
   "id": "violent-cooling",
   "metadata": {},
   "outputs": [
    {
     "name": "stdout",
     "output_type": "stream",
     "text": [
      "                            OLS Regression Results                            \n",
      "==============================================================================\n",
      "Dep. Variable:               sample_n   R-squared:                       0.612\n",
      "Model:                            OLS   Adj. R-squared:                  0.610\n",
      "Method:                 Least Squares   F-statistic:                     395.2\n",
      "Date:                Mon, 19 Sep 2022   Prob (F-statistic):           1.85e-53\n",
      "Time:                        00:49:11   Log-Likelihood:                -649.20\n",
      "No. Observations:                 253   AIC:                             1302.\n",
      "Df Residuals:                     251   BIC:                             1309.\n",
      "Df Model:                           1                                         \n",
      "Covariance Type:            nonrobust                                         \n",
      "==============================================================================\n",
      "                 coef    std err          t      P>|t|      [0.025      0.975]\n",
      "------------------------------------------------------------------------------\n",
      "const         -0.8506      0.308     -2.766      0.006      -1.456      -0.245\n",
      "count_mean     0.0012   6.04e-05     19.879      0.000       0.001       0.001\n",
      "==============================================================================\n",
      "Omnibus:                       72.369   Durbin-Watson:                   1.593\n",
      "Prob(Omnibus):                  0.000   Jarque-Bera (JB):              701.868\n",
      "Skew:                           0.803   Prob(JB):                    3.90e-153\n",
      "Kurtosis:                      11.000   Cond. No.                     7.88e+03\n",
      "==============================================================================\n",
      "\n",
      "Notes:\n",
      "[1] Standard Errors assume that the covariance matrix of the errors is correctly specified.\n",
      "[2] The condition number is large, 7.88e+03. This might indicate that there are\n",
      "strong multicollinearity or other numerical problems.\n",
      "const        -0.850612\n",
      "count_mean    0.001200\n",
      "dtype: float64\n"
     ]
    },
    {
     "data": {
      "text/plain": [
       "0       0.140843\n",
       "1       0.915615\n",
       "2      -0.090542\n",
       "3      -1.120403\n",
       "4       1.100071\n",
       "         ...    \n",
       "248     4.609866\n",
       "249    -1.165852\n",
       "250     6.192136\n",
       "251    19.190358\n",
       "252     0.313073\n",
       "Length: 253, dtype: float64"
      ]
     },
     "execution_count": 222,
     "metadata": {},
     "output_type": "execute_result"
    }
   ],
   "source": [
    "X = sm.add_constant(BA115_DTA_102_n2975_omicron_cases_sample_n_epo_1.count_mean)\n",
    "BA115_DTA_102_n2975_reg_epo_1 = sm.OLS(\n",
    "    BA115_DTA_102_n2975_omicron_cases_sample_n_epo_1.sample_n,\n",
    "    X\n",
    ").fit()\n",
    "print(BA115_DTA_102_n2975_reg_epo_1.summary())\n",
    "print(BA115_DTA_102_n2975_reg_epo_1.params)\n",
    "BA115_DTA_102_n2975_reg_epo_1.resid\n"
   ]
  },
  {
   "cell_type": "code",
   "execution_count": 223,
   "id": "searching-diameter",
   "metadata": {},
   "outputs": [
    {
     "data": {
      "text/html": [
       "<div>\n",
       "<style scoped>\n",
       "    .dataframe tbody tr th:only-of-type {\n",
       "        vertical-align: middle;\n",
       "    }\n",
       "\n",
       "    .dataframe tbody tr th {\n",
       "        vertical-align: top;\n",
       "    }\n",
       "\n",
       "    .dataframe thead th {\n",
       "        text-align: right;\n",
       "    }\n",
       "</style>\n",
       "<table border=\"1\" class=\"dataframe\">\n",
       "  <thead>\n",
       "    <tr style=\"text-align: right;\">\n",
       "      <th></th>\n",
       "      <th>origin</th>\n",
       "      <th>count_mean</th>\n",
       "      <th>sample_n</th>\n",
       "      <th>resid</th>\n",
       "    </tr>\n",
       "  </thead>\n",
       "  <tbody>\n",
       "    <tr>\n",
       "      <th>0</th>\n",
       "      <td>E06000001</td>\n",
       "      <td>591.299227</td>\n",
       "      <td>0.0</td>\n",
       "      <td>0.140843</td>\n",
       "    </tr>\n",
       "    <tr>\n",
       "      <th>1</th>\n",
       "      <td>E06000002</td>\n",
       "      <td>778.934025</td>\n",
       "      <td>1.0</td>\n",
       "      <td>0.915615</td>\n",
       "    </tr>\n",
       "    <tr>\n",
       "      <th>2</th>\n",
       "      <td>E06000003</td>\n",
       "      <td>784.063839</td>\n",
       "      <td>0.0</td>\n",
       "      <td>-0.090542</td>\n",
       "    </tr>\n",
       "    <tr>\n",
       "      <th>3</th>\n",
       "      <td>E06000004</td>\n",
       "      <td>1642.027968</td>\n",
       "      <td>0.0</td>\n",
       "      <td>-1.120403</td>\n",
       "    </tr>\n",
       "    <tr>\n",
       "      <th>4</th>\n",
       "      <td>E06000005</td>\n",
       "      <td>625.266190</td>\n",
       "      <td>1.0</td>\n",
       "      <td>1.100071</td>\n",
       "    </tr>\n",
       "    <tr>\n",
       "      <th>...</th>\n",
       "      <td>...</td>\n",
       "      <td>...</td>\n",
       "      <td>...</td>\n",
       "      <td>...</td>\n",
       "    </tr>\n",
       "    <tr>\n",
       "      <th>248</th>\n",
       "      <td>E09000029</td>\n",
       "      <td>6865.262705</td>\n",
       "      <td>12.0</td>\n",
       "      <td>4.609866</td>\n",
       "    </tr>\n",
       "    <tr>\n",
       "      <th>249</th>\n",
       "      <td>E09000030</td>\n",
       "      <td>12510.029404</td>\n",
       "      <td>13.0</td>\n",
       "      <td>-1.165852</td>\n",
       "    </tr>\n",
       "    <tr>\n",
       "      <th>250</th>\n",
       "      <td>E09000031</td>\n",
       "      <td>9712.531218</td>\n",
       "      <td>17.0</td>\n",
       "      <td>6.192136</td>\n",
       "    </tr>\n",
       "    <tr>\n",
       "      <th>251</th>\n",
       "      <td>E09000032</td>\n",
       "      <td>16378.712868</td>\n",
       "      <td>38.0</td>\n",
       "      <td>19.190358</td>\n",
       "    </tr>\n",
       "    <tr>\n",
       "      <th>252</th>\n",
       "      <td>E09000033</td>\n",
       "      <td>7112.517028</td>\n",
       "      <td>8.0</td>\n",
       "      <td>0.313073</td>\n",
       "    </tr>\n",
       "  </tbody>\n",
       "</table>\n",
       "<p>253 rows × 4 columns</p>\n",
       "</div>"
      ],
      "text/plain": [
       "        origin    count_mean  sample_n      resid\n",
       "0    E06000001    591.299227       0.0   0.140843\n",
       "1    E06000002    778.934025       1.0   0.915615\n",
       "2    E06000003    784.063839       0.0  -0.090542\n",
       "3    E06000004   1642.027968       0.0  -1.120403\n",
       "4    E06000005    625.266190       1.0   1.100071\n",
       "..         ...           ...       ...        ...\n",
       "248  E09000029   6865.262705      12.0   4.609866\n",
       "249  E09000030  12510.029404      13.0  -1.165852\n",
       "250  E09000031   9712.531218      17.0   6.192136\n",
       "251  E09000032  16378.712868      38.0  19.190358\n",
       "252  E09000033   7112.517028       8.0   0.313073\n",
       "\n",
       "[253 rows x 4 columns]"
      ]
     },
     "execution_count": 223,
     "metadata": {},
     "output_type": "execute_result"
    }
   ],
   "source": [
    "BA115_DTA_102_n2975_omicron_cases_sample_n_epo_1['resid'] = BA115_DTA_102_n2975_reg_epo_1.resid\n",
    "BA115_DTA_102_n2975_omicron_cases_sample_n_epo_1\n"
   ]
  },
  {
   "cell_type": "code",
   "execution_count": 224,
   "id": "answering-cinema",
   "metadata": {},
   "outputs": [
    {
     "data": {
      "text/plain": [
       "<matplotlib.collections.PathCollection at 0x7fd14efa2350>"
      ]
     },
     "execution_count": 224,
     "metadata": {},
     "output_type": "execute_result"
    },
    {
     "data": {
      "image/png": "[encoded data removed]",
      "text/plain": [
       "<Figure size 432x288 with 1 Axes>"
      ]
     },
     "metadata": {
      "needs_background": "light"
     },
     "output_type": "display_data"
    }
   ],
   "source": [
    "plt.scatter([i for i in range(len(BA115_DTA_102_n2975_omicron_cases_sample_n_epo_1.resid))],\n",
    "            BA115_DTA_102_n2975_omicron_cases_sample_n_epo_1.resid)\n"
   ]
  },
  {
   "cell_type": "code",
   "execution_count": 225,
   "id": "accredited-bailey",
   "metadata": {},
   "outputs": [],
   "source": [
    "with open('./BA.1.15_DTA_102_n2975/ltla_residual_epo_1.tsv', 'w+') as outfile:\n",
    "    outfile.write('ltla\\tresidual\\n')\n",
    "    outfile.write('\\n'.join(['%s\\t%s' % (row.origin, row.resid)\n",
    "                             for index, row in BA115_DTA_102_n2975_omicron_cases_sample_n_epo_1.iterrows()]))\n",
    "    "
   ]
  },
  {
   "cell_type": "markdown",
   "id": "leading-stomach",
   "metadata": {},
   "source": [
    "#### Epoch-2"
   ]
  },
  {
   "cell_type": "code",
   "execution_count": 226,
   "id": "flush-drawing",
   "metadata": {},
   "outputs": [
    {
     "data": {
      "image/png": "[encoded data removed]",
      "text/plain": [
       "<Figure size 432x288 with 1 Axes>"
      ]
     },
     "metadata": {
      "needs_background": "light"
     },
     "output_type": "display_data"
    }
   ],
   "source": [
    "plt.scatter(BA115_DTA_102_n2975_omicron_cases_sample_n_epo_2.count_mean,\n",
    "            BA115_DTA_102_n2975_omicron_cases_sample_n_epo_2.sample_n)\n",
    "plt.show()\n"
   ]
  },
  {
   "cell_type": "code",
   "execution_count": 227,
   "id": "minor-spectrum",
   "metadata": {},
   "outputs": [
    {
     "name": "stdout",
     "output_type": "stream",
     "text": [
      "                            OLS Regression Results                            \n",
      "==============================================================================\n",
      "Dep. Variable:               sample_n   R-squared:                       0.579\n",
      "Model:                            OLS   Adj. R-squared:                  0.578\n",
      "Method:                 Least Squares   F-statistic:                     345.8\n",
      "Date:                Mon, 19 Sep 2022   Prob (F-statistic):           4.06e-49\n",
      "Time:                        00:54:52   Log-Likelihood:                -600.19\n",
      "No. Observations:                 253   AIC:                             1204.\n",
      "Df Residuals:                     251   BIC:                             1211.\n",
      "Df Model:                           1                                         \n",
      "Covariance Type:            nonrobust                                         \n",
      "==============================================================================\n",
      "                 coef    std err          t      P>|t|      [0.025      0.975]\n",
      "------------------------------------------------------------------------------\n",
      "const          0.6255      0.278      2.253      0.025       0.079       1.172\n",
      "count_mean     0.0005   2.52e-05     18.597      0.000       0.000       0.001\n",
      "==============================================================================\n",
      "Omnibus:                       42.066   Durbin-Watson:                   1.739\n",
      "Prob(Omnibus):                  0.000   Jarque-Bera (JB):               72.466\n",
      "Skew:                           0.908   Prob(JB):                     1.84e-16\n",
      "Kurtosis:                       4.891   Cond. No.                     1.87e+04\n",
      "==============================================================================\n",
      "\n",
      "Notes:\n",
      "[1] Standard Errors assume that the covariance matrix of the errors is correctly specified.\n",
      "[2] The condition number is large, 1.87e+04. This might indicate that there are\n",
      "strong multicollinearity or other numerical problems.\n",
      "const         0.625470\n",
      "count_mean    0.000469\n",
      "dtype: float64\n"
     ]
    },
    {
     "data": {
      "text/plain": [
       "0     -0.444948\n",
       "1     -2.032855\n",
       "2      1.321670\n",
       "3     -2.666259\n",
       "4     -1.128022\n",
       "         ...   \n",
       "248    1.297104\n",
       "249    1.644299\n",
       "250    4.193962\n",
       "251    3.930307\n",
       "252    2.405988\n",
       "Length: 253, dtype: float64"
      ]
     },
     "execution_count": 227,
     "metadata": {},
     "output_type": "execute_result"
    }
   ],
   "source": [
    "X = sm.add_constant(BA115_DTA_102_n2975_omicron_cases_sample_n_epo_2.count_mean)\n",
    "BA115_DTA_102_n2975_reg_epo_2 = sm.OLS(\n",
    "    BA115_DTA_102_n2975_omicron_cases_sample_n_epo_2.sample_n,\n",
    "    X\n",
    ").fit()\n",
    "print(BA115_DTA_102_n2975_reg_epo_2.summary())\n",
    "print(BA115_DTA_102_n2975_reg_epo_2.params)\n",
    "BA115_DTA_102_n2975_reg_epo_2.resid\n"
   ]
  },
  {
   "cell_type": "code",
   "execution_count": 228,
   "id": "extended-priority",
   "metadata": {},
   "outputs": [
    {
     "data": {
      "text/html": [
       "<div>\n",
       "<style scoped>\n",
       "    .dataframe tbody tr th:only-of-type {\n",
       "        vertical-align: middle;\n",
       "    }\n",
       "\n",
       "    .dataframe tbody tr th {\n",
       "        vertical-align: top;\n",
       "    }\n",
       "\n",
       "    .dataframe thead th {\n",
       "        text-align: right;\n",
       "    }\n",
       "</style>\n",
       "<table border=\"1\" class=\"dataframe\">\n",
       "  <thead>\n",
       "    <tr style=\"text-align: right;\">\n",
       "      <th></th>\n",
       "      <th>origin</th>\n",
       "      <th>count_mean</th>\n",
       "      <th>sample_n</th>\n",
       "      <th>resid</th>\n",
       "    </tr>\n",
       "  </thead>\n",
       "  <tbody>\n",
       "    <tr>\n",
       "      <th>0</th>\n",
       "      <td>E06000001</td>\n",
       "      <td>6013.218639</td>\n",
       "      <td>3.0</td>\n",
       "      <td>-0.444948</td>\n",
       "    </tr>\n",
       "    <tr>\n",
       "      <th>1</th>\n",
       "      <td>E06000002</td>\n",
       "      <td>9399.812953</td>\n",
       "      <td>3.0</td>\n",
       "      <td>-2.032855</td>\n",
       "    </tr>\n",
       "    <tr>\n",
       "      <th>2</th>\n",
       "      <td>E06000003</td>\n",
       "      <td>8643.702112</td>\n",
       "      <td>6.0</td>\n",
       "      <td>1.321670</td>\n",
       "    </tr>\n",
       "    <tr>\n",
       "      <th>3</th>\n",
       "      <td>E06000004</td>\n",
       "      <td>12883.440526</td>\n",
       "      <td>4.0</td>\n",
       "      <td>-2.666259</td>\n",
       "    </tr>\n",
       "    <tr>\n",
       "      <th>4</th>\n",
       "      <td>E06000005</td>\n",
       "      <td>5337.296844</td>\n",
       "      <td>2.0</td>\n",
       "      <td>-1.128022</td>\n",
       "    </tr>\n",
       "    <tr>\n",
       "      <th>...</th>\n",
       "      <td>...</td>\n",
       "      <td>...</td>\n",
       "      <td>...</td>\n",
       "      <td>...</td>\n",
       "    </tr>\n",
       "    <tr>\n",
       "      <th>248</th>\n",
       "      <td>E09000029</td>\n",
       "      <td>8696.094999</td>\n",
       "      <td>6.0</td>\n",
       "      <td>1.297104</td>\n",
       "    </tr>\n",
       "    <tr>\n",
       "      <th>249</th>\n",
       "      <td>E09000030</td>\n",
       "      <td>12221.102257</td>\n",
       "      <td>8.0</td>\n",
       "      <td>1.644299</td>\n",
       "    </tr>\n",
       "    <tr>\n",
       "      <th>250</th>\n",
       "      <td>E09000031</td>\n",
       "      <td>11048.812696</td>\n",
       "      <td>10.0</td>\n",
       "      <td>4.193962</td>\n",
       "    </tr>\n",
       "    <tr>\n",
       "      <th>251</th>\n",
       "      <td>E09000032</td>\n",
       "      <td>11611.121439</td>\n",
       "      <td>10.0</td>\n",
       "      <td>3.930307</td>\n",
       "    </tr>\n",
       "    <tr>\n",
       "      <th>252</th>\n",
       "      <td>E09000033</td>\n",
       "      <td>6331.133605</td>\n",
       "      <td>6.0</td>\n",
       "      <td>2.405988</td>\n",
       "    </tr>\n",
       "  </tbody>\n",
       "</table>\n",
       "<p>253 rows × 4 columns</p>\n",
       "</div>"
      ],
      "text/plain": [
       "        origin    count_mean  sample_n     resid\n",
       "0    E06000001   6013.218639       3.0 -0.444948\n",
       "1    E06000002   9399.812953       3.0 -2.032855\n",
       "2    E06000003   8643.702112       6.0  1.321670\n",
       "3    E06000004  12883.440526       4.0 -2.666259\n",
       "4    E06000005   5337.296844       2.0 -1.128022\n",
       "..         ...           ...       ...       ...\n",
       "248  E09000029   8696.094999       6.0  1.297104\n",
       "249  E09000030  12221.102257       8.0  1.644299\n",
       "250  E09000031  11048.812696      10.0  4.193962\n",
       "251  E09000032  11611.121439      10.0  3.930307\n",
       "252  E09000033   6331.133605       6.0  2.405988\n",
       "\n",
       "[253 rows x 4 columns]"
      ]
     },
     "execution_count": 228,
     "metadata": {},
     "output_type": "execute_result"
    }
   ],
   "source": [
    "BA115_DTA_102_n2975_omicron_cases_sample_n_epo_2['resid'] = BA115_DTA_102_n2975_reg_epo_2.resid\n",
    "BA115_DTA_102_n2975_omicron_cases_sample_n_epo_2\n"
   ]
  },
  {
   "cell_type": "code",
   "execution_count": 229,
   "id": "cutting-triumph",
   "metadata": {},
   "outputs": [
    {
     "data": {
      "text/plain": [
       "<matplotlib.collections.PathCollection at 0x7fd14eedd950>"
      ]
     },
     "execution_count": 229,
     "metadata": {},
     "output_type": "execute_result"
    },
    {
     "data": {
      "image/png": "[encoded data removed]",
      "text/plain": [
       "<Figure size 432x288 with 1 Axes>"
      ]
     },
     "metadata": {
      "needs_background": "light"
     },
     "output_type": "display_data"
    }
   ],
   "source": [
    "plt.scatter([i for i in range(len(BA115_DTA_102_n2975_omicron_cases_sample_n_epo_2.resid))],\n",
    "            BA115_DTA_102_n2975_omicron_cases_sample_n_epo_2.resid)\n"
   ]
  },
  {
   "cell_type": "code",
   "execution_count": 230,
   "id": "threaded-western",
   "metadata": {},
   "outputs": [],
   "source": [
    "with open('./BA.1.15_DTA_102_n2975/ltla_residual_epo_2.tsv', 'w+') as outfile:\n",
    "    outfile.write('ltla\\tresidual\\n')\n",
    "    outfile.write('\\n'.join(['%s\\t%s' % (row.origin, row.resid)\n",
    "                             for index, row in BA115_DTA_102_n2975_omicron_cases_sample_n_epo_2.iterrows()]))\n",
    "    "
   ]
  },
  {
   "cell_type": "markdown",
   "id": "defensive-baker",
   "metadata": {},
   "source": [
    "#### Epoch-3"
   ]
  },
  {
   "cell_type": "code",
   "execution_count": 231,
   "id": "altered-cream",
   "metadata": {},
   "outputs": [
    {
     "data": {
      "image/png": "[encoded data removed]",
      "text/plain": [
       "<Figure size 432x288 with 1 Axes>"
      ]
     },
     "metadata": {
      "needs_background": "light"
     },
     "output_type": "display_data"
    }
   ],
   "source": [
    "plt.scatter(BA115_DTA_102_n2975_omicron_cases_sample_n_epo_3.count_mean,\n",
    "            BA115_DTA_102_n2975_omicron_cases_sample_n_epo_3.sample_n)\n",
    "plt.show()\n"
   ]
  },
  {
   "cell_type": "code",
   "execution_count": 232,
   "id": "annual-collect",
   "metadata": {},
   "outputs": [
    {
     "name": "stdout",
     "output_type": "stream",
     "text": [
      "                            OLS Regression Results                            \n",
      "==============================================================================\n",
      "Dep. Variable:               sample_n   R-squared:                       0.378\n",
      "Model:                            OLS   Adj. R-squared:                  0.376\n",
      "Method:                 Least Squares   F-statistic:                     152.9\n",
      "Date:                Mon, 19 Sep 2022   Prob (F-statistic):           9.73e-28\n",
      "Time:                        00:56:04   Log-Likelihood:                -566.80\n",
      "No. Observations:                 253   AIC:                             1138.\n",
      "Df Residuals:                     251   BIC:                             1145.\n",
      "Df Model:                           1                                         \n",
      "Covariance Type:            nonrobust                                         \n",
      "==============================================================================\n",
      "                 coef    std err          t      P>|t|      [0.025      0.975]\n",
      "------------------------------------------------------------------------------\n",
      "const          0.6040      0.251      2.406      0.017       0.110       1.098\n",
      "count_mean     0.0007   5.34e-05     12.363      0.000       0.001       0.001\n",
      "==============================================================================\n",
      "Omnibus:                       41.757   Durbin-Watson:                   1.666\n",
      "Prob(Omnibus):                  0.000   Jarque-Bera (JB):               82.125\n",
      "Skew:                           0.844   Prob(JB):                     1.47e-18\n",
      "Kurtosis:                       5.223   Cond. No.                     8.22e+03\n",
      "==============================================================================\n",
      "\n",
      "Notes:\n",
      "[1] Standard Errors assume that the covariance matrix of the errors is correctly specified.\n",
      "[2] The condition number is large, 8.22e+03. This might indicate that there are\n",
      "strong multicollinearity or other numerical problems.\n",
      "const         0.603987\n",
      "count_mean    0.000661\n",
      "dtype: float64\n"
     ]
    },
    {
     "data": {
      "text/plain": [
       "0     -1.926722\n",
       "1     -2.482234\n",
       "2     -2.297557\n",
       "3     -3.497178\n",
       "4     -1.422311\n",
       "         ...   \n",
       "248    0.758117\n",
       "249   -1.465013\n",
       "250   -0.266880\n",
       "251    1.842313\n",
       "252   -1.415510\n",
       "Length: 253, dtype: float64"
      ]
     },
     "execution_count": 232,
     "metadata": {},
     "output_type": "execute_result"
    }
   ],
   "source": [
    "X = sm.add_constant(BA115_DTA_102_n2975_omicron_cases_sample_n_epo_3.count_mean)\n",
    "BA115_DTA_102_n2975_reg_epo_3 = sm.OLS(\n",
    "    BA115_DTA_102_n2975_omicron_cases_sample_n_epo_3.sample_n,\n",
    "    X\n",
    ").fit()\n",
    "print(BA115_DTA_102_n2975_reg_epo_3.summary())\n",
    "print(BA115_DTA_102_n2975_reg_epo_3.params)\n",
    "BA115_DTA_102_n2975_reg_epo_3.resid\n"
   ]
  },
  {
   "cell_type": "code",
   "execution_count": 233,
   "id": "regulation-cincinnati",
   "metadata": {},
   "outputs": [
    {
     "data": {
      "text/html": [
       "<div>\n",
       "<style scoped>\n",
       "    .dataframe tbody tr th:only-of-type {\n",
       "        vertical-align: middle;\n",
       "    }\n",
       "\n",
       "    .dataframe tbody tr th {\n",
       "        vertical-align: top;\n",
       "    }\n",
       "\n",
       "    .dataframe thead th {\n",
       "        text-align: right;\n",
       "    }\n",
       "</style>\n",
       "<table border=\"1\" class=\"dataframe\">\n",
       "  <thead>\n",
       "    <tr style=\"text-align: right;\">\n",
       "      <th></th>\n",
       "      <th>origin</th>\n",
       "      <th>count_mean</th>\n",
       "      <th>sample_n</th>\n",
       "      <th>resid</th>\n",
       "    </tr>\n",
       "  </thead>\n",
       "  <tbody>\n",
       "    <tr>\n",
       "      <th>0</th>\n",
       "      <td>E06000001</td>\n",
       "      <td>2002.165508</td>\n",
       "      <td>0.0</td>\n",
       "      <td>-1.926722</td>\n",
       "    </tr>\n",
       "    <tr>\n",
       "      <th>1</th>\n",
       "      <td>E06000002</td>\n",
       "      <td>2843.019016</td>\n",
       "      <td>0.0</td>\n",
       "      <td>-2.482234</td>\n",
       "    </tr>\n",
       "    <tr>\n",
       "      <th>2</th>\n",
       "      <td>E06000003</td>\n",
       "      <td>2563.482609</td>\n",
       "      <td>0.0</td>\n",
       "      <td>-2.297557</td>\n",
       "    </tr>\n",
       "    <tr>\n",
       "      <th>3</th>\n",
       "      <td>E06000004</td>\n",
       "      <td>4379.295321</td>\n",
       "      <td>0.0</td>\n",
       "      <td>-3.497178</td>\n",
       "    </tr>\n",
       "    <tr>\n",
       "      <th>4</th>\n",
       "      <td>E06000005</td>\n",
       "      <td>2752.316726</td>\n",
       "      <td>1.0</td>\n",
       "      <td>-1.422311</td>\n",
       "    </tr>\n",
       "    <tr>\n",
       "      <th>...</th>\n",
       "      <td>...</td>\n",
       "      <td>...</td>\n",
       "      <td>...</td>\n",
       "      <td>...</td>\n",
       "    </tr>\n",
       "    <tr>\n",
       "      <th>248</th>\n",
       "      <td>E09000029</td>\n",
       "      <td>3992.865846</td>\n",
       "      <td>4.0</td>\n",
       "      <td>0.758117</td>\n",
       "    </tr>\n",
       "    <tr>\n",
       "      <th>249</th>\n",
       "      <td>E09000030</td>\n",
       "      <td>4330.607922</td>\n",
       "      <td>2.0</td>\n",
       "      <td>-1.465013</td>\n",
       "    </tr>\n",
       "    <tr>\n",
       "      <th>250</th>\n",
       "      <td>E09000031</td>\n",
       "      <td>4030.702329</td>\n",
       "      <td>3.0</td>\n",
       "      <td>-0.266880</td>\n",
       "    </tr>\n",
       "    <tr>\n",
       "      <th>251</th>\n",
       "      <td>E09000032</td>\n",
       "      <td>5379.078310</td>\n",
       "      <td>6.0</td>\n",
       "      <td>1.842313</td>\n",
       "    </tr>\n",
       "    <tr>\n",
       "      <th>252</th>\n",
       "      <td>E09000033</td>\n",
       "      <td>2742.022294</td>\n",
       "      <td>1.0</td>\n",
       "      <td>-1.415510</td>\n",
       "    </tr>\n",
       "  </tbody>\n",
       "</table>\n",
       "<p>253 rows × 4 columns</p>\n",
       "</div>"
      ],
      "text/plain": [
       "        origin   count_mean  sample_n     resid\n",
       "0    E06000001  2002.165508       0.0 -1.926722\n",
       "1    E06000002  2843.019016       0.0 -2.482234\n",
       "2    E06000003  2563.482609       0.0 -2.297557\n",
       "3    E06000004  4379.295321       0.0 -3.497178\n",
       "4    E06000005  2752.316726       1.0 -1.422311\n",
       "..         ...          ...       ...       ...\n",
       "248  E09000029  3992.865846       4.0  0.758117\n",
       "249  E09000030  4330.607922       2.0 -1.465013\n",
       "250  E09000031  4030.702329       3.0 -0.266880\n",
       "251  E09000032  5379.078310       6.0  1.842313\n",
       "252  E09000033  2742.022294       1.0 -1.415510\n",
       "\n",
       "[253 rows x 4 columns]"
      ]
     },
     "execution_count": 233,
     "metadata": {},
     "output_type": "execute_result"
    }
   ],
   "source": [
    "BA115_DTA_102_n2975_omicron_cases_sample_n_epo_3['resid'] = BA115_DTA_102_n2975_reg_epo_3.resid\n",
    "BA115_DTA_102_n2975_omicron_cases_sample_n_epo_3\n"
   ]
  },
  {
   "cell_type": "code",
   "execution_count": 234,
   "id": "adolescent-friday",
   "metadata": {},
   "outputs": [
    {
     "data": {
      "text/plain": [
       "<matplotlib.collections.PathCollection at 0x7fd14f22d910>"
      ]
     },
     "execution_count": 234,
     "metadata": {},
     "output_type": "execute_result"
    },
    {
     "data": {
      "image/png": "[encoded data removed]",
      "text/plain": [
       "<Figure size 432x288 with 1 Axes>"
      ]
     },
     "metadata": {
      "needs_background": "light"
     },
     "output_type": "display_data"
    }
   ],
   "source": [
    "plt.scatter([i for i in range(len(BA115_DTA_102_n2975_omicron_cases_sample_n_epo_3.resid))],\n",
    "            BA115_DTA_102_n2975_omicron_cases_sample_n_epo_3.resid)\n"
   ]
  },
  {
   "cell_type": "code",
   "execution_count": 235,
   "id": "marked-prize",
   "metadata": {},
   "outputs": [],
   "source": [
    "with open('./BA.1.15_DTA_102_n2975/ltla_residual_epo_3.tsv', 'w+') as outfile:\n",
    "    outfile.write('ltla\\tresidual\\n')\n",
    "    outfile.write('\\n'.join(['%s\\t%s' % (row.origin, row.resid)\n",
    "                             for index, row in BA115_DTA_102_n2975_omicron_cases_sample_n_epo_3.iterrows()]))\n",
    "    "
   ]
  },
  {
   "cell_type": "markdown",
   "id": "cardiovascular-defense",
   "metadata": {},
   "source": [
    "## Merge LTLAs for BA.1.17_DTA_175_n11351"
   ]
  },
  {
   "cell_type": "code",
   "execution_count": 236,
   "id": "valuable-cooperative",
   "metadata": {},
   "outputs": [],
   "source": [
    "BA117_DTA_175_n11351_mergers_rev_dict = dict(zip(BA117_DTA_175_n11351_mergers_rev.child_ltla.values,\n",
    "                                                 BA117_DTA_175_n11351_mergers_rev.parent_ltla.values))\n",
    "\n",
    "BA117_DTA_175_n11351_omicron_cases_study = omicron_cases.copy()\n",
    "BA117_DTA_175_n11351_omicron_cases_study.origin = BA117_DTA_175_n11351_omicron_cases_study.origin.apply(\n",
    "    lambda x: BA117_DTA_175_n11351_mergers_rev_dict[x] if x in BA117_DTA_175_n11351_mergers_rev_dict else x\n",
    ")\n",
    "BA117_DTA_175_n11351_omicron_cases_study = BA117_DTA_175_n11351_omicron_cases_study[\n",
    "    BA117_DTA_175_n11351_omicron_cases_study.origin.isin(BA117_DTA_175_n11351_tip_ltla.ltla.unique().tolist())]\n",
    "\n",
    "BA117_DTA_175_n11351_omicron_cases_epo_1 = BA117_DTA_175_n11351_omicron_cases_study[\n",
    "    (BA117_DTA_175_n11351_omicron_cases_study.epoch == 1) &\n",
    "    (BA117_DTA_175_n11351_omicron_cases_study.date >= dec2date(BA117_DTA_175_n11351_import_est, get_str=True))\n",
    "].groupby('origin').agg({'count_mean': 'sum'}).reset_index()\n",
    "\n",
    "BA117_DTA_175_n11351_omicron_cases_epo_2 = BA117_DTA_175_n11351_omicron_cases_study[\n",
    "    BA117_DTA_175_n11351_omicron_cases_study.epoch == 2\n",
    "].groupby('origin').agg({'count_mean': 'sum'}).reset_index()\n",
    "\n",
    "BA117_DTA_175_n11351_omicron_cases_epo_3 = BA117_DTA_175_n11351_omicron_cases_study[\n",
    "    BA117_DTA_175_n11351_omicron_cases_study.epoch == 3\n",
    "].groupby('origin').agg({'count_mean': 'sum'}).reset_index()\n"
   ]
  },
  {
   "cell_type": "code",
   "execution_count": 237,
   "id": "emotional-credit",
   "metadata": {},
   "outputs": [],
   "source": [
    "BA117_DTA_175_n11351_omicron_cases_sample_n_epo_1 = pd.merge(\n",
    "    BA117_DTA_175_n11351_omicron_cases_epo_1,\n",
    "    BA117_DTA_175_n11351_tip_ltla[BA117_DTA_175_n11351_tip_ltla.epoch == 1\n",
    "                                 ].groupby('ltla').count().reset_index().rename(columns={'ltla': 'origin'}),\n",
    "    on='origin', how='left').rename(columns={'name': 'sample_n'})[['origin', 'count_mean', 'sample_n']]\n",
    "zero_filled_sample_n_epo_1 = BA117_DTA_175_n11351_omicron_cases_sample_n_epo_1.sample_n.apply(\n",
    "    lambda x: 0 if pd.isna(x) else x)\n",
    "BA117_DTA_175_n11351_omicron_cases_sample_n_epo_1.sample_n = zero_filled_sample_n_epo_1\n",
    "\n",
    "BA117_DTA_175_n11351_omicron_cases_sample_n_epo_2 = pd.merge(\n",
    "    BA117_DTA_175_n11351_omicron_cases_epo_2,\n",
    "    BA117_DTA_175_n11351_tip_ltla[BA117_DTA_175_n11351_tip_ltla.epoch == 2\n",
    "                                 ].groupby('ltla').count().reset_index().rename(columns={'ltla': 'origin'}),\n",
    "    on='origin', how='left').rename(columns={'name': 'sample_n'})[['origin', 'count_mean', 'sample_n']]\n",
    "zero_filled_sample_n_epo_2 = BA117_DTA_175_n11351_omicron_cases_sample_n_epo_2.sample_n.apply(\n",
    "    lambda x: 0 if pd.isna(x) else x)\n",
    "BA117_DTA_175_n11351_omicron_cases_sample_n_epo_2.sample_n = zero_filled_sample_n_epo_2\n",
    "\n",
    "BA117_DTA_175_n11351_omicron_cases_sample_n_epo_3 = pd.merge(\n",
    "    BA117_DTA_175_n11351_omicron_cases_epo_3,\n",
    "    BA117_DTA_175_n11351_tip_ltla[BA117_DTA_175_n11351_tip_ltla.epoch == 3\n",
    "                                 ].groupby('ltla').count().reset_index().rename(columns={'ltla': 'origin'}),\n",
    "    on='origin', how='left').rename(columns={'name': 'sample_n'})[['origin', 'count_mean', 'sample_n']]\n",
    "zero_filled_sample_n_epo_3 = BA117_DTA_175_n11351_omicron_cases_sample_n_epo_3.sample_n.apply(\n",
    "    lambda x: 0 if pd.isna(x) else x)\n",
    "BA117_DTA_175_n11351_omicron_cases_sample_n_epo_3.sample_n = zero_filled_sample_n_epo_3\n"
   ]
  },
  {
   "cell_type": "markdown",
   "id": "intended-lindsay",
   "metadata": {},
   "source": [
    "#### Epoch-1"
   ]
  },
  {
   "cell_type": "code",
   "execution_count": 245,
   "id": "aggressive-tours",
   "metadata": {},
   "outputs": [
    {
     "data": {
      "image/png": "[encoded data removed]",
      "text/plain": [
       "<Figure size 432x288 with 1 Axes>"
      ]
     },
     "metadata": {
      "needs_background": "light"
     },
     "output_type": "display_data"
    }
   ],
   "source": [
    "plt.scatter(BA117_DTA_175_n11351_omicron_cases_sample_n_epo_1.count_mean,\n",
    "            BA117_DTA_175_n11351_omicron_cases_sample_n_epo_1.sample_n)\n",
    "plt.show()\n"
   ]
  },
  {
   "cell_type": "code",
   "execution_count": 246,
   "id": "flying-lottery",
   "metadata": {},
   "outputs": [
    {
     "name": "stdout",
     "output_type": "stream",
     "text": [
      "                            OLS Regression Results                            \n",
      "==============================================================================\n",
      "Dep. Variable:               sample_n   R-squared:                       0.683\n",
      "Model:                            OLS   Adj. R-squared:                  0.682\n",
      "Method:                 Least Squares   F-statistic:                     540.3\n",
      "Date:                Mon, 19 Sep 2022   Prob (F-statistic):           1.59e-64\n",
      "Time:                        01:04:09   Log-Likelihood:                -836.39\n",
      "No. Observations:                 253   AIC:                             1677.\n",
      "Df Residuals:                     251   BIC:                             1684.\n",
      "Df Model:                           1                                         \n",
      "Covariance Type:            nonrobust                                         \n",
      "==============================================================================\n",
      "                 coef    std err          t      P>|t|      [0.025      0.975]\n",
      "------------------------------------------------------------------------------\n",
      "const          0.6559      0.637      1.030      0.304      -0.598       1.910\n",
      "count_mean     0.0028      0.000     23.244      0.000       0.003       0.003\n",
      "==============================================================================\n",
      "Omnibus:                       89.949   Durbin-Watson:                   1.393\n",
      "Prob(Omnibus):                  0.000   Jarque-Bera (JB):              506.561\n",
      "Skew:                           1.297   Prob(JB):                    1.00e-110\n",
      "Kurtosis:                       9.429   Cond. No.                     8.09e+03\n",
      "==============================================================================\n",
      "\n",
      "Notes:\n",
      "[1] Standard Errors assume that the covariance matrix of the errors is correctly specified.\n",
      "[2] The condition number is large, 8.09e+03. This might indicate that there are\n",
      "strong multicollinearity or other numerical problems.\n",
      "const         0.655880\n",
      "count_mean    0.002797\n",
      "dtype: float64\n"
     ]
    },
    {
     "data": {
      "text/plain": [
       "0     -2.354029\n",
       "1     -0.877916\n",
       "2     -1.880107\n",
       "3     -0.283271\n",
       "4     -2.479512\n",
       "         ...   \n",
       "248   -4.443504\n",
       "249   -9.767009\n",
       "250   -2.917900\n",
       "251    5.365496\n",
       "252    5.363759\n",
       "Length: 253, dtype: float64"
      ]
     },
     "execution_count": 246,
     "metadata": {},
     "output_type": "execute_result"
    }
   ],
   "source": [
    "X = sm.add_constant(BA117_DTA_175_n11351_omicron_cases_sample_n_epo_1.count_mean)\n",
    "BA117_DTA_175_n11351_reg_epo_1 = sm.OLS(\n",
    "    BA117_DTA_175_n11351_omicron_cases_sample_n_epo_1.sample_n,\n",
    "    X\n",
    ").fit()\n",
    "print(BA117_DTA_175_n11351_reg_epo_1.summary())\n",
    "print(BA117_DTA_175_n11351_reg_epo_1.params)\n",
    "BA117_DTA_175_n11351_reg_epo_1.resid\n"
   ]
  },
  {
   "cell_type": "code",
   "execution_count": 247,
   "id": "british-serve",
   "metadata": {},
   "outputs": [
    {
     "data": {
      "text/html": [
       "<div>\n",
       "<style scoped>\n",
       "    .dataframe tbody tr th:only-of-type {\n",
       "        vertical-align: middle;\n",
       "    }\n",
       "\n",
       "    .dataframe tbody tr th {\n",
       "        vertical-align: top;\n",
       "    }\n",
       "\n",
       "    .dataframe thead th {\n",
       "        text-align: right;\n",
       "    }\n",
       "</style>\n",
       "<table border=\"1\" class=\"dataframe\">\n",
       "  <thead>\n",
       "    <tr style=\"text-align: right;\">\n",
       "      <th></th>\n",
       "      <th>origin</th>\n",
       "      <th>count_mean</th>\n",
       "      <th>sample_n</th>\n",
       "      <th>resid</th>\n",
       "    </tr>\n",
       "  </thead>\n",
       "  <tbody>\n",
       "    <tr>\n",
       "      <th>0</th>\n",
       "      <td>E06000001</td>\n",
       "      <td>607.123093</td>\n",
       "      <td>0.0</td>\n",
       "      <td>-2.354029</td>\n",
       "    </tr>\n",
       "    <tr>\n",
       "      <th>1</th>\n",
       "      <td>E06000002</td>\n",
       "      <td>794.423295</td>\n",
       "      <td>2.0</td>\n",
       "      <td>-0.877916</td>\n",
       "    </tr>\n",
       "    <tr>\n",
       "      <th>2</th>\n",
       "      <td>E06000003</td>\n",
       "      <td>795.206687</td>\n",
       "      <td>1.0</td>\n",
       "      <td>-1.880107</td>\n",
       "    </tr>\n",
       "    <tr>\n",
       "      <th>3</th>\n",
       "      <td>E06000004</td>\n",
       "      <td>1654.386810</td>\n",
       "      <td>5.0</td>\n",
       "      <td>-0.283271</td>\n",
       "    </tr>\n",
       "    <tr>\n",
       "      <th>4</th>\n",
       "      <td>E06000005</td>\n",
       "      <td>651.985620</td>\n",
       "      <td>0.0</td>\n",
       "      <td>-2.479512</td>\n",
       "    </tr>\n",
       "    <tr>\n",
       "      <th>...</th>\n",
       "      <td>...</td>\n",
       "      <td>...</td>\n",
       "      <td>...</td>\n",
       "      <td>...</td>\n",
       "    </tr>\n",
       "    <tr>\n",
       "      <th>248</th>\n",
       "      <td>E09000029</td>\n",
       "      <td>9219.602163</td>\n",
       "      <td>22.0</td>\n",
       "      <td>-4.443504</td>\n",
       "    </tr>\n",
       "    <tr>\n",
       "      <th>249</th>\n",
       "      <td>E09000030</td>\n",
       "      <td>12552.945211</td>\n",
       "      <td>26.0</td>\n",
       "      <td>-9.767009</td>\n",
       "    </tr>\n",
       "    <tr>\n",
       "      <th>250</th>\n",
       "      <td>E09000031</td>\n",
       "      <td>9746.728561</td>\n",
       "      <td>25.0</td>\n",
       "      <td>-2.917900</td>\n",
       "    </tr>\n",
       "    <tr>\n",
       "      <th>251</th>\n",
       "      <td>E09000032</td>\n",
       "      <td>16438.296743</td>\n",
       "      <td>52.0</td>\n",
       "      <td>5.365496</td>\n",
       "    </tr>\n",
       "    <tr>\n",
       "      <th>252</th>\n",
       "      <td>E09000033</td>\n",
       "      <td>7143.386910</td>\n",
       "      <td>26.0</td>\n",
       "      <td>5.363759</td>\n",
       "    </tr>\n",
       "  </tbody>\n",
       "</table>\n",
       "<p>253 rows × 4 columns</p>\n",
       "</div>"
      ],
      "text/plain": [
       "        origin    count_mean  sample_n     resid\n",
       "0    E06000001    607.123093       0.0 -2.354029\n",
       "1    E06000002    794.423295       2.0 -0.877916\n",
       "2    E06000003    795.206687       1.0 -1.880107\n",
       "3    E06000004   1654.386810       5.0 -0.283271\n",
       "4    E06000005    651.985620       0.0 -2.479512\n",
       "..         ...           ...       ...       ...\n",
       "248  E09000029   9219.602163      22.0 -4.443504\n",
       "249  E09000030  12552.945211      26.0 -9.767009\n",
       "250  E09000031   9746.728561      25.0 -2.917900\n",
       "251  E09000032  16438.296743      52.0  5.365496\n",
       "252  E09000033   7143.386910      26.0  5.363759\n",
       "\n",
       "[253 rows x 4 columns]"
      ]
     },
     "execution_count": 247,
     "metadata": {},
     "output_type": "execute_result"
    }
   ],
   "source": [
    "BA117_DTA_175_n11351_omicron_cases_sample_n_epo_1['resid'] = BA117_DTA_175_n11351_reg_epo_1.resid\n",
    "BA117_DTA_175_n11351_omicron_cases_sample_n_epo_1\n"
   ]
  },
  {
   "cell_type": "code",
   "execution_count": 249,
   "id": "interim-block",
   "metadata": {},
   "outputs": [
    {
     "data": {
      "text/plain": [
       "<matplotlib.collections.PathCollection at 0x7fd14f6baa90>"
      ]
     },
     "execution_count": 249,
     "metadata": {},
     "output_type": "execute_result"
    },
    {
     "data": {
      "image/png": "[encoded data removed]",
      "text/plain": [
       "<Figure size 432x288 with 1 Axes>"
      ]
     },
     "metadata": {
      "needs_background": "light"
     },
     "output_type": "display_data"
    }
   ],
   "source": [
    "plt.scatter([i for i in range(len(BA117_DTA_175_n11351_omicron_cases_sample_n_epo_1.resid))],\n",
    "            BA117_DTA_175_n11351_omicron_cases_sample_n_epo_1.resid)\n"
   ]
  },
  {
   "cell_type": "code",
   "execution_count": 250,
   "id": "amber-prevention",
   "metadata": {},
   "outputs": [],
   "source": [
    "with open('./BA.1.17_DTA_175_n11351/ltla_residual_epo_1.tsv', 'w+') as outfile:\n",
    "    outfile.write('ltla\\tresidual\\n')\n",
    "    outfile.write('\\n'.join(['%s\\t%s' % (row.origin, row.resid)\n",
    "                             for index, row in BA117_DTA_175_n11351_omicron_cases_sample_n_epo_1.iterrows()]))\n",
    "    "
   ]
  },
  {
   "cell_type": "markdown",
   "id": "logical-centre",
   "metadata": {},
   "source": [
    "#### Epoch-2"
   ]
  },
  {
   "cell_type": "code",
   "execution_count": 251,
   "id": "fantastic-letters",
   "metadata": {},
   "outputs": [
    {
     "data": {
      "image/png": "[encoded data removed]",
      "text/plain": [
       "<Figure size 432x288 with 1 Axes>"
      ]
     },
     "metadata": {
      "needs_background": "light"
     },
     "output_type": "display_data"
    }
   ],
   "source": [
    "plt.scatter(BA117_DTA_175_n11351_omicron_cases_sample_n_epo_2.count_mean,\n",
    "            BA117_DTA_175_n11351_omicron_cases_sample_n_epo_2.sample_n)\n",
    "plt.show()\n"
   ]
  },
  {
   "cell_type": "code",
   "execution_count": 252,
   "id": "fiscal-wholesale",
   "metadata": {},
   "outputs": [
    {
     "name": "stdout",
     "output_type": "stream",
     "text": [
      "                            OLS Regression Results                            \n",
      "==============================================================================\n",
      "Dep. Variable:               sample_n   R-squared:                       0.683\n",
      "Model:                            OLS   Adj. R-squared:                  0.682\n",
      "Method:                 Least Squares   F-statistic:                     540.6\n",
      "Date:                Mon, 19 Sep 2022   Prob (F-statistic):           1.52e-64\n",
      "Time:                        01:06:43   Log-Likelihood:                -954.17\n",
      "No. Observations:                 253   AIC:                             1912.\n",
      "Df Residuals:                     251   BIC:                             1919.\n",
      "Df Model:                           1                                         \n",
      "Covariance Type:            nonrobust                                         \n",
      "==============================================================================\n",
      "                 coef    std err          t      P>|t|      [0.025      0.975]\n",
      "------------------------------------------------------------------------------\n",
      "const         -2.5052      1.163     -2.155      0.032      -4.795      -0.216\n",
      "count_mean     0.0024      0.000     23.251      0.000       0.002       0.003\n",
      "==============================================================================\n",
      "Omnibus:                       70.565   Durbin-Watson:                   0.948\n",
      "Prob(Omnibus):                  0.000   Jarque-Bera (JB):              229.166\n",
      "Skew:                           1.167   Prob(JB):                     1.73e-50\n",
      "Kurtosis:                       7.036   Cond. No.                     1.94e+04\n",
      "==============================================================================\n",
      "\n",
      "Notes:\n",
      "[1] Standard Errors assume that the covariance matrix of the errors is correctly specified.\n",
      "[2] The condition number is large, 1.94e+04. This might indicate that there are\n",
      "strong multicollinearity or other numerical problems.\n",
      "const        -2.505226\n",
      "count_mean    0.002448\n",
      "dtype: float64\n"
     ]
    },
    {
     "data": {
      "text/plain": [
       "0      -0.213878\n",
       "1      -4.503555\n",
       "2       1.347247\n",
       "3       0.969252\n",
       "4       1.440637\n",
       "         ...    \n",
       "248    -9.194276\n",
       "249   -12.409482\n",
       "250    -6.539962\n",
       "251    -5.916376\n",
       "252    -0.992068\n",
       "Length: 253, dtype: float64"
      ]
     },
     "execution_count": 252,
     "metadata": {},
     "output_type": "execute_result"
    }
   ],
   "source": [
    "X = sm.add_constant(BA117_DTA_175_n11351_omicron_cases_sample_n_epo_2.count_mean)\n",
    "BA117_DTA_175_n11351_reg_epo_2 = sm.OLS(\n",
    "    BA117_DTA_175_n11351_omicron_cases_sample_n_epo_2.sample_n,\n",
    "    X\n",
    ").fit()\n",
    "print(BA117_DTA_175_n11351_reg_epo_2.summary())\n",
    "print(BA117_DTA_175_n11351_reg_epo_2.params)\n",
    "BA117_DTA_175_n11351_reg_epo_2.resid\n"
   ]
  },
  {
   "cell_type": "code",
   "execution_count": 253,
   "id": "anticipated-gibraltar",
   "metadata": {},
   "outputs": [
    {
     "data": {
      "text/html": [
       "<div>\n",
       "<style scoped>\n",
       "    .dataframe tbody tr th:only-of-type {\n",
       "        vertical-align: middle;\n",
       "    }\n",
       "\n",
       "    .dataframe tbody tr th {\n",
       "        vertical-align: top;\n",
       "    }\n",
       "\n",
       "    .dataframe thead th {\n",
       "        text-align: right;\n",
       "    }\n",
       "</style>\n",
       "<table border=\"1\" class=\"dataframe\">\n",
       "  <thead>\n",
       "    <tr style=\"text-align: right;\">\n",
       "      <th></th>\n",
       "      <th>origin</th>\n",
       "      <th>count_mean</th>\n",
       "      <th>sample_n</th>\n",
       "      <th>resid</th>\n",
       "    </tr>\n",
       "  </thead>\n",
       "  <tbody>\n",
       "    <tr>\n",
       "      <th>0</th>\n",
       "      <td>E06000001</td>\n",
       "      <td>6013.218639</td>\n",
       "      <td>12</td>\n",
       "      <td>-0.213878</td>\n",
       "    </tr>\n",
       "    <tr>\n",
       "      <th>1</th>\n",
       "      <td>E06000002</td>\n",
       "      <td>9399.812953</td>\n",
       "      <td>16</td>\n",
       "      <td>-4.503555</td>\n",
       "    </tr>\n",
       "    <tr>\n",
       "      <th>2</th>\n",
       "      <td>E06000003</td>\n",
       "      <td>8643.702112</td>\n",
       "      <td>20</td>\n",
       "      <td>1.347247</td>\n",
       "    </tr>\n",
       "    <tr>\n",
       "      <th>3</th>\n",
       "      <td>E06000004</td>\n",
       "      <td>12883.440526</td>\n",
       "      <td>30</td>\n",
       "      <td>0.969252</td>\n",
       "    </tr>\n",
       "    <tr>\n",
       "      <th>4</th>\n",
       "      <td>E06000005</td>\n",
       "      <td>5337.296844</td>\n",
       "      <td>12</td>\n",
       "      <td>1.440637</td>\n",
       "    </tr>\n",
       "    <tr>\n",
       "      <th>...</th>\n",
       "      <td>...</td>\n",
       "      <td>...</td>\n",
       "      <td>...</td>\n",
       "      <td>...</td>\n",
       "    </tr>\n",
       "    <tr>\n",
       "      <th>248</th>\n",
       "      <td>E09000029</td>\n",
       "      <td>11724.652113</td>\n",
       "      <td>17</td>\n",
       "      <td>-9.194276</td>\n",
       "    </tr>\n",
       "    <tr>\n",
       "      <th>249</th>\n",
       "      <td>E09000030</td>\n",
       "      <td>12221.102257</td>\n",
       "      <td>15</td>\n",
       "      <td>-12.409482</td>\n",
       "    </tr>\n",
       "    <tr>\n",
       "      <th>250</th>\n",
       "      <td>E09000031</td>\n",
       "      <td>11048.812696</td>\n",
       "      <td>18</td>\n",
       "      <td>-6.539962</td>\n",
       "    </tr>\n",
       "    <tr>\n",
       "      <th>251</th>\n",
       "      <td>E09000032</td>\n",
       "      <td>11611.121439</td>\n",
       "      <td>20</td>\n",
       "      <td>-5.916376</td>\n",
       "    </tr>\n",
       "    <tr>\n",
       "      <th>252</th>\n",
       "      <td>E09000033</td>\n",
       "      <td>6331.133605</td>\n",
       "      <td>12</td>\n",
       "      <td>-0.992068</td>\n",
       "    </tr>\n",
       "  </tbody>\n",
       "</table>\n",
       "<p>253 rows × 4 columns</p>\n",
       "</div>"
      ],
      "text/plain": [
       "        origin    count_mean  sample_n      resid\n",
       "0    E06000001   6013.218639        12  -0.213878\n",
       "1    E06000002   9399.812953        16  -4.503555\n",
       "2    E06000003   8643.702112        20   1.347247\n",
       "3    E06000004  12883.440526        30   0.969252\n",
       "4    E06000005   5337.296844        12   1.440637\n",
       "..         ...           ...       ...        ...\n",
       "248  E09000029  11724.652113        17  -9.194276\n",
       "249  E09000030  12221.102257        15 -12.409482\n",
       "250  E09000031  11048.812696        18  -6.539962\n",
       "251  E09000032  11611.121439        20  -5.916376\n",
       "252  E09000033   6331.133605        12  -0.992068\n",
       "\n",
       "[253 rows x 4 columns]"
      ]
     },
     "execution_count": 253,
     "metadata": {},
     "output_type": "execute_result"
    }
   ],
   "source": [
    "BA117_DTA_175_n11351_omicron_cases_sample_n_epo_2['resid'] = BA117_DTA_175_n11351_reg_epo_2.resid\n",
    "BA117_DTA_175_n11351_omicron_cases_sample_n_epo_2\n"
   ]
  },
  {
   "cell_type": "code",
   "execution_count": 256,
   "id": "southeast-gateway",
   "metadata": {},
   "outputs": [
    {
     "data": {
      "text/plain": [
       "<matplotlib.collections.PathCollection at 0x7fd1516e4890>"
      ]
     },
     "execution_count": 256,
     "metadata": {},
     "output_type": "execute_result"
    },
    {
     "data": {
      "image/png": "[encoded data removed]",
      "text/plain": [
       "<Figure size 432x288 with 1 Axes>"
      ]
     },
     "metadata": {
      "needs_background": "light"
     },
     "output_type": "display_data"
    }
   ],
   "source": [
    "plt.scatter([i for i in range(len(BA117_DTA_175_n11351_omicron_cases_sample_n_epo_2.resid))],\n",
    "            BA117_DTA_175_n11351_omicron_cases_sample_n_epo_2.resid)\n"
   ]
  },
  {
   "cell_type": "code",
   "execution_count": 257,
   "id": "expanded-leadership",
   "metadata": {},
   "outputs": [],
   "source": [
    "with open('./BA.1.17_DTA_175_n11351/ltla_residual_epo_2.tsv', 'w+') as outfile:\n",
    "    outfile.write('ltla\\tresidual\\n')\n",
    "    outfile.write('\\n'.join(['%s\\t%s' % (row.origin, row.resid)\n",
    "                             for index, row in BA117_DTA_175_n11351_omicron_cases_sample_n_epo_2.iterrows()]))\n",
    "    "
   ]
  },
  {
   "cell_type": "markdown",
   "id": "aggregate-plymouth",
   "metadata": {},
   "source": [
    "#### Epoch-3"
   ]
  },
  {
   "cell_type": "code",
   "execution_count": 258,
   "id": "utility-mounting",
   "metadata": {},
   "outputs": [
    {
     "data": {
      "image/png": "[encoded data removed]",
      "text/plain": [
       "<Figure size 432x288 with 1 Axes>"
      ]
     },
     "metadata": {
      "needs_background": "light"
     },
     "output_type": "display_data"
    }
   ],
   "source": [
    "plt.scatter(BA117_DTA_175_n11351_omicron_cases_sample_n_epo_3.count_mean,\n",
    "            BA117_DTA_175_n11351_omicron_cases_sample_n_epo_3.sample_n)\n",
    "plt.show()\n"
   ]
  },
  {
   "cell_type": "code",
   "execution_count": 259,
   "id": "polished-distribution",
   "metadata": {},
   "outputs": [
    {
     "name": "stdout",
     "output_type": "stream",
     "text": [
      "                            OLS Regression Results                            \n",
      "==============================================================================\n",
      "Dep. Variable:               sample_n   R-squared:                       0.683\n",
      "Model:                            OLS   Adj. R-squared:                  0.681\n",
      "Method:                 Least Squares   F-statistic:                     540.1\n",
      "Date:                Mon, 19 Sep 2022   Prob (F-statistic):           1.64e-64\n",
      "Time:                        01:07:55   Log-Likelihood:                -809.04\n",
      "No. Observations:                 253   AIC:                             1622.\n",
      "Df Residuals:                     251   BIC:                             1629.\n",
      "Df Model:                           1                                         \n",
      "Covariance Type:            nonrobust                                         \n",
      "==============================================================================\n",
      "                 coef    std err          t      P>|t|      [0.025      0.975]\n",
      "------------------------------------------------------------------------------\n",
      "const          0.6823      0.660      1.034      0.302      -0.617       1.982\n",
      "count_mean     0.0032      0.000     23.240      0.000       0.003       0.003\n",
      "==============================================================================\n",
      "Omnibus:                       32.438   Durbin-Watson:                   1.508\n",
      "Prob(Omnibus):                  0.000   Jarque-Bera (JB):               72.741\n",
      "Skew:                           0.618   Prob(JB):                     1.60e-16\n",
      "Kurtosis:                       5.318   Cond. No.                     8.42e+03\n",
      "==============================================================================\n",
      "\n",
      "Notes:\n",
      "[1] Standard Errors assume that the covariance matrix of the errors is correctly specified.\n",
      "[2] The condition number is large, 8.42e+03. This might indicate that there are\n",
      "strong multicollinearity or other numerical problems.\n",
      "const         0.682298\n",
      "count_mean    0.003213\n",
      "dtype: float64\n"
     ]
    },
    {
     "data": {
      "text/plain": [
       "0     -2.115656\n",
       "1      6.182513\n",
       "2     -3.919280\n",
       "3     -1.753850\n",
       "4      4.473958\n",
       "         ...   \n",
       "248   -1.054394\n",
       "249   -4.597408\n",
       "250   -5.633751\n",
       "251   -4.966353\n",
       "252    0.507036\n",
       "Length: 253, dtype: float64"
      ]
     },
     "execution_count": 259,
     "metadata": {},
     "output_type": "execute_result"
    }
   ],
   "source": [
    "X = sm.add_constant(BA117_DTA_175_n11351_omicron_cases_sample_n_epo_3.count_mean)\n",
    "BA117_DTA_175_n11351_reg_epo_3 = sm.OLS(\n",
    "    BA117_DTA_175_n11351_omicron_cases_sample_n_epo_3.sample_n,\n",
    "    X\n",
    ").fit()\n",
    "print(BA117_DTA_175_n11351_reg_epo_3.summary())\n",
    "print(BA117_DTA_175_n11351_reg_epo_3.params)\n",
    "BA117_DTA_175_n11351_reg_epo_3.resid\n"
   ]
  },
  {
   "cell_type": "code",
   "execution_count": 260,
   "id": "twenty-laptop",
   "metadata": {},
   "outputs": [
    {
     "data": {
      "text/html": [
       "<div>\n",
       "<style scoped>\n",
       "    .dataframe tbody tr th:only-of-type {\n",
       "        vertical-align: middle;\n",
       "    }\n",
       "\n",
       "    .dataframe tbody tr th {\n",
       "        vertical-align: top;\n",
       "    }\n",
       "\n",
       "    .dataframe thead th {\n",
       "        text-align: right;\n",
       "    }\n",
       "</style>\n",
       "<table border=\"1\" class=\"dataframe\">\n",
       "  <thead>\n",
       "    <tr style=\"text-align: right;\">\n",
       "      <th></th>\n",
       "      <th>origin</th>\n",
       "      <th>count_mean</th>\n",
       "      <th>sample_n</th>\n",
       "      <th>resid</th>\n",
       "    </tr>\n",
       "  </thead>\n",
       "  <tbody>\n",
       "    <tr>\n",
       "      <th>0</th>\n",
       "      <td>E06000001</td>\n",
       "      <td>2002.165508</td>\n",
       "      <td>5.0</td>\n",
       "      <td>-2.115656</td>\n",
       "    </tr>\n",
       "    <tr>\n",
       "      <th>1</th>\n",
       "      <td>E06000002</td>\n",
       "      <td>2843.019016</td>\n",
       "      <td>16.0</td>\n",
       "      <td>6.182513</td>\n",
       "    </tr>\n",
       "    <tr>\n",
       "      <th>2</th>\n",
       "      <td>E06000003</td>\n",
       "      <td>2563.482609</td>\n",
       "      <td>5.0</td>\n",
       "      <td>-3.919280</td>\n",
       "    </tr>\n",
       "    <tr>\n",
       "      <th>3</th>\n",
       "      <td>E06000004</td>\n",
       "      <td>4379.295321</td>\n",
       "      <td>13.0</td>\n",
       "      <td>-1.753850</td>\n",
       "    </tr>\n",
       "    <tr>\n",
       "      <th>4</th>\n",
       "      <td>E06000005</td>\n",
       "      <td>2752.316726</td>\n",
       "      <td>14.0</td>\n",
       "      <td>4.473958</td>\n",
       "    </tr>\n",
       "    <tr>\n",
       "      <th>...</th>\n",
       "      <td>...</td>\n",
       "      <td>...</td>\n",
       "      <td>...</td>\n",
       "      <td>...</td>\n",
       "    </tr>\n",
       "    <tr>\n",
       "      <th>248</th>\n",
       "      <td>E09000029</td>\n",
       "      <td>5717.694466</td>\n",
       "      <td>18.0</td>\n",
       "      <td>-1.054394</td>\n",
       "    </tr>\n",
       "    <tr>\n",
       "      <th>249</th>\n",
       "      <td>E09000030</td>\n",
       "      <td>4330.607922</td>\n",
       "      <td>10.0</td>\n",
       "      <td>-4.597408</td>\n",
       "    </tr>\n",
       "    <tr>\n",
       "      <th>250</th>\n",
       "      <td>E09000031</td>\n",
       "      <td>4030.702329</td>\n",
       "      <td>8.0</td>\n",
       "      <td>-5.633751</td>\n",
       "    </tr>\n",
       "    <tr>\n",
       "      <th>251</th>\n",
       "      <td>E09000032</td>\n",
       "      <td>5379.078310</td>\n",
       "      <td>13.0</td>\n",
       "      <td>-4.966353</td>\n",
       "    </tr>\n",
       "    <tr>\n",
       "      <th>252</th>\n",
       "      <td>E09000033</td>\n",
       "      <td>2742.022294</td>\n",
       "      <td>10.0</td>\n",
       "      <td>0.507036</td>\n",
       "    </tr>\n",
       "  </tbody>\n",
       "</table>\n",
       "<p>253 rows × 4 columns</p>\n",
       "</div>"
      ],
      "text/plain": [
       "        origin   count_mean  sample_n     resid\n",
       "0    E06000001  2002.165508       5.0 -2.115656\n",
       "1    E06000002  2843.019016      16.0  6.182513\n",
       "2    E06000003  2563.482609       5.0 -3.919280\n",
       "3    E06000004  4379.295321      13.0 -1.753850\n",
       "4    E06000005  2752.316726      14.0  4.473958\n",
       "..         ...          ...       ...       ...\n",
       "248  E09000029  5717.694466      18.0 -1.054394\n",
       "249  E09000030  4330.607922      10.0 -4.597408\n",
       "250  E09000031  4030.702329       8.0 -5.633751\n",
       "251  E09000032  5379.078310      13.0 -4.966353\n",
       "252  E09000033  2742.022294      10.0  0.507036\n",
       "\n",
       "[253 rows x 4 columns]"
      ]
     },
     "execution_count": 260,
     "metadata": {},
     "output_type": "execute_result"
    }
   ],
   "source": [
    "BA117_DTA_175_n11351_omicron_cases_sample_n_epo_3['resid'] = BA117_DTA_175_n11351_reg_epo_3.resid\n",
    "BA117_DTA_175_n11351_omicron_cases_sample_n_epo_3\n"
   ]
  },
  {
   "cell_type": "code",
   "execution_count": 261,
   "id": "uniform-antenna",
   "metadata": {},
   "outputs": [
    {
     "data": {
      "text/plain": [
       "<matplotlib.collections.PathCollection at 0x7fd1521a3910>"
      ]
     },
     "execution_count": 261,
     "metadata": {},
     "output_type": "execute_result"
    },
    {
     "data": {
      "image/png": "[encoded data removed]",
      "text/plain": [
       "<Figure size 432x288 with 1 Axes>"
      ]
     },
     "metadata": {
      "needs_background": "light"
     },
     "output_type": "display_data"
    }
   ],
   "source": [
    "plt.scatter([i for i in range(len(BA117_DTA_175_n11351_omicron_cases_sample_n_epo_3.resid))],\n",
    "            BA117_DTA_175_n11351_omicron_cases_sample_n_epo_3.resid)\n"
   ]
  },
  {
   "cell_type": "code",
   "execution_count": 262,
   "id": "urban-bottle",
   "metadata": {},
   "outputs": [],
   "source": [
    "with open('./BA.1.17_DTA_175_n11351/ltla_residual_epo_3.tsv', 'w+') as outfile:\n",
    "    outfile.write('ltla\\tresidual\\n')\n",
    "    outfile.write('\\n'.join(['%s\\t%s' % (row.origin, row.resid)\n",
    "                             for index, row in BA117_DTA_175_n11351_omicron_cases_sample_n_epo_3.iterrows()]))\n",
    "    "
   ]
  },
  {
   "cell_type": "markdown",
   "id": "alone-projection",
   "metadata": {},
   "source": [
    "## Merge LTLAs for BA.1.1_DTA_1467_n722"
   ]
  },
  {
   "cell_type": "markdown",
   "id": "sporting-council",
   "metadata": {},
   "source": [
    "no mergers needed"
   ]
  },
  {
   "cell_type": "code",
   "execution_count": 263,
   "id": "retired-leader",
   "metadata": {},
   "outputs": [],
   "source": [
    "BA11_DTA_1467_n722_omicron_cases_study = omicron_cases[\n",
    "    omicron_cases.origin.isin(BA11_DTA_1467_n722_tip_ltla.ltla.unique().tolist())].copy()\n",
    "\n",
    "BA11_DTA_1467_n722_omicron_cases_epo_1 = BA11_DTA_1467_n722_omicron_cases_study[\n",
    "    (BA11_DTA_1467_n722_omicron_cases_study.epoch == 1) &\n",
    "    (BA11_DTA_1467_n722_omicron_cases_study.date >= dec2date(BA11_DTA_1467_n722_import_est, get_str=True))\n",
    "].groupby('origin').agg({'count_mean': 'sum'}).reset_index()\n",
    "\n",
    "BA11_DTA_1467_n722_omicron_cases_epo_2 = BA11_DTA_1467_n722_omicron_cases_study[\n",
    "    BA11_DTA_1467_n722_omicron_cases_study.epoch == 2\n",
    "].groupby('origin').agg({'count_mean': 'sum'}).reset_index()\n",
    "\n",
    "BA11_DTA_1467_n722_omicron_cases_epo_3 = BA11_DTA_1467_n722_omicron_cases_study[\n",
    "    BA11_DTA_1467_n722_omicron_cases_study.epoch == 3\n",
    "].groupby('origin').agg({'count_mean': 'sum'}).reset_index()\n"
   ]
  },
  {
   "cell_type": "code",
   "execution_count": 264,
   "id": "unique-equation",
   "metadata": {},
   "outputs": [],
   "source": [
    "BA11_DTA_1467_n722_omicron_cases_sample_n_epo_1 = pd.merge(\n",
    "    BA11_DTA_1467_n722_omicron_cases_epo_1,\n",
    "    BA11_DTA_1467_n722_tip_ltla[BA11_DTA_1467_n722_tip_ltla.epoch == 1].groupby('ltla').count().reset_index().rename(\n",
    "        columns={'ltla': 'origin'}), on='origin', how='left').rename(columns={'name': 'sample_n'})[[\n",
    "    'origin', 'count_mean', 'sample_n']]\n",
    "zero_filled_sample_n_epo_1 = BA11_DTA_1467_n722_omicron_cases_sample_n_epo_1.sample_n.apply(\n",
    "    lambda x: 0 if pd.isna(x) else x)\n",
    "BA11_DTA_1467_n722_omicron_cases_sample_n_epo_1.sample_n = zero_filled_sample_n_epo_1\n",
    "\n",
    "BA11_DTA_1467_n722_omicron_cases_sample_n_epo_2 = pd.merge(\n",
    "    BA11_DTA_1467_n722_omicron_cases_epo_2,\n",
    "    BA11_DTA_1467_n722_tip_ltla[BA11_DTA_1467_n722_tip_ltla.epoch == 2].groupby('ltla').count().reset_index().rename(\n",
    "        columns={'ltla': 'origin'}), on='origin', how='left').rename(columns={'name': 'sample_n'})[[\n",
    "    'origin', 'count_mean', 'sample_n']]\n",
    "zero_filled_sample_n_epo_2 = BA11_DTA_1467_n722_omicron_cases_sample_n_epo_2.sample_n.apply(\n",
    "    lambda x: 0 if pd.isna(x) else x)\n",
    "BA11_DTA_1467_n722_omicron_cases_sample_n_epo_2.sample_n = zero_filled_sample_n_epo_2\n",
    "\n",
    "BA11_DTA_1467_n722_omicron_cases_sample_n_epo_3 = pd.merge(\n",
    "    BA11_DTA_1467_n722_omicron_cases_epo_3,\n",
    "    BA11_DTA_1467_n722_tip_ltla[BA11_DTA_1467_n722_tip_ltla.epoch == 3].groupby('ltla').count().reset_index().rename(\n",
    "        columns={'ltla': 'origin'}), on='origin', how='left').rename(columns={'name': 'sample_n'})[[\n",
    "    'origin', 'count_mean', 'sample_n']]\n",
    "zero_filled_sample_n_epo_3 = BA11_DTA_1467_n722_omicron_cases_sample_n_epo_3.sample_n.apply(\n",
    "    lambda x: 0 if pd.isna(x) else x)\n",
    "BA11_DTA_1467_n722_omicron_cases_sample_n_epo_3.sample_n = zero_filled_sample_n_epo_3\n"
   ]
  },
  {
   "cell_type": "markdown",
   "id": "nominated-contractor",
   "metadata": {},
   "source": [
    "#### Epoch-1"
   ]
  },
  {
   "cell_type": "code",
   "execution_count": 273,
   "id": "usual-rapid",
   "metadata": {},
   "outputs": [
    {
     "data": {
      "image/png": "[encoded data removed]",
      "text/plain": [
       "<Figure size 432x288 with 1 Axes>"
      ]
     },
     "metadata": {
      "needs_background": "light"
     },
     "output_type": "display_data"
    }
   ],
   "source": [
    "plt.scatter(BA11_DTA_1467_n722_omicron_cases_sample_n_epo_1.count_mean,\n",
    "            BA11_DTA_1467_n722_omicron_cases_sample_n_epo_1.sample_n)\n",
    "plt.show()\n"
   ]
  },
  {
   "cell_type": "code",
   "execution_count": 274,
   "id": "extended-superintendent",
   "metadata": {},
   "outputs": [
    {
     "name": "stdout",
     "output_type": "stream",
     "text": [
      "                            OLS Regression Results                            \n",
      "==============================================================================\n",
      "Dep. Variable:               sample_n   R-squared:                       0.276\n",
      "Model:                            OLS   Adj. R-squared:                  0.273\n",
      "Method:                 Least Squares   F-statistic:                     81.57\n",
      "Date:                Mon, 19 Sep 2022   Prob (F-statistic):           1.01e-16\n",
      "Time:                        01:14:31   Log-Likelihood:                -198.29\n",
      "No. Observations:                 216   AIC:                             400.6\n",
      "Df Residuals:                     214   BIC:                             407.3\n",
      "Df Model:                           1                                         \n",
      "Covariance Type:            nonrobust                                         \n",
      "==============================================================================\n",
      "                 coef    std err          t      P>|t|      [0.025      0.975]\n",
      "------------------------------------------------------------------------------\n",
      "const         -0.0687      0.063     -1.095      0.275      -0.192       0.055\n",
      "count_mean     0.0001   1.26e-05      9.032      0.000    8.89e-05       0.000\n",
      "==============================================================================\n",
      "Omnibus:                       88.512   Durbin-Watson:                   1.724\n",
      "Prob(Omnibus):                  0.000   Jarque-Bera (JB):              345.916\n",
      "Skew:                           1.642   Prob(JB):                     7.68e-76\n",
      "Kurtosis:                       8.258   Cond. No.                     7.54e+03\n",
      "==============================================================================\n",
      "\n",
      "Notes:\n",
      "[1] Standard Errors assume that the covariance matrix of the errors is correctly specified.\n",
      "[2] The condition number is large, 7.54e+03. This might indicate that there are\n",
      "strong multicollinearity or other numerical problems.\n",
      "const        -0.068659\n",
      "count_mean    0.000114\n",
      "dtype: float64\n"
     ]
    },
    {
     "data": {
      "text/plain": [
       "0     -0.019342\n",
       "1     -0.019912\n",
       "2     -0.001539\n",
       "3     -0.146224\n",
       "4     -0.231444\n",
       "         ...   \n",
       "211    0.295491\n",
       "212   -1.351626\n",
       "213   -1.033829\n",
       "214   -0.790297\n",
       "215    1.262930\n",
       "Length: 216, dtype: float64"
      ]
     },
     "execution_count": 274,
     "metadata": {},
     "output_type": "execute_result"
    }
   ],
   "source": [
    "X = sm.add_constant(BA11_DTA_1467_n722_omicron_cases_sample_n_epo_1.count_mean)\n",
    "BA11_DTA_1467_n722_reg_epo_1 = sm.OLS(\n",
    "    BA11_DTA_1467_n722_omicron_cases_sample_n_epo_1.sample_n,\n",
    "    X\n",
    ").fit()\n",
    "print(BA11_DTA_1467_n722_reg_epo_1.summary())\n",
    "print(BA11_DTA_1467_n722_reg_epo_1.params)\n",
    "BA11_DTA_1467_n722_reg_epo_1.resid\n"
   ]
  },
  {
   "cell_type": "code",
   "execution_count": 275,
   "id": "russian-taxation",
   "metadata": {},
   "outputs": [
    {
     "data": {
      "text/html": [
       "<div>\n",
       "<style scoped>\n",
       "    .dataframe tbody tr th:only-of-type {\n",
       "        vertical-align: middle;\n",
       "    }\n",
       "\n",
       "    .dataframe tbody tr th {\n",
       "        vertical-align: top;\n",
       "    }\n",
       "\n",
       "    .dataframe thead th {\n",
       "        text-align: right;\n",
       "    }\n",
       "</style>\n",
       "<table border=\"1\" class=\"dataframe\">\n",
       "  <thead>\n",
       "    <tr style=\"text-align: right;\">\n",
       "      <th></th>\n",
       "      <th>origin</th>\n",
       "      <th>count_mean</th>\n",
       "      <th>sample_n</th>\n",
       "      <th>resid</th>\n",
       "    </tr>\n",
       "  </thead>\n",
       "  <tbody>\n",
       "    <tr>\n",
       "      <th>0</th>\n",
       "      <td>E06000002</td>\n",
       "      <td>773.730542</td>\n",
       "      <td>0.0</td>\n",
       "      <td>-0.019342</td>\n",
       "    </tr>\n",
       "    <tr>\n",
       "      <th>1</th>\n",
       "      <td>E06000003</td>\n",
       "      <td>778.737777</td>\n",
       "      <td>0.0</td>\n",
       "      <td>-0.019912</td>\n",
       "    </tr>\n",
       "    <tr>\n",
       "      <th>2</th>\n",
       "      <td>E06000005</td>\n",
       "      <td>617.202042</td>\n",
       "      <td>0.0</td>\n",
       "      <td>-0.001539</td>\n",
       "    </tr>\n",
       "    <tr>\n",
       "      <th>3</th>\n",
       "      <td>E06000010</td>\n",
       "      <td>1889.318082</td>\n",
       "      <td>0.0</td>\n",
       "      <td>-0.146224</td>\n",
       "    </tr>\n",
       "    <tr>\n",
       "      <th>4</th>\n",
       "      <td>E06000011</td>\n",
       "      <td>2638.598578</td>\n",
       "      <td>0.0</td>\n",
       "      <td>-0.231444</td>\n",
       "    </tr>\n",
       "    <tr>\n",
       "      <th>...</th>\n",
       "      <td>...</td>\n",
       "      <td>...</td>\n",
       "      <td>...</td>\n",
       "      <td>...</td>\n",
       "    </tr>\n",
       "    <tr>\n",
       "      <th>211</th>\n",
       "      <td>E09000029</td>\n",
       "      <td>6797.947106</td>\n",
       "      <td>1.0</td>\n",
       "      <td>0.295491</td>\n",
       "    </tr>\n",
       "    <tr>\n",
       "      <th>212</th>\n",
       "      <td>E09000030</td>\n",
       "      <td>12487.614215</td>\n",
       "      <td>0.0</td>\n",
       "      <td>-1.351626</td>\n",
       "    </tr>\n",
       "    <tr>\n",
       "      <th>213</th>\n",
       "      <td>E09000031</td>\n",
       "      <td>9693.438623</td>\n",
       "      <td>0.0</td>\n",
       "      <td>-1.033829</td>\n",
       "    </tr>\n",
       "    <tr>\n",
       "      <th>214</th>\n",
       "      <td>E09000032</td>\n",
       "      <td>16344.555217</td>\n",
       "      <td>1.0</td>\n",
       "      <td>-0.790297</td>\n",
       "    </tr>\n",
       "    <tr>\n",
       "      <th>215</th>\n",
       "      <td>E09000033</td>\n",
       "      <td>7084.235882</td>\n",
       "      <td>2.0</td>\n",
       "      <td>1.262930</td>\n",
       "    </tr>\n",
       "  </tbody>\n",
       "</table>\n",
       "<p>216 rows × 4 columns</p>\n",
       "</div>"
      ],
      "text/plain": [
       "        origin    count_mean  sample_n     resid\n",
       "0    E06000002    773.730542       0.0 -0.019342\n",
       "1    E06000003    778.737777       0.0 -0.019912\n",
       "2    E06000005    617.202042       0.0 -0.001539\n",
       "3    E06000010   1889.318082       0.0 -0.146224\n",
       "4    E06000011   2638.598578       0.0 -0.231444\n",
       "..         ...           ...       ...       ...\n",
       "211  E09000029   6797.947106       1.0  0.295491\n",
       "212  E09000030  12487.614215       0.0 -1.351626\n",
       "213  E09000031   9693.438623       0.0 -1.033829\n",
       "214  E09000032  16344.555217       1.0 -0.790297\n",
       "215  E09000033   7084.235882       2.0  1.262930\n",
       "\n",
       "[216 rows x 4 columns]"
      ]
     },
     "execution_count": 275,
     "metadata": {},
     "output_type": "execute_result"
    }
   ],
   "source": [
    "BA11_DTA_1467_n722_omicron_cases_sample_n_epo_1['resid'] = BA11_DTA_1467_n722_reg_epo_1.resid\n",
    "BA11_DTA_1467_n722_omicron_cases_sample_n_epo_1\n"
   ]
  },
  {
   "cell_type": "code",
   "execution_count": 276,
   "id": "planned-nancy",
   "metadata": {},
   "outputs": [
    {
     "data": {
      "text/plain": [
       "<matplotlib.collections.PathCollection at 0x7fd1517cf6d0>"
      ]
     },
     "execution_count": 276,
     "metadata": {},
     "output_type": "execute_result"
    },
    {
     "data": {
      "image/png": "[encoded data removed]",
      "text/plain": [
       "<Figure size 432x288 with 1 Axes>"
      ]
     },
     "metadata": {
      "needs_background": "light"
     },
     "output_type": "display_data"
    }
   ],
   "source": [
    "plt.scatter([i for i in range(len(BA11_DTA_1467_n722_omicron_cases_sample_n_epo_1.resid))],\n",
    "            BA11_DTA_1467_n722_omicron_cases_sample_n_epo_1.resid)\n"
   ]
  },
  {
   "cell_type": "code",
   "execution_count": 277,
   "id": "foreign-logic",
   "metadata": {},
   "outputs": [],
   "source": [
    "with open('./BA.1.1_DTA_1467_n722/ltla_residual_epo_1.tsv', 'w+') as outfile:\n",
    "    outfile.write('ltla\\tresidual\\n')\n",
    "    outfile.write('\\n'.join(['%s\\t%s' % (row.origin, row.resid)\n",
    "                             for index, row in BA11_DTA_1467_n722_omicron_cases_sample_n_epo_1.iterrows()]))\n",
    "    "
   ]
  },
  {
   "cell_type": "markdown",
   "id": "nasty-theology",
   "metadata": {},
   "source": [
    "#### Epoch-2"
   ]
  },
  {
   "cell_type": "code",
   "execution_count": 278,
   "id": "educated-conservative",
   "metadata": {},
   "outputs": [
    {
     "data": {
      "image/png": "[encoded data removed]",
      "text/plain": [
       "<Figure size 432x288 with 1 Axes>"
      ]
     },
     "metadata": {
      "needs_background": "light"
     },
     "output_type": "display_data"
    }
   ],
   "source": [
    "plt.scatter(BA11_DTA_1467_n722_omicron_cases_sample_n_epo_2.count_mean,\n",
    "            BA11_DTA_1467_n722_omicron_cases_sample_n_epo_2.sample_n)\n",
    "plt.show()\n"
   ]
  },
  {
   "cell_type": "code",
   "execution_count": 279,
   "id": "sufficient-cinema",
   "metadata": {},
   "outputs": [
    {
     "name": "stdout",
     "output_type": "stream",
     "text": [
      "                            OLS Regression Results                            \n",
      "==============================================================================\n",
      "Dep. Variable:               sample_n   R-squared:                       0.074\n",
      "Model:                            OLS   Adj. R-squared:                  0.069\n",
      "Method:                 Least Squares   F-statistic:                     17.04\n",
      "Date:                Mon, 19 Sep 2022   Prob (F-statistic):           5.24e-05\n",
      "Time:                        01:16:31   Log-Likelihood:                -380.17\n",
      "No. Observations:                 216   AIC:                             764.3\n",
      "Df Residuals:                     214   BIC:                             771.1\n",
      "Df Model:                           1                                         \n",
      "Covariance Type:            nonrobust                                         \n",
      "==============================================================================\n",
      "                 coef    std err          t      P>|t|      [0.025      0.975]\n",
      "------------------------------------------------------------------------------\n",
      "const          0.5882      0.159      3.699      0.000       0.275       0.902\n",
      "count_mean  6.456e-05   1.56e-05      4.128      0.000    3.37e-05    9.54e-05\n",
      "==============================================================================\n",
      "Omnibus:                      147.596   Durbin-Watson:                   1.890\n",
      "Prob(Omnibus):                  0.000   Jarque-Bera (JB):             1272.330\n",
      "Skew:                           2.630   Prob(JB):                    5.21e-277\n",
      "Kurtosis:                      13.663   Cond. No.                     1.68e+04\n",
      "==============================================================================\n",
      "\n",
      "Notes:\n",
      "[1] Standard Errors assume that the covariance matrix of the errors is correctly specified.\n",
      "[2] The condition number is large, 1.68e+04. This might indicate that there are\n",
      "strong multicollinearity or other numerical problems.\n",
      "const         0.588218\n",
      "count_mean    0.000065\n",
      "dtype: float64\n"
     ]
    },
    {
     "data": {
      "text/plain": [
       "0      0.804946\n",
       "1     -1.146241\n",
       "2     -0.932785\n",
       "3      0.603017\n",
       "4     -0.542960\n",
       "         ...   \n",
       "211   -1.149623\n",
       "212    0.622808\n",
       "213    3.698489\n",
       "214    0.662188\n",
       "215   -0.996945\n",
       "Length: 216, dtype: float64"
      ]
     },
     "execution_count": 279,
     "metadata": {},
     "output_type": "execute_result"
    }
   ],
   "source": [
    "X = sm.add_constant(BA11_DTA_1467_n722_omicron_cases_sample_n_epo_2.count_mean)\n",
    "BA11_DTA_1467_n722_reg_epo_2 = sm.OLS(\n",
    "    BA11_DTA_1467_n722_omicron_cases_sample_n_epo_2.sample_n,\n",
    "    X\n",
    ").fit()\n",
    "print(BA11_DTA_1467_n722_reg_epo_2.summary())\n",
    "print(BA11_DTA_1467_n722_reg_epo_2.params)\n",
    "BA11_DTA_1467_n722_reg_epo_2.resid\n"
   ]
  },
  {
   "cell_type": "code",
   "execution_count": 280,
   "id": "alleged-presentation",
   "metadata": {},
   "outputs": [
    {
     "data": {
      "text/html": [
       "<div>\n",
       "<style scoped>\n",
       "    .dataframe tbody tr th:only-of-type {\n",
       "        vertical-align: middle;\n",
       "    }\n",
       "\n",
       "    .dataframe tbody tr th {\n",
       "        vertical-align: top;\n",
       "    }\n",
       "\n",
       "    .dataframe thead th {\n",
       "        text-align: right;\n",
       "    }\n",
       "</style>\n",
       "<table border=\"1\" class=\"dataframe\">\n",
       "  <thead>\n",
       "    <tr style=\"text-align: right;\">\n",
       "      <th></th>\n",
       "      <th>origin</th>\n",
       "      <th>count_mean</th>\n",
       "      <th>sample_n</th>\n",
       "      <th>resid</th>\n",
       "    </tr>\n",
       "  </thead>\n",
       "  <tbody>\n",
       "    <tr>\n",
       "      <th>0</th>\n",
       "      <td>E06000002</td>\n",
       "      <td>9399.812953</td>\n",
       "      <td>2.0</td>\n",
       "      <td>0.804946</td>\n",
       "    </tr>\n",
       "    <tr>\n",
       "      <th>1</th>\n",
       "      <td>E06000003</td>\n",
       "      <td>8643.702112</td>\n",
       "      <td>0.0</td>\n",
       "      <td>-1.146241</td>\n",
       "    </tr>\n",
       "    <tr>\n",
       "      <th>2</th>\n",
       "      <td>E06000005</td>\n",
       "      <td>5337.296844</td>\n",
       "      <td>0.0</td>\n",
       "      <td>-0.932785</td>\n",
       "    </tr>\n",
       "    <tr>\n",
       "      <th>3</th>\n",
       "      <td>E06000010</td>\n",
       "      <td>12527.673528</td>\n",
       "      <td>2.0</td>\n",
       "      <td>0.603017</td>\n",
       "    </tr>\n",
       "    <tr>\n",
       "      <th>4</th>\n",
       "      <td>E06000011</td>\n",
       "      <td>14788.822581</td>\n",
       "      <td>1.0</td>\n",
       "      <td>-0.542960</td>\n",
       "    </tr>\n",
       "    <tr>\n",
       "      <th>...</th>\n",
       "      <td>...</td>\n",
       "      <td>...</td>\n",
       "      <td>...</td>\n",
       "      <td>...</td>\n",
       "    </tr>\n",
       "    <tr>\n",
       "      <th>211</th>\n",
       "      <td>E09000029</td>\n",
       "      <td>8696.094999</td>\n",
       "      <td>0.0</td>\n",
       "      <td>-1.149623</td>\n",
       "    </tr>\n",
       "    <tr>\n",
       "      <th>212</th>\n",
       "      <td>E09000030</td>\n",
       "      <td>12221.102257</td>\n",
       "      <td>2.0</td>\n",
       "      <td>0.622808</td>\n",
       "    </tr>\n",
       "    <tr>\n",
       "      <th>213</th>\n",
       "      <td>E09000031</td>\n",
       "      <td>11048.812696</td>\n",
       "      <td>5.0</td>\n",
       "      <td>3.698489</td>\n",
       "    </tr>\n",
       "    <tr>\n",
       "      <th>214</th>\n",
       "      <td>E09000032</td>\n",
       "      <td>11611.121439</td>\n",
       "      <td>2.0</td>\n",
       "      <td>0.662188</td>\n",
       "    </tr>\n",
       "    <tr>\n",
       "      <th>215</th>\n",
       "      <td>E09000033</td>\n",
       "      <td>6331.133605</td>\n",
       "      <td>0.0</td>\n",
       "      <td>-0.996945</td>\n",
       "    </tr>\n",
       "  </tbody>\n",
       "</table>\n",
       "<p>216 rows × 4 columns</p>\n",
       "</div>"
      ],
      "text/plain": [
       "        origin    count_mean  sample_n     resid\n",
       "0    E06000002   9399.812953       2.0  0.804946\n",
       "1    E06000003   8643.702112       0.0 -1.146241\n",
       "2    E06000005   5337.296844       0.0 -0.932785\n",
       "3    E06000010  12527.673528       2.0  0.603017\n",
       "4    E06000011  14788.822581       1.0 -0.542960\n",
       "..         ...           ...       ...       ...\n",
       "211  E09000029   8696.094999       0.0 -1.149623\n",
       "212  E09000030  12221.102257       2.0  0.622808\n",
       "213  E09000031  11048.812696       5.0  3.698489\n",
       "214  E09000032  11611.121439       2.0  0.662188\n",
       "215  E09000033   6331.133605       0.0 -0.996945\n",
       "\n",
       "[216 rows x 4 columns]"
      ]
     },
     "execution_count": 280,
     "metadata": {},
     "output_type": "execute_result"
    }
   ],
   "source": [
    "BA11_DTA_1467_n722_omicron_cases_sample_n_epo_2['resid'] = BA11_DTA_1467_n722_reg_epo_2.resid\n",
    "BA11_DTA_1467_n722_omicron_cases_sample_n_epo_2\n"
   ]
  },
  {
   "cell_type": "code",
   "execution_count": 281,
   "id": "scenic-scottish",
   "metadata": {},
   "outputs": [
    {
     "data": {
      "text/plain": [
       "<matplotlib.collections.PathCollection at 0x7fd152354910>"
      ]
     },
     "execution_count": 281,
     "metadata": {},
     "output_type": "execute_result"
    },
    {
     "data": {
      "image/png": "[encoded data removed]",
      "text/plain": [
       "<Figure size 432x288 with 1 Axes>"
      ]
     },
     "metadata": {
      "needs_background": "light"
     },
     "output_type": "display_data"
    }
   ],
   "source": [
    "plt.scatter([i for i in range(len(BA11_DTA_1467_n722_omicron_cases_sample_n_epo_2.resid))],\n",
    "            BA11_DTA_1467_n722_omicron_cases_sample_n_epo_2.resid)\n"
   ]
  },
  {
   "cell_type": "code",
   "execution_count": 282,
   "id": "czech-asthma",
   "metadata": {},
   "outputs": [],
   "source": [
    "with open('./BA.1.1_DTA_1467_n722/ltla_residual_epo_2.tsv', 'w+') as outfile:\n",
    "    outfile.write('ltla\\tresidual\\n')\n",
    "    outfile.write('\\n'.join(['%s\\t%s' % (row.origin, row.resid)\n",
    "                             for index, row in BA11_DTA_1467_n722_omicron_cases_sample_n_epo_2.iterrows()]))\n",
    "    "
   ]
  },
  {
   "cell_type": "markdown",
   "id": "critical-binary",
   "metadata": {},
   "source": [
    "#### Epoch-3"
   ]
  },
  {
   "cell_type": "code",
   "execution_count": 287,
   "id": "further-deviation",
   "metadata": {},
   "outputs": [
    {
     "data": {
      "image/png": "[encoded data removed]",
      "text/plain": [
       "<Figure size 432x288 with 1 Axes>"
      ]
     },
     "metadata": {
      "needs_background": "light"
     },
     "output_type": "display_data"
    }
   ],
   "source": [
    "plt.scatter(BA11_DTA_1467_n722_omicron_cases_sample_n_epo_3.sample_n,\n",
    "            BA11_DTA_1467_n722_omicron_cases_sample_n_epo_3.count_mean)\n",
    "plt.show()\n"
   ]
  },
  {
   "cell_type": "code",
   "execution_count": 288,
   "id": "mounted-trade",
   "metadata": {},
   "outputs": [
    {
     "name": "stdout",
     "output_type": "stream",
     "text": [
      "                            OLS Regression Results                            \n",
      "==============================================================================\n",
      "Dep. Variable:               sample_n   R-squared:                       0.005\n",
      "Model:                            OLS   Adj. R-squared:                 -0.000\n",
      "Method:                 Least Squares   F-statistic:                    0.9912\n",
      "Date:                Mon, 19 Sep 2022   Prob (F-statistic):              0.321\n",
      "Time:                        01:30:11   Log-Likelihood:                -507.35\n",
      "No. Observations:                 216   AIC:                             1019.\n",
      "Df Residuals:                     214   BIC:                             1025.\n",
      "Df Model:                           1                                         \n",
      "Covariance Type:            nonrobust                                         \n",
      "==============================================================================\n",
      "                 coef    std err          t      P>|t|      [0.025      0.975]\n",
      "------------------------------------------------------------------------------\n",
      "const          1.6173      0.311      5.193      0.000       1.003       2.231\n",
      "count_mean  7.121e-05   7.15e-05      0.996      0.321   -6.98e-05       0.000\n",
      "==============================================================================\n",
      "Omnibus:                      247.369   Durbin-Watson:                   1.519\n",
      "Prob(Omnibus):                  0.000   Jarque-Bera (JB):            10988.052\n",
      "Skew:                           4.650   Prob(JB):                         0.00\n",
      "Kurtosis:                      36.681   Cond. No.                     7.83e+03\n",
      "==============================================================================\n",
      "\n",
      "Notes:\n",
      "[1] Standard Errors assume that the covariance matrix of the errors is correctly specified.\n",
      "[2] The condition number is large, 7.83e+03. This might indicate that there are\n",
      "strong multicollinearity or other numerical problems.\n",
      "const         1.617314\n",
      "count_mean    0.000071\n",
      "dtype: float64\n"
     ]
    },
    {
     "data": {
      "text/plain": [
       "0     -1.819769\n",
       "1     -0.799863\n",
       "2      0.186690\n",
       "3     -2.034288\n",
       "4     -2.062418\n",
       "         ...   \n",
       "211    1.098348\n",
       "212    0.074297\n",
       "213    0.095654\n",
       "214   -1.000366\n",
       "215   -1.812577\n",
       "Length: 216, dtype: float64"
      ]
     },
     "execution_count": 288,
     "metadata": {},
     "output_type": "execute_result"
    }
   ],
   "source": [
    "X = sm.add_constant(BA11_DTA_1467_n722_omicron_cases_sample_n_epo_3.count_mean)\n",
    "BA11_DTA_1467_n722_reg_epo_3 = sm.OLS(\n",
    "    BA11_DTA_1467_n722_omicron_cases_sample_n_epo_3.sample_n,\n",
    "    X\n",
    ").fit()\n",
    "print(BA11_DTA_1467_n722_reg_epo_3.summary())\n",
    "print(BA11_DTA_1467_n722_reg_epo_3.params)\n",
    "BA11_DTA_1467_n722_reg_epo_3.resid\n"
   ]
  },
  {
   "cell_type": "code",
   "execution_count": 289,
   "id": "healthy-arkansas",
   "metadata": {},
   "outputs": [
    {
     "data": {
      "text/html": [
       "<div>\n",
       "<style scoped>\n",
       "    .dataframe tbody tr th:only-of-type {\n",
       "        vertical-align: middle;\n",
       "    }\n",
       "\n",
       "    .dataframe tbody tr th {\n",
       "        vertical-align: top;\n",
       "    }\n",
       "\n",
       "    .dataframe thead th {\n",
       "        text-align: right;\n",
       "    }\n",
       "</style>\n",
       "<table border=\"1\" class=\"dataframe\">\n",
       "  <thead>\n",
       "    <tr style=\"text-align: right;\">\n",
       "      <th></th>\n",
       "      <th>origin</th>\n",
       "      <th>count_mean</th>\n",
       "      <th>sample_n</th>\n",
       "      <th>resid</th>\n",
       "    </tr>\n",
       "  </thead>\n",
       "  <tbody>\n",
       "    <tr>\n",
       "      <th>0</th>\n",
       "      <td>E06000002</td>\n",
       "      <td>2843.019016</td>\n",
       "      <td>0.0</td>\n",
       "      <td>-1.819769</td>\n",
       "    </tr>\n",
       "    <tr>\n",
       "      <th>1</th>\n",
       "      <td>E06000003</td>\n",
       "      <td>2563.482609</td>\n",
       "      <td>1.0</td>\n",
       "      <td>-0.799863</td>\n",
       "    </tr>\n",
       "    <tr>\n",
       "      <th>2</th>\n",
       "      <td>E06000005</td>\n",
       "      <td>2752.316726</td>\n",
       "      <td>2.0</td>\n",
       "      <td>0.186690</td>\n",
       "    </tr>\n",
       "    <tr>\n",
       "      <th>3</th>\n",
       "      <td>E06000010</td>\n",
       "      <td>5855.435143</td>\n",
       "      <td>0.0</td>\n",
       "      <td>-2.034288</td>\n",
       "    </tr>\n",
       "    <tr>\n",
       "      <th>4</th>\n",
       "      <td>E06000011</td>\n",
       "      <td>6250.464547</td>\n",
       "      <td>0.0</td>\n",
       "      <td>-2.062418</td>\n",
       "    </tr>\n",
       "    <tr>\n",
       "      <th>...</th>\n",
       "      <td>...</td>\n",
       "      <td>...</td>\n",
       "      <td>...</td>\n",
       "      <td>...</td>\n",
       "    </tr>\n",
       "    <tr>\n",
       "      <th>211</th>\n",
       "      <td>E09000029</td>\n",
       "      <td>3992.865846</td>\n",
       "      <td>3.0</td>\n",
       "      <td>1.098348</td>\n",
       "    </tr>\n",
       "    <tr>\n",
       "      <th>212</th>\n",
       "      <td>E09000030</td>\n",
       "      <td>4330.607922</td>\n",
       "      <td>2.0</td>\n",
       "      <td>0.074297</td>\n",
       "    </tr>\n",
       "    <tr>\n",
       "      <th>213</th>\n",
       "      <td>E09000031</td>\n",
       "      <td>4030.702329</td>\n",
       "      <td>2.0</td>\n",
       "      <td>0.095654</td>\n",
       "    </tr>\n",
       "    <tr>\n",
       "      <th>214</th>\n",
       "      <td>E09000032</td>\n",
       "      <td>5379.078310</td>\n",
       "      <td>1.0</td>\n",
       "      <td>-1.000366</td>\n",
       "    </tr>\n",
       "    <tr>\n",
       "      <th>215</th>\n",
       "      <td>E09000033</td>\n",
       "      <td>2742.022294</td>\n",
       "      <td>0.0</td>\n",
       "      <td>-1.812577</td>\n",
       "    </tr>\n",
       "  </tbody>\n",
       "</table>\n",
       "<p>216 rows × 4 columns</p>\n",
       "</div>"
      ],
      "text/plain": [
       "        origin   count_mean  sample_n     resid\n",
       "0    E06000002  2843.019016       0.0 -1.819769\n",
       "1    E06000003  2563.482609       1.0 -0.799863\n",
       "2    E06000005  2752.316726       2.0  0.186690\n",
       "3    E06000010  5855.435143       0.0 -2.034288\n",
       "4    E06000011  6250.464547       0.0 -2.062418\n",
       "..         ...          ...       ...       ...\n",
       "211  E09000029  3992.865846       3.0  1.098348\n",
       "212  E09000030  4330.607922       2.0  0.074297\n",
       "213  E09000031  4030.702329       2.0  0.095654\n",
       "214  E09000032  5379.078310       1.0 -1.000366\n",
       "215  E09000033  2742.022294       0.0 -1.812577\n",
       "\n",
       "[216 rows x 4 columns]"
      ]
     },
     "execution_count": 289,
     "metadata": {},
     "output_type": "execute_result"
    }
   ],
   "source": [
    "BA11_DTA_1467_n722_omicron_cases_sample_n_epo_3['resid'] = BA11_DTA_1467_n722_reg_epo_3.resid\n",
    "BA11_DTA_1467_n722_omicron_cases_sample_n_epo_3\n"
   ]
  },
  {
   "cell_type": "code",
   "execution_count": 290,
   "id": "light-punch",
   "metadata": {},
   "outputs": [
    {
     "data": {
      "text/plain": [
       "<matplotlib.collections.PathCollection at 0x7fd1528dca50>"
      ]
     },
     "execution_count": 290,
     "metadata": {},
     "output_type": "execute_result"
    },
    {
     "data": {
      "image/png": "[encoded data removed]",
      "text/plain": [
       "<Figure size 432x288 with 1 Axes>"
      ]
     },
     "metadata": {
      "needs_background": "light"
     },
     "output_type": "display_data"
    }
   ],
   "source": [
    "plt.scatter([i for i in range(len(BA11_DTA_1467_n722_omicron_cases_sample_n_epo_3.resid))],\n",
    "            BA11_DTA_1467_n722_omicron_cases_sample_n_epo_3.resid)\n"
   ]
  },
  {
   "cell_type": "code",
   "execution_count": 291,
   "id": "optional-prompt",
   "metadata": {},
   "outputs": [],
   "source": [
    "with open('./BA.1.1_DTA_1467_n722/ltla_residual_epo_3.tsv', 'w+') as outfile:\n",
    "    outfile.write('ltla\\tresidual\\n')\n",
    "    outfile.write('\\n'.join(['%s\\t%s' % (row.origin, row.resid)\n",
    "                             for index, row in BA11_DTA_1467_n722_omicron_cases_sample_n_epo_3.iterrows()]))\n",
    "    "
   ]
  },
  {
   "cell_type": "markdown",
   "id": "hidden-thumb",
   "metadata": {},
   "source": [
    "## Merge LTLAs for BA.1.1_DTA_1254_n2249"
   ]
  },
  {
   "cell_type": "code",
   "execution_count": 292,
   "id": "centered-confirmation",
   "metadata": {},
   "outputs": [],
   "source": [
    "BA11_DTA_1254_n2249_mergers_rev_dict = dict(zip(BA11_DTA_1254_n2249_mergers_rev.child_ltla.values,\n",
    "                                                BA11_DTA_1254_n2249_mergers_rev.parent_ltla.values))\n",
    "\n",
    "BA11_DTA_1254_n2249_omicron_cases_study = omicron_cases.copy()\n",
    "BA11_DTA_1254_n2249_omicron_cases_study.origin = BA11_DTA_1254_n2249_omicron_cases_study.origin.apply(\n",
    "    lambda x: BA11_DTA_1254_n2249_mergers_rev_dict[x] if x in BA11_DTA_1254_n2249_mergers_rev_dict else x\n",
    ")\n",
    "BA11_DTA_1254_n2249_omicron_cases_study = BA11_DTA_1254_n2249_omicron_cases_study[\n",
    "    BA11_DTA_1254_n2249_omicron_cases_study.origin.isin(BA11_DTA_1254_n2249_tip_ltla.ltla.unique().tolist())]\n",
    "\n",
    "BA11_DTA_1254_n2249_omicron_cases_epo_1 = BA11_DTA_1254_n2249_omicron_cases_study[\n",
    "    (BA11_DTA_1254_n2249_omicron_cases_study.epoch == 1) &\n",
    "    (BA11_DTA_1254_n2249_omicron_cases_study.date >= dec2date(BA11_DTA_1254_n2249_import_est, get_str=True))\n",
    "].groupby('origin').agg({'count_mean': 'sum'}).reset_index()\n",
    "\n",
    "BA11_DTA_1254_n2249_omicron_cases_epo_2 = BA11_DTA_1254_n2249_omicron_cases_study[\n",
    "    BA11_DTA_1254_n2249_omicron_cases_study.epoch == 2\n",
    "].groupby('origin').agg({'count_mean': 'sum'}).reset_index()\n",
    "\n",
    "BA11_DTA_1254_n2249_omicron_cases_epo_3 = BA11_DTA_1254_n2249_omicron_cases_study[\n",
    "    BA11_DTA_1254_n2249_omicron_cases_study.epoch == 3\n",
    "].groupby('origin').agg({'count_mean': 'sum'}).reset_index()\n"
   ]
  },
  {
   "cell_type": "code",
   "execution_count": 293,
   "id": "relative-order",
   "metadata": {},
   "outputs": [],
   "source": [
    "BA11_DTA_1254_n2249_omicron_cases_sample_n_epo_1 = pd.merge(\n",
    "    BA11_DTA_1254_n2249_omicron_cases_epo_1,\n",
    "    BA11_DTA_1254_n2249_tip_ltla[BA11_DTA_1254_n2249_tip_ltla.epoch == 1\n",
    "                                ].groupby('ltla').count().reset_index().rename(columns={'ltla': 'origin'}),\n",
    "    on='origin', how='left').rename(columns={'name': 'sample_n'})[['origin', 'count_mean', 'sample_n']]\n",
    "zero_filled_sample_n_epo_1 = BA11_DTA_1254_n2249_omicron_cases_sample_n_epo_1.sample_n.apply(\n",
    "    lambda x: 0 if pd.isna(x) else x)\n",
    "BA11_DTA_1254_n2249_omicron_cases_sample_n_epo_1.sample_n = zero_filled_sample_n_epo_1\n",
    "\n",
    "BA11_DTA_1254_n2249_omicron_cases_sample_n_epo_2 = pd.merge(\n",
    "    BA11_DTA_1254_n2249_omicron_cases_epo_2,\n",
    "    BA11_DTA_1254_n2249_tip_ltla[BA11_DTA_1254_n2249_tip_ltla.epoch == 2\n",
    "                                ].groupby('ltla').count().reset_index().rename(columns={'ltla': 'origin'}),\n",
    "    on='origin', how='left').rename(columns={'name': 'sample_n'})[['origin', 'count_mean', 'sample_n']]\n",
    "zero_filled_sample_n_epo_2 = BA11_DTA_1254_n2249_omicron_cases_sample_n_epo_2.sample_n.apply(\n",
    "    lambda x: 0 if pd.isna(x) else x)\n",
    "BA11_DTA_1254_n2249_omicron_cases_sample_n_epo_2.sample_n = zero_filled_sample_n_epo_2\n",
    "\n",
    "BA11_DTA_1254_n2249_omicron_cases_sample_n_epo_3 = pd.merge(\n",
    "    BA11_DTA_1254_n2249_omicron_cases_epo_3,\n",
    "    BA11_DTA_1254_n2249_tip_ltla[BA11_DTA_1254_n2249_tip_ltla.epoch == 3\n",
    "                                ].groupby('ltla').count().reset_index().rename(columns={'ltla': 'origin'}),\n",
    "    on='origin', how='left').rename(columns={'name': 'sample_n'})[['origin', 'count_mean', 'sample_n']]\n",
    "zero_filled_sample_n_epo_3 = BA11_DTA_1254_n2249_omicron_cases_sample_n_epo_3.sample_n.apply(\n",
    "    lambda x: 0 if pd.isna(x) else x)\n",
    "BA11_DTA_1254_n2249_omicron_cases_sample_n_epo_3.sample_n = zero_filled_sample_n_epo_3\n"
   ]
  },
  {
   "cell_type": "markdown",
   "id": "fundamental-center",
   "metadata": {},
   "source": [
    "#### Epoch-1"
   ]
  },
  {
   "cell_type": "code",
   "execution_count": 302,
   "id": "roman-federal",
   "metadata": {},
   "outputs": [
    {
     "data": {
      "image/png": "[encoded data removed]",
      "text/plain": [
       "<Figure size 432x288 with 1 Axes>"
      ]
     },
     "metadata": {
      "needs_background": "light"
     },
     "output_type": "display_data"
    }
   ],
   "source": [
    "plt.scatter(BA11_DTA_1254_n2249_omicron_cases_sample_n_epo_1.count_mean,\n",
    "            BA11_DTA_1254_n2249_omicron_cases_sample_n_epo_1.sample_n)\n",
    "plt.show()\n"
   ]
  },
  {
   "cell_type": "code",
   "execution_count": 303,
   "id": "engaged-membership",
   "metadata": {},
   "outputs": [
    {
     "name": "stdout",
     "output_type": "stream",
     "text": [
      "                            OLS Regression Results                            \n",
      "==============================================================================\n",
      "Dep. Variable:               sample_n   R-squared:                       0.236\n",
      "Model:                            OLS   Adj. R-squared:                  0.233\n",
      "Method:                 Least Squares   F-statistic:                     77.37\n",
      "Date:                Mon, 19 Sep 2022   Prob (F-statistic):           2.32e-16\n",
      "Time:                        01:35:15   Log-Likelihood:                -358.26\n",
      "No. Observations:                 253   AIC:                             720.5\n",
      "Df Residuals:                     251   BIC:                             727.6\n",
      "Df Model:                           1                                         \n",
      "Covariance Type:            nonrobust                                         \n",
      "==============================================================================\n",
      "                 coef    std err          t      P>|t|      [0.025      0.975]\n",
      "------------------------------------------------------------------------------\n",
      "const         -0.0312      0.095     -0.329      0.742      -0.218       0.156\n",
      "count_mean     0.0002   1.85e-05      8.796      0.000       0.000       0.000\n",
      "==============================================================================\n",
      "Omnibus:                      145.574   Durbin-Watson:                   2.090\n",
      "Prob(Omnibus):                  0.000   Jarque-Bera (JB):             1217.420\n",
      "Skew:                           2.167   Prob(JB):                    4.37e-265\n",
      "Kurtosis:                      12.834   Cond. No.                     7.71e+03\n",
      "==============================================================================\n",
      "\n",
      "Notes:\n",
      "[1] Standard Errors assume that the covariance matrix of the errors is correctly specified.\n",
      "[2] The condition number is large, 7.71e+03. This might indicate that there are\n",
      "strong multicollinearity or other numerical problems.\n",
      "const        -0.031235\n",
      "count_mean    0.000163\n",
      "dtype: float64\n"
     ]
    },
    {
     "data": {
      "text/plain": [
       "0      0.935707\n",
       "1     -0.094876\n",
       "2     -0.095692\n",
       "3     -0.235535\n",
       "4     -0.069364\n",
       "         ...   \n",
       "248    2.923230\n",
       "249   -0.004136\n",
       "250   -1.548710\n",
       "251    3.367217\n",
       "252    0.876567\n",
       "Length: 253, dtype: float64"
      ]
     },
     "execution_count": 303,
     "metadata": {},
     "output_type": "execute_result"
    }
   ],
   "source": [
    "X = sm.add_constant(BA11_DTA_1254_n2249_omicron_cases_sample_n_epo_1.count_mean)\n",
    "BA11_DTA_1254_n2249_reg_epo_1 = sm.OLS(\n",
    "    BA11_DTA_1254_n2249_omicron_cases_sample_n_epo_1.sample_n,\n",
    "    X\n",
    ").fit()\n",
    "print(BA11_DTA_1254_n2249_reg_epo_1.summary())\n",
    "print(BA11_DTA_1254_n2249_reg_epo_1.params)\n",
    "BA11_DTA_1254_n2249_reg_epo_1.resid\n"
   ]
  },
  {
   "cell_type": "code",
   "execution_count": 304,
   "id": "american-brighton",
   "metadata": {},
   "outputs": [
    {
     "data": {
      "text/html": [
       "<div>\n",
       "<style scoped>\n",
       "    .dataframe tbody tr th:only-of-type {\n",
       "        vertical-align: middle;\n",
       "    }\n",
       "\n",
       "    .dataframe tbody tr th {\n",
       "        vertical-align: top;\n",
       "    }\n",
       "\n",
       "    .dataframe thead th {\n",
       "        text-align: right;\n",
       "    }\n",
       "</style>\n",
       "<table border=\"1\" class=\"dataframe\">\n",
       "  <thead>\n",
       "    <tr style=\"text-align: right;\">\n",
       "      <th></th>\n",
       "      <th>origin</th>\n",
       "      <th>count_mean</th>\n",
       "      <th>sample_n</th>\n",
       "      <th>resid</th>\n",
       "    </tr>\n",
       "  </thead>\n",
       "  <tbody>\n",
       "    <tr>\n",
       "      <th>0</th>\n",
       "      <td>E06000001</td>\n",
       "      <td>586.092394</td>\n",
       "      <td>1.0</td>\n",
       "      <td>0.935707</td>\n",
       "    </tr>\n",
       "    <tr>\n",
       "      <th>1</th>\n",
       "      <td>E06000002</td>\n",
       "      <td>773.730542</td>\n",
       "      <td>0.0</td>\n",
       "      <td>-0.094876</td>\n",
       "    </tr>\n",
       "    <tr>\n",
       "      <th>2</th>\n",
       "      <td>E06000003</td>\n",
       "      <td>778.737777</td>\n",
       "      <td>0.0</td>\n",
       "      <td>-0.095692</td>\n",
       "    </tr>\n",
       "    <tr>\n",
       "      <th>3</th>\n",
       "      <td>E06000004</td>\n",
       "      <td>1636.714692</td>\n",
       "      <td>0.0</td>\n",
       "      <td>-0.235535</td>\n",
       "    </tr>\n",
       "    <tr>\n",
       "      <th>4</th>\n",
       "      <td>E06000005</td>\n",
       "      <td>617.202042</td>\n",
       "      <td>0.0</td>\n",
       "      <td>-0.069364</td>\n",
       "    </tr>\n",
       "    <tr>\n",
       "      <th>...</th>\n",
       "      <td>...</td>\n",
       "      <td>...</td>\n",
       "      <td>...</td>\n",
       "      <td>...</td>\n",
       "    </tr>\n",
       "    <tr>\n",
       "      <th>248</th>\n",
       "      <td>E09000029</td>\n",
       "      <td>6797.947106</td>\n",
       "      <td>4.0</td>\n",
       "      <td>2.923230</td>\n",
       "    </tr>\n",
       "    <tr>\n",
       "      <th>249</th>\n",
       "      <td>E09000030</td>\n",
       "      <td>12487.614215</td>\n",
       "      <td>2.0</td>\n",
       "      <td>-0.004136</td>\n",
       "    </tr>\n",
       "    <tr>\n",
       "      <th>250</th>\n",
       "      <td>E09000031</td>\n",
       "      <td>9693.438623</td>\n",
       "      <td>0.0</td>\n",
       "      <td>-1.548710</td>\n",
       "    </tr>\n",
       "    <tr>\n",
       "      <th>251</th>\n",
       "      <td>E09000032</td>\n",
       "      <td>16344.555217</td>\n",
       "      <td>6.0</td>\n",
       "      <td>3.367217</td>\n",
       "    </tr>\n",
       "    <tr>\n",
       "      <th>252</th>\n",
       "      <td>E09000033</td>\n",
       "      <td>7084.235882</td>\n",
       "      <td>2.0</td>\n",
       "      <td>0.876567</td>\n",
       "    </tr>\n",
       "  </tbody>\n",
       "</table>\n",
       "<p>253 rows × 4 columns</p>\n",
       "</div>"
      ],
      "text/plain": [
       "        origin    count_mean  sample_n     resid\n",
       "0    E06000001    586.092394       1.0  0.935707\n",
       "1    E06000002    773.730542       0.0 -0.094876\n",
       "2    E06000003    778.737777       0.0 -0.095692\n",
       "3    E06000004   1636.714692       0.0 -0.235535\n",
       "4    E06000005    617.202042       0.0 -0.069364\n",
       "..         ...           ...       ...       ...\n",
       "248  E09000029   6797.947106       4.0  2.923230\n",
       "249  E09000030  12487.614215       2.0 -0.004136\n",
       "250  E09000031   9693.438623       0.0 -1.548710\n",
       "251  E09000032  16344.555217       6.0  3.367217\n",
       "252  E09000033   7084.235882       2.0  0.876567\n",
       "\n",
       "[253 rows x 4 columns]"
      ]
     },
     "execution_count": 304,
     "metadata": {},
     "output_type": "execute_result"
    }
   ],
   "source": [
    "BA11_DTA_1254_n2249_omicron_cases_sample_n_epo_1['resid'] = BA11_DTA_1254_n2249_reg_epo_1.resid\n",
    "BA11_DTA_1254_n2249_omicron_cases_sample_n_epo_1\n"
   ]
  },
  {
   "cell_type": "code",
   "execution_count": 305,
   "id": "secondary-number",
   "metadata": {},
   "outputs": [
    {
     "data": {
      "text/plain": [
       "<matplotlib.collections.PathCollection at 0x7fd1520c31d0>"
      ]
     },
     "execution_count": 305,
     "metadata": {},
     "output_type": "execute_result"
    },
    {
     "data": {
      "image/png": "[encoded data removed]",
      "text/plain": [
       "<Figure size 432x288 with 1 Axes>"
      ]
     },
     "metadata": {
      "needs_background": "light"
     },
     "output_type": "display_data"
    }
   ],
   "source": [
    "plt.scatter([i for i in range(len(BA11_DTA_1254_n2249_omicron_cases_sample_n_epo_1.resid))],\n",
    "            BA11_DTA_1254_n2249_omicron_cases_sample_n_epo_1.resid)\n"
   ]
  },
  {
   "cell_type": "code",
   "execution_count": 306,
   "id": "israeli-jefferson",
   "metadata": {},
   "outputs": [],
   "source": [
    "with open('./BA.1.1_DTA_1254_n2249/ltla_residual_epo_1.tsv', 'w+') as outfile:\n",
    "    outfile.write('ltla\\tresidual\\n')\n",
    "    outfile.write('\\n'.join(['%s\\t%s' % (row.origin, row.resid)\n",
    "                             for index, row in BA11_DTA_1254_n2249_omicron_cases_sample_n_epo_1.iterrows()]))\n",
    "    "
   ]
  },
  {
   "cell_type": "markdown",
   "id": "gothic-agenda",
   "metadata": {},
   "source": [
    "#### Epoch-2"
   ]
  },
  {
   "cell_type": "code",
   "execution_count": 307,
   "id": "electric-tackle",
   "metadata": {},
   "outputs": [
    {
     "data": {
      "image/png": "[encoded data removed]",
      "text/plain": [
       "<Figure size 432x288 with 1 Axes>"
      ]
     },
     "metadata": {
      "needs_background": "light"
     },
     "output_type": "display_data"
    }
   ],
   "source": [
    "plt.scatter(BA11_DTA_1254_n2249_omicron_cases_sample_n_epo_2.count_mean,\n",
    "            BA11_DTA_1254_n2249_omicron_cases_sample_n_epo_2.sample_n)\n",
    "plt.show()\n"
   ]
  },
  {
   "cell_type": "code",
   "execution_count": 308,
   "id": "executed-gabriel",
   "metadata": {},
   "outputs": [
    {
     "name": "stdout",
     "output_type": "stream",
     "text": [
      "                            OLS Regression Results                            \n",
      "==============================================================================\n",
      "Dep. Variable:               sample_n   R-squared:                       0.381\n",
      "Model:                            OLS   Adj. R-squared:                  0.379\n",
      "Method:                 Least Squares   F-statistic:                     154.6\n",
      "Date:                Mon, 19 Sep 2022   Prob (F-statistic):           5.57e-28\n",
      "Time:                        01:36:56   Log-Likelihood:                -674.22\n",
      "No. Observations:                 253   AIC:                             1352.\n",
      "Df Residuals:                     251   BIC:                             1360.\n",
      "Df Model:                           1                                         \n",
      "Covariance Type:            nonrobust                                         \n",
      "==============================================================================\n",
      "                 coef    std err          t      P>|t|      [0.025      0.975]\n",
      "------------------------------------------------------------------------------\n",
      "const         -0.3924      0.364     -1.078      0.282      -1.109       0.324\n",
      "count_mean     0.0004   3.27e-05     12.435      0.000       0.000       0.000\n",
      "==============================================================================\n",
      "Omnibus:                      179.193   Durbin-Watson:                   1.298\n",
      "Prob(Omnibus):                  0.000   Jarque-Bera (JB):             2536.006\n",
      "Skew:                           2.629   Prob(JB):                         0.00\n",
      "Kurtosis:                      17.592   Cond. No.                     1.84e+04\n",
      "==============================================================================\n",
      "\n",
      "Notes:\n",
      "[1] Standard Errors assume that the covariance matrix of the errors is correctly specified.\n",
      "[2] The condition number is large, 1.84e+04. This might indicate that there are\n",
      "strong multicollinearity or other numerical problems.\n",
      "const        -0.392395\n",
      "count_mean    0.000407\n",
      "dtype: float64\n"
     ]
    },
    {
     "data": {
      "text/plain": [
       "0     -2.054739\n",
       "1      1.567057\n",
       "2      0.874763\n",
       "3      3.149363\n",
       "4      0.220334\n",
       "         ...   \n",
       "248   -1.146559\n",
       "249   -4.581092\n",
       "250    0.895981\n",
       "251   -1.332855\n",
       "252    1.815883\n",
       "Length: 253, dtype: float64"
      ]
     },
     "execution_count": 308,
     "metadata": {},
     "output_type": "execute_result"
    }
   ],
   "source": [
    "X = sm.add_constant(BA11_DTA_1254_n2249_omicron_cases_sample_n_epo_2.count_mean)\n",
    "BA11_DTA_1254_n2249_reg_epo_2 = sm.OLS(\n",
    "    BA11_DTA_1254_n2249_omicron_cases_sample_n_epo_2.sample_n,\n",
    "    X\n",
    ").fit()\n",
    "print(BA11_DTA_1254_n2249_reg_epo_2.summary())\n",
    "print(BA11_DTA_1254_n2249_reg_epo_2.params)\n",
    "BA11_DTA_1254_n2249_reg_epo_2.resid\n"
   ]
  },
  {
   "cell_type": "code",
   "execution_count": 309,
   "id": "hourly-therapy",
   "metadata": {},
   "outputs": [
    {
     "data": {
      "text/html": [
       "<div>\n",
       "<style scoped>\n",
       "    .dataframe tbody tr th:only-of-type {\n",
       "        vertical-align: middle;\n",
       "    }\n",
       "\n",
       "    .dataframe tbody tr th {\n",
       "        vertical-align: top;\n",
       "    }\n",
       "\n",
       "    .dataframe thead th {\n",
       "        text-align: right;\n",
       "    }\n",
       "</style>\n",
       "<table border=\"1\" class=\"dataframe\">\n",
       "  <thead>\n",
       "    <tr style=\"text-align: right;\">\n",
       "      <th></th>\n",
       "      <th>origin</th>\n",
       "      <th>count_mean</th>\n",
       "      <th>sample_n</th>\n",
       "      <th>resid</th>\n",
       "    </tr>\n",
       "  </thead>\n",
       "  <tbody>\n",
       "    <tr>\n",
       "      <th>0</th>\n",
       "      <td>E06000001</td>\n",
       "      <td>6013.218639</td>\n",
       "      <td>0.0</td>\n",
       "      <td>-2.054739</td>\n",
       "    </tr>\n",
       "    <tr>\n",
       "      <th>1</th>\n",
       "      <td>E06000002</td>\n",
       "      <td>9399.812953</td>\n",
       "      <td>5.0</td>\n",
       "      <td>1.567057</td>\n",
       "    </tr>\n",
       "    <tr>\n",
       "      <th>2</th>\n",
       "      <td>E06000003</td>\n",
       "      <td>8643.702112</td>\n",
       "      <td>4.0</td>\n",
       "      <td>0.874763</td>\n",
       "    </tr>\n",
       "    <tr>\n",
       "      <th>3</th>\n",
       "      <td>E06000004</td>\n",
       "      <td>12883.440526</td>\n",
       "      <td>8.0</td>\n",
       "      <td>3.149363</td>\n",
       "    </tr>\n",
       "    <tr>\n",
       "      <th>4</th>\n",
       "      <td>E06000005</td>\n",
       "      <td>5337.296844</td>\n",
       "      <td>2.0</td>\n",
       "      <td>0.220334</td>\n",
       "    </tr>\n",
       "    <tr>\n",
       "      <th>...</th>\n",
       "      <td>...</td>\n",
       "      <td>...</td>\n",
       "      <td>...</td>\n",
       "      <td>...</td>\n",
       "    </tr>\n",
       "    <tr>\n",
       "      <th>248</th>\n",
       "      <td>E09000029</td>\n",
       "      <td>8696.094999</td>\n",
       "      <td>2.0</td>\n",
       "      <td>-1.146559</td>\n",
       "    </tr>\n",
       "    <tr>\n",
       "      <th>249</th>\n",
       "      <td>E09000030</td>\n",
       "      <td>12221.102257</td>\n",
       "      <td>0.0</td>\n",
       "      <td>-4.581092</td>\n",
       "    </tr>\n",
       "    <tr>\n",
       "      <th>250</th>\n",
       "      <td>E09000031</td>\n",
       "      <td>11048.812696</td>\n",
       "      <td>5.0</td>\n",
       "      <td>0.895981</td>\n",
       "    </tr>\n",
       "    <tr>\n",
       "      <th>251</th>\n",
       "      <td>E09000032</td>\n",
       "      <td>11611.121439</td>\n",
       "      <td>3.0</td>\n",
       "      <td>-1.332855</td>\n",
       "    </tr>\n",
       "    <tr>\n",
       "      <th>252</th>\n",
       "      <td>E09000033</td>\n",
       "      <td>6331.133605</td>\n",
       "      <td>4.0</td>\n",
       "      <td>1.815883</td>\n",
       "    </tr>\n",
       "  </tbody>\n",
       "</table>\n",
       "<p>253 rows × 4 columns</p>\n",
       "</div>"
      ],
      "text/plain": [
       "        origin    count_mean  sample_n     resid\n",
       "0    E06000001   6013.218639       0.0 -2.054739\n",
       "1    E06000002   9399.812953       5.0  1.567057\n",
       "2    E06000003   8643.702112       4.0  0.874763\n",
       "3    E06000004  12883.440526       8.0  3.149363\n",
       "4    E06000005   5337.296844       2.0  0.220334\n",
       "..         ...           ...       ...       ...\n",
       "248  E09000029   8696.094999       2.0 -1.146559\n",
       "249  E09000030  12221.102257       0.0 -4.581092\n",
       "250  E09000031  11048.812696       5.0  0.895981\n",
       "251  E09000032  11611.121439       3.0 -1.332855\n",
       "252  E09000033   6331.133605       4.0  1.815883\n",
       "\n",
       "[253 rows x 4 columns]"
      ]
     },
     "execution_count": 309,
     "metadata": {},
     "output_type": "execute_result"
    }
   ],
   "source": [
    "BA11_DTA_1254_n2249_omicron_cases_sample_n_epo_2['resid'] = BA11_DTA_1254_n2249_reg_epo_2.resid\n",
    "BA11_DTA_1254_n2249_omicron_cases_sample_n_epo_2\n"
   ]
  },
  {
   "cell_type": "code",
   "execution_count": 310,
   "id": "imposed-variety",
   "metadata": {},
   "outputs": [
    {
     "data": {
      "text/plain": [
       "<matplotlib.collections.PathCollection at 0x7fd14f5e2c90>"
      ]
     },
     "execution_count": 310,
     "metadata": {},
     "output_type": "execute_result"
    },
    {
     "data": {
      "image/png": "[encoded data removed]",
      "text/plain": [
       "<Figure size 432x288 with 1 Axes>"
      ]
     },
     "metadata": {
      "needs_background": "light"
     },
     "output_type": "display_data"
    }
   ],
   "source": [
    "plt.scatter([i for i in range(len(BA11_DTA_1254_n2249_omicron_cases_sample_n_epo_2.resid))],\n",
    "            BA11_DTA_1254_n2249_omicron_cases_sample_n_epo_2.resid)\n"
   ]
  },
  {
   "cell_type": "code",
   "execution_count": 311,
   "id": "miniature-barrier",
   "metadata": {},
   "outputs": [],
   "source": [
    "with open('./BA.1.1_DTA_1254_n2249/ltla_residual_epo_2.tsv', 'w+') as outfile:\n",
    "    outfile.write('ltla\\tresidual\\n')\n",
    "    outfile.write('\\n'.join(['%s\\t%s' % (row.origin, row.resid)\n",
    "                             for index, row in BA11_DTA_1254_n2249_omicron_cases_sample_n_epo_2.iterrows()]))\n",
    "    "
   ]
  },
  {
   "cell_type": "markdown",
   "id": "democratic-museum",
   "metadata": {},
   "source": [
    "#### Epoch-3"
   ]
  },
  {
   "cell_type": "code",
   "execution_count": 312,
   "id": "settled-scottish",
   "metadata": {},
   "outputs": [
    {
     "data": {
      "image/png": "[encoded data removed]",
      "text/plain": [
       "<Figure size 432x288 with 1 Axes>"
      ]
     },
     "metadata": {
      "needs_background": "light"
     },
     "output_type": "display_data"
    }
   ],
   "source": [
    "plt.scatter(BA11_DTA_1254_n2249_omicron_cases_sample_n_epo_3.count_mean,\n",
    "            BA11_DTA_1254_n2249_omicron_cases_sample_n_epo_3.sample_n)\n",
    "plt.show()\n"
   ]
  },
  {
   "cell_type": "code",
   "execution_count": 313,
   "id": "approximate-mercury",
   "metadata": {},
   "outputs": [
    {
     "name": "stdout",
     "output_type": "stream",
     "text": [
      "                            OLS Regression Results                            \n",
      "==============================================================================\n",
      "Dep. Variable:               sample_n   R-squared:                       0.443\n",
      "Model:                            OLS   Adj. R-squared:                  0.440\n",
      "Method:                 Least Squares   F-statistic:                     199.3\n",
      "Date:                Mon, 19 Sep 2022   Prob (F-statistic):           1.05e-33\n",
      "Time:                        01:37:42   Log-Likelihood:                -707.27\n",
      "No. Observations:                 253   AIC:                             1419.\n",
      "Df Residuals:                     251   BIC:                             1426.\n",
      "Df Model:                           1                                         \n",
      "Covariance Type:            nonrobust                                         \n",
      "==============================================================================\n",
      "                 coef    std err          t      P>|t|      [0.025      0.975]\n",
      "------------------------------------------------------------------------------\n",
      "const         -0.0101      0.439     -0.023      0.982      -0.874       0.854\n",
      "count_mean     0.0013   9.43e-05     14.117      0.000       0.001       0.002\n",
      "==============================================================================\n",
      "Omnibus:                      104.283   Durbin-Watson:                   1.509\n",
      "Prob(Omnibus):                  0.000   Jarque-Bera (JB):              606.912\n",
      "Skew:                           1.537   Prob(JB):                    1.62e-132\n",
      "Kurtosis:                       9.937   Cond. No.                     8.17e+03\n",
      "==============================================================================\n",
      "\n",
      "Notes:\n",
      "[1] Standard Errors assume that the covariance matrix of the errors is correctly specified.\n",
      "[2] The condition number is large, 8.17e+03. This might indicate that there are\n",
      "strong multicollinearity or other numerical problems.\n",
      "const        -0.010119\n",
      "count_mean    0.001331\n",
      "dtype: float64\n"
     ]
    },
    {
     "data": {
      "text/plain": [
       "0      0.345676\n",
       "1     -2.773315\n",
       "2     -0.401314\n",
       "3     -3.817762\n",
       "4     -2.652610\n",
       "         ...   \n",
       "248   -2.303509\n",
       "249    0.247030\n",
       "250   -0.353861\n",
       "251   -5.148254\n",
       "252   -0.638911\n",
       "Length: 253, dtype: float64"
      ]
     },
     "execution_count": 313,
     "metadata": {},
     "output_type": "execute_result"
    }
   ],
   "source": [
    "X = sm.add_constant(BA11_DTA_1254_n2249_omicron_cases_sample_n_epo_3.count_mean)\n",
    "BA11_DTA_1254_n2249_reg_epo_3 = sm.OLS(\n",
    "    BA11_DTA_1254_n2249_omicron_cases_sample_n_epo_3.sample_n,\n",
    "    X\n",
    ").fit()\n",
    "print(BA11_DTA_1254_n2249_reg_epo_3.summary())\n",
    "print(BA11_DTA_1254_n2249_reg_epo_3.params)\n",
    "BA11_DTA_1254_n2249_reg_epo_3.resid\n"
   ]
  },
  {
   "cell_type": "code",
   "execution_count": 314,
   "id": "extended-seventh",
   "metadata": {},
   "outputs": [
    {
     "data": {
      "text/html": [
       "<div>\n",
       "<style scoped>\n",
       "    .dataframe tbody tr th:only-of-type {\n",
       "        vertical-align: middle;\n",
       "    }\n",
       "\n",
       "    .dataframe tbody tr th {\n",
       "        vertical-align: top;\n",
       "    }\n",
       "\n",
       "    .dataframe thead th {\n",
       "        text-align: right;\n",
       "    }\n",
       "</style>\n",
       "<table border=\"1\" class=\"dataframe\">\n",
       "  <thead>\n",
       "    <tr style=\"text-align: right;\">\n",
       "      <th></th>\n",
       "      <th>origin</th>\n",
       "      <th>count_mean</th>\n",
       "      <th>sample_n</th>\n",
       "      <th>resid</th>\n",
       "    </tr>\n",
       "  </thead>\n",
       "  <tbody>\n",
       "    <tr>\n",
       "      <th>0</th>\n",
       "      <td>E06000001</td>\n",
       "      <td>2002.165508</td>\n",
       "      <td>3.0</td>\n",
       "      <td>0.345676</td>\n",
       "    </tr>\n",
       "    <tr>\n",
       "      <th>1</th>\n",
       "      <td>E06000002</td>\n",
       "      <td>2843.019016</td>\n",
       "      <td>1.0</td>\n",
       "      <td>-2.773315</td>\n",
       "    </tr>\n",
       "    <tr>\n",
       "      <th>2</th>\n",
       "      <td>E06000003</td>\n",
       "      <td>2563.482609</td>\n",
       "      <td>3.0</td>\n",
       "      <td>-0.401314</td>\n",
       "    </tr>\n",
       "    <tr>\n",
       "      <th>3</th>\n",
       "      <td>E06000004</td>\n",
       "      <td>4379.295321</td>\n",
       "      <td>2.0</td>\n",
       "      <td>-3.817762</td>\n",
       "    </tr>\n",
       "    <tr>\n",
       "      <th>4</th>\n",
       "      <td>E06000005</td>\n",
       "      <td>2752.316726</td>\n",
       "      <td>1.0</td>\n",
       "      <td>-2.652610</td>\n",
       "    </tr>\n",
       "    <tr>\n",
       "      <th>...</th>\n",
       "      <td>...</td>\n",
       "      <td>...</td>\n",
       "      <td>...</td>\n",
       "      <td>...</td>\n",
       "    </tr>\n",
       "    <tr>\n",
       "      <th>248</th>\n",
       "      <td>E09000029</td>\n",
       "      <td>3992.865846</td>\n",
       "      <td>3.0</td>\n",
       "      <td>-2.303509</td>\n",
       "    </tr>\n",
       "    <tr>\n",
       "      <th>249</th>\n",
       "      <td>E09000030</td>\n",
       "      <td>4330.607922</td>\n",
       "      <td>6.0</td>\n",
       "      <td>0.247030</td>\n",
       "    </tr>\n",
       "    <tr>\n",
       "      <th>250</th>\n",
       "      <td>E09000031</td>\n",
       "      <td>4030.702329</td>\n",
       "      <td>5.0</td>\n",
       "      <td>-0.353861</td>\n",
       "    </tr>\n",
       "    <tr>\n",
       "      <th>251</th>\n",
       "      <td>E09000032</td>\n",
       "      <td>5379.078310</td>\n",
       "      <td>2.0</td>\n",
       "      <td>-5.148254</td>\n",
       "    </tr>\n",
       "    <tr>\n",
       "      <th>252</th>\n",
       "      <td>E09000033</td>\n",
       "      <td>2742.022294</td>\n",
       "      <td>3.0</td>\n",
       "      <td>-0.638911</td>\n",
       "    </tr>\n",
       "  </tbody>\n",
       "</table>\n",
       "<p>253 rows × 4 columns</p>\n",
       "</div>"
      ],
      "text/plain": [
       "        origin   count_mean  sample_n     resid\n",
       "0    E06000001  2002.165508       3.0  0.345676\n",
       "1    E06000002  2843.019016       1.0 -2.773315\n",
       "2    E06000003  2563.482609       3.0 -0.401314\n",
       "3    E06000004  4379.295321       2.0 -3.817762\n",
       "4    E06000005  2752.316726       1.0 -2.652610\n",
       "..         ...          ...       ...       ...\n",
       "248  E09000029  3992.865846       3.0 -2.303509\n",
       "249  E09000030  4330.607922       6.0  0.247030\n",
       "250  E09000031  4030.702329       5.0 -0.353861\n",
       "251  E09000032  5379.078310       2.0 -5.148254\n",
       "252  E09000033  2742.022294       3.0 -0.638911\n",
       "\n",
       "[253 rows x 4 columns]"
      ]
     },
     "execution_count": 314,
     "metadata": {},
     "output_type": "execute_result"
    }
   ],
   "source": [
    "BA11_DTA_1254_n2249_omicron_cases_sample_n_epo_3['resid'] = BA11_DTA_1254_n2249_reg_epo_3.resid\n",
    "BA11_DTA_1254_n2249_omicron_cases_sample_n_epo_3\n"
   ]
  },
  {
   "cell_type": "code",
   "execution_count": 315,
   "id": "arranged-matrix",
   "metadata": {},
   "outputs": [
    {
     "data": {
      "text/plain": [
       "<matplotlib.collections.PathCollection at 0x7fd14eef76d0>"
      ]
     },
     "execution_count": 315,
     "metadata": {},
     "output_type": "execute_result"
    },
    {
     "data": {
      "image/png": "[encoded data removed]",
      "text/plain": [
       "<Figure size 432x288 with 1 Axes>"
      ]
     },
     "metadata": {
      "needs_background": "light"
     },
     "output_type": "display_data"
    }
   ],
   "source": [
    "plt.scatter([i for i in range(len(BA11_DTA_1254_n2249_omicron_cases_sample_n_epo_3.resid))],\n",
    "            BA11_DTA_1254_n2249_omicron_cases_sample_n_epo_3.resid)\n"
   ]
  },
  {
   "cell_type": "code",
   "execution_count": 316,
   "id": "hindu-prague",
   "metadata": {},
   "outputs": [],
   "source": [
    "with open('./BA.1.1_DTA_1254_n2249/ltla_residual_epo_3.tsv', 'w+') as outfile:\n",
    "    outfile.write('ltla\\tresidual\\n')\n",
    "    outfile.write('\\n'.join(['%s\\t%s' % (row.origin, row.resid)\n",
    "                             for index, row in BA11_DTA_1254_n2249_omicron_cases_sample_n_epo_3.iterrows()]))\n",
    "    "
   ]
  },
  {
   "cell_type": "markdown",
   "id": "inner-refrigerator",
   "metadata": {},
   "source": [
    "## Merge LTLAs for BA.1_DTA_1944_n1406"
   ]
  },
  {
   "cell_type": "code",
   "execution_count": 318,
   "id": "sufficient-oxide",
   "metadata": {},
   "outputs": [],
   "source": [
    "BA1_DTA_1944_n1406_mergers_rev_dict = dict(zip(BA1_DTA_1944_n1406_mergers_rev.child_ltla.values,\n",
    "                                               BA1_DTA_1944_n1406_mergers_rev.parent_ltla.values))\n",
    "\n",
    "BA1_DTA_1944_n1406_omicron_cases_study = omicron_cases.copy()\n",
    "BA1_DTA_1944_n1406_omicron_cases_study.origin = BA1_DTA_1944_n1406_omicron_cases_study.origin.apply(\n",
    "    lambda x: BA1_DTA_1944_n1406_mergers_rev_dict[x] if x in BA1_DTA_1944_n1406_mergers_rev_dict else x\n",
    ")\n",
    "BA1_DTA_1944_n1406_omicron_cases_study = BA1_DTA_1944_n1406_omicron_cases_study[\n",
    "    BA1_DTA_1944_n1406_omicron_cases_study.origin.isin(BA1_DTA_1944_n1406_tip_ltla.ltla.unique().tolist())]\n",
    "\n",
    "BA1_DTA_1944_n1406_omicron_cases_epo_1 = BA1_DTA_1944_n1406_omicron_cases_study[\n",
    "    (BA1_DTA_1944_n1406_omicron_cases_study.epoch == 1) &\n",
    "    (BA1_DTA_1944_n1406_omicron_cases_study.date >= dec2date(BA1_DTA_1944_n1406_import_est, get_str=True))\n",
    "].groupby('origin').agg({'count_mean': 'sum'}).reset_index()\n",
    "\n",
    "BA1_DTA_1944_n1406_omicron_cases_epo_2 = BA1_DTA_1944_n1406_omicron_cases_study[\n",
    "    BA1_DTA_1944_n1406_omicron_cases_study.epoch == 2\n",
    "].groupby('origin').agg({'count_mean': 'sum'}).reset_index()\n",
    "\n",
    "BA1_DTA_1944_n1406_omicron_cases_epo_3 = BA1_DTA_1944_n1406_omicron_cases_study[\n",
    "    BA1_DTA_1944_n1406_omicron_cases_study.epoch == 3\n",
    "].groupby('origin').agg({'count_mean': 'sum'}).reset_index()\n"
   ]
  },
  {
   "cell_type": "code",
   "execution_count": 319,
   "id": "august-devon",
   "metadata": {},
   "outputs": [],
   "source": [
    "BA1_DTA_1944_n1406_omicron_cases_sample_n_epo_1 = pd.merge(\n",
    "    BA1_DTA_1944_n1406_omicron_cases_epo_1,\n",
    "    BA1_DTA_1944_n1406_tip_ltla[BA1_DTA_1944_n1406_tip_ltla.epoch == 1\n",
    "                               ].groupby('ltla').count().reset_index().rename(columns={'ltla': 'origin'}),\n",
    "    on='origin', how='left').rename(columns={'name': 'sample_n'})[['origin', 'count_mean', 'sample_n']]\n",
    "zero_filled_sample_n_epo_1 = BA1_DTA_1944_n1406_omicron_cases_sample_n_epo_1.sample_n.apply(\n",
    "    lambda x: 0 if pd.isna(x) else x)\n",
    "BA1_DTA_1944_n1406_omicron_cases_sample_n_epo_1.sample_n = zero_filled_sample_n_epo_1\n",
    "\n",
    "BA1_DTA_1944_n1406_omicron_cases_sample_n_epo_2 = pd.merge(\n",
    "    BA1_DTA_1944_n1406_omicron_cases_epo_2,\n",
    "    BA1_DTA_1944_n1406_tip_ltla[BA1_DTA_1944_n1406_tip_ltla.epoch == 2\n",
    "                               ].groupby('ltla').count().reset_index().rename(columns={'ltla': 'origin'}),\n",
    "    on='origin', how='left').rename(columns={'name': 'sample_n'})[['origin', 'count_mean', 'sample_n']]\n",
    "zero_filled_sample_n_epo_2 = BA1_DTA_1944_n1406_omicron_cases_sample_n_epo_2.sample_n.apply(\n",
    "    lambda x: 0 if pd.isna(x) else x)\n",
    "BA1_DTA_1944_n1406_omicron_cases_sample_n_epo_2.sample_n = zero_filled_sample_n_epo_2\n",
    "\n",
    "BA1_DTA_1944_n1406_omicron_cases_sample_n_epo_3 = pd.merge(\n",
    "    BA1_DTA_1944_n1406_omicron_cases_epo_2,\n",
    "    BA1_DTA_1944_n1406_tip_ltla[BA1_DTA_1944_n1406_tip_ltla.epoch == 3\n",
    "                               ].groupby('ltla').count().reset_index().rename(columns={'ltla': 'origin'}),\n",
    "    on='origin', how='left').rename(columns={'name': 'sample_n'})[['origin', 'count_mean', 'sample_n']]\n",
    "zero_filled_sample_n_epo_3 = BA1_DTA_1944_n1406_omicron_cases_sample_n_epo_3.sample_n.apply(\n",
    "    lambda x: 0 if pd.isna(x) else x)\n",
    "BA1_DTA_1944_n1406_omicron_cases_sample_n_epo_3.sample_n = zero_filled_sample_n_epo_3\n"
   ]
  },
  {
   "cell_type": "markdown",
   "id": "genuine-herald",
   "metadata": {},
   "source": [
    "#### Epoch-1"
   ]
  },
  {
   "cell_type": "code",
   "execution_count": 332,
   "id": "several-composer",
   "metadata": {},
   "outputs": [
    {
     "data": {
      "image/png": "[encoded data removed]",
      "text/plain": [
       "<Figure size 432x288 with 1 Axes>"
      ]
     },
     "metadata": {
      "needs_background": "light"
     },
     "output_type": "display_data"
    }
   ],
   "source": [
    "plt.scatter(BA1_DTA_1944_n1406_omicron_cases_sample_n_epo_1.count_mean,\n",
    "            BA1_DTA_1944_n1406_omicron_cases_sample_n_epo_1.sample_n)\n",
    "plt.show()\n"
   ]
  },
  {
   "cell_type": "code",
   "execution_count": 333,
   "id": "imposed-reaction",
   "metadata": {},
   "outputs": [
    {
     "name": "stdout",
     "output_type": "stream",
     "text": [
      "                            OLS Regression Results                            \n",
      "==============================================================================\n",
      "Dep. Variable:               sample_n   R-squared:                       0.511\n",
      "Model:                            OLS   Adj. R-squared:                  0.509\n",
      "Method:                 Least Squares   F-statistic:                     261.8\n",
      "Date:                Mon, 19 Sep 2022   Prob (F-statistic):           7.99e-41\n",
      "Time:                        01:44:24   Log-Likelihood:                -458.51\n",
      "No. Observations:                 253   AIC:                             921.0\n",
      "Df Residuals:                     251   BIC:                             928.1\n",
      "Df Model:                           1                                         \n",
      "Covariance Type:            nonrobust                                         \n",
      "==============================================================================\n",
      "                 coef    std err          t      P>|t|      [0.025      0.975]\n",
      "------------------------------------------------------------------------------\n",
      "const         -0.2294      0.142     -1.612      0.108      -0.510       0.051\n",
      "count_mean     0.0005   2.83e-05     16.181      0.000       0.000       0.001\n",
      "==============================================================================\n",
      "Omnibus:                       45.222   Durbin-Watson:                   1.458\n",
      "Prob(Omnibus):                  0.000   Jarque-Bera (JB):              109.048\n",
      "Skew:                           0.830   Prob(JB):                     2.09e-24\n",
      "Kurtosis:                       5.755   Cond. No.                     7.64e+03\n",
      "==============================================================================\n",
      "\n",
      "Notes:\n",
      "[1] Standard Errors assume that the covariance matrix of the errors is correctly specified.\n",
      "[2] The condition number is large, 7.64e+03. This might indicate that there are\n",
      "strong multicollinearity or other numerical problems.\n",
      "const        -0.229413\n",
      "count_mean    0.000458\n",
      "dtype: float64\n"
     ]
    },
    {
     "data": {
      "text/plain": [
       "0     -0.048930\n",
       "1      0.470939\n",
       "2     -0.069498\n",
       "3     -0.703404\n",
       "4     -1.521086\n",
       "         ...   \n",
       "248    1.051941\n",
       "249    4.474360\n",
       "250    1.760904\n",
       "251    3.693072\n",
       "252    3.954439\n",
       "Length: 253, dtype: float64"
      ]
     },
     "execution_count": 333,
     "metadata": {},
     "output_type": "execute_result"
    }
   ],
   "source": [
    "X = sm.add_constant(BA1_DTA_1944_n1406_omicron_cases_sample_n_epo_1.count_mean)\n",
    "BA1_DTA_1944_n1406_reg_epo_1 = sm.OLS(\n",
    "    BA1_DTA_1944_n1406_omicron_cases_sample_n_epo_1.sample_n,\n",
    "    X\n",
    ").fit()\n",
    "print(BA1_DTA_1944_n1406_reg_epo_1.summary())\n",
    "print(BA1_DTA_1944_n1406_reg_epo_1.params)\n",
    "BA1_DTA_1944_n1406_reg_epo_1.resid\n"
   ]
  },
  {
   "cell_type": "code",
   "execution_count": 334,
   "id": "intelligent-instruction",
   "metadata": {},
   "outputs": [
    {
     "data": {
      "text/html": [
       "<div>\n",
       "<style scoped>\n",
       "    .dataframe tbody tr th:only-of-type {\n",
       "        vertical-align: middle;\n",
       "    }\n",
       "\n",
       "    .dataframe tbody tr th {\n",
       "        vertical-align: top;\n",
       "    }\n",
       "\n",
       "    .dataframe thead th {\n",
       "        text-align: right;\n",
       "    }\n",
       "</style>\n",
       "<table border=\"1\" class=\"dataframe\">\n",
       "  <thead>\n",
       "    <tr style=\"text-align: right;\">\n",
       "      <th></th>\n",
       "      <th>origin</th>\n",
       "      <th>count_mean</th>\n",
       "      <th>sample_n</th>\n",
       "      <th>resid</th>\n",
       "    </tr>\n",
       "  </thead>\n",
       "  <tbody>\n",
       "    <tr>\n",
       "      <th>0</th>\n",
       "      <td>E06000001</td>\n",
       "      <td>607.123093</td>\n",
       "      <td>0.0</td>\n",
       "      <td>-0.048930</td>\n",
       "    </tr>\n",
       "    <tr>\n",
       "      <th>1</th>\n",
       "      <td>E06000004</td>\n",
       "      <td>1654.386810</td>\n",
       "      <td>1.0</td>\n",
       "      <td>0.470939</td>\n",
       "    </tr>\n",
       "    <tr>\n",
       "      <th>2</th>\n",
       "      <td>E06000005</td>\n",
       "      <td>651.985620</td>\n",
       "      <td>0.0</td>\n",
       "      <td>-0.069498</td>\n",
       "    </tr>\n",
       "    <tr>\n",
       "      <th>3</th>\n",
       "      <td>E06000006</td>\n",
       "      <td>2034.663937</td>\n",
       "      <td>0.0</td>\n",
       "      <td>-0.703404</td>\n",
       "    </tr>\n",
       "    <tr>\n",
       "      <th>4</th>\n",
       "      <td>E06000007</td>\n",
       "      <td>3818.194655</td>\n",
       "      <td>0.0</td>\n",
       "      <td>-1.521086</td>\n",
       "    </tr>\n",
       "    <tr>\n",
       "      <th>...</th>\n",
       "      <td>...</td>\n",
       "      <td>...</td>\n",
       "      <td>...</td>\n",
       "      <td>...</td>\n",
       "    </tr>\n",
       "    <tr>\n",
       "      <th>248</th>\n",
       "      <td>E09000029</td>\n",
       "      <td>6930.713771</td>\n",
       "      <td>4.0</td>\n",
       "      <td>1.051941</td>\n",
       "    </tr>\n",
       "    <tr>\n",
       "      <th>249</th>\n",
       "      <td>E09000030</td>\n",
       "      <td>12552.945211</td>\n",
       "      <td>10.0</td>\n",
       "      <td>4.474360</td>\n",
       "    </tr>\n",
       "    <tr>\n",
       "      <th>250</th>\n",
       "      <td>E09000031</td>\n",
       "      <td>9746.728561</td>\n",
       "      <td>6.0</td>\n",
       "      <td>1.760904</td>\n",
       "    </tr>\n",
       "    <tr>\n",
       "      <th>251</th>\n",
       "      <td>E09000032</td>\n",
       "      <td>16438.296743</td>\n",
       "      <td>11.0</td>\n",
       "      <td>3.693072</td>\n",
       "    </tr>\n",
       "    <tr>\n",
       "      <th>252</th>\n",
       "      <td>E09000033</td>\n",
       "      <td>7143.386910</td>\n",
       "      <td>7.0</td>\n",
       "      <td>3.954439</td>\n",
       "    </tr>\n",
       "  </tbody>\n",
       "</table>\n",
       "<p>253 rows × 4 columns</p>\n",
       "</div>"
      ],
      "text/plain": [
       "        origin    count_mean  sample_n     resid\n",
       "0    E06000001    607.123093       0.0 -0.048930\n",
       "1    E06000004   1654.386810       1.0  0.470939\n",
       "2    E06000005    651.985620       0.0 -0.069498\n",
       "3    E06000006   2034.663937       0.0 -0.703404\n",
       "4    E06000007   3818.194655       0.0 -1.521086\n",
       "..         ...           ...       ...       ...\n",
       "248  E09000029   6930.713771       4.0  1.051941\n",
       "249  E09000030  12552.945211      10.0  4.474360\n",
       "250  E09000031   9746.728561       6.0  1.760904\n",
       "251  E09000032  16438.296743      11.0  3.693072\n",
       "252  E09000033   7143.386910       7.0  3.954439\n",
       "\n",
       "[253 rows x 4 columns]"
      ]
     },
     "execution_count": 334,
     "metadata": {},
     "output_type": "execute_result"
    }
   ],
   "source": [
    "BA1_DTA_1944_n1406_omicron_cases_sample_n_epo_1['resid'] = BA1_DTA_1944_n1406_reg_epo_1.resid\n",
    "BA1_DTA_1944_n1406_omicron_cases_sample_n_epo_1\n"
   ]
  },
  {
   "cell_type": "code",
   "execution_count": 335,
   "id": "promising-canvas",
   "metadata": {},
   "outputs": [
    {
     "data": {
      "text/plain": [
       "<matplotlib.collections.PathCollection at 0x7fd14fe1c990>"
      ]
     },
     "execution_count": 335,
     "metadata": {},
     "output_type": "execute_result"
    },
    {
     "data": {
      "image/png": "[encoded data removed]",
      "text/plain": [
       "<Figure size 432x288 with 1 Axes>"
      ]
     },
     "metadata": {
      "needs_background": "light"
     },
     "output_type": "display_data"
    }
   ],
   "source": [
    "plt.scatter([i for i in range(len(BA1_DTA_1944_n1406_omicron_cases_sample_n_epo_1.resid))],\n",
    "            BA1_DTA_1944_n1406_omicron_cases_sample_n_epo_1.resid)\n"
   ]
  },
  {
   "cell_type": "code",
   "execution_count": 336,
   "id": "practical-occasion",
   "metadata": {},
   "outputs": [],
   "source": [
    "with open('./BA.1_DTA_1944_n1406/ltla_residual_epo_1.tsv', 'w+') as outfile:\n",
    "    outfile.write('ltla\\tresidual\\n')\n",
    "    outfile.write('\\n'.join(['%s\\t%s' % (row.origin, row.resid)\n",
    "                             for index, row in BA1_DTA_1944_n1406_omicron_cases_sample_n_epo_1.iterrows()]))\n",
    "    "
   ]
  },
  {
   "cell_type": "markdown",
   "id": "usual-finger",
   "metadata": {},
   "source": [
    "#### Epoch-2"
   ]
  },
  {
   "cell_type": "code",
   "execution_count": 337,
   "id": "dense-timber",
   "metadata": {},
   "outputs": [
    {
     "data": {
      "image/png": "[encoded data removed]",
      "text/plain": [
       "<Figure size 432x288 with 1 Axes>"
      ]
     },
     "metadata": {
      "needs_background": "light"
     },
     "output_type": "display_data"
    }
   ],
   "source": [
    "plt.scatter(BA1_DTA_1944_n1406_omicron_cases_sample_n_epo_2.count_mean,\n",
    "            BA1_DTA_1944_n1406_omicron_cases_sample_n_epo_2.sample_n)\n",
    "plt.show()\n"
   ]
  },
  {
   "cell_type": "code",
   "execution_count": 338,
   "id": "derived-california",
   "metadata": {},
   "outputs": [
    {
     "name": "stdout",
     "output_type": "stream",
     "text": [
      "                            OLS Regression Results                            \n",
      "==============================================================================\n",
      "Dep. Variable:               sample_n   R-squared:                       0.272\n",
      "Model:                            OLS   Adj. R-squared:                  0.269\n",
      "Method:                 Least Squares   F-statistic:                     93.84\n",
      "Date:                Mon, 19 Sep 2022   Prob (F-statistic):           4.66e-19\n",
      "Time:                        01:45:41   Log-Likelihood:                -508.88\n",
      "No. Observations:                 253   AIC:                             1022.\n",
      "Df Residuals:                     251   BIC:                             1029.\n",
      "Df Model:                           1                                         \n",
      "Covariance Type:            nonrobust                                         \n",
      "==============================================================================\n",
      "                 coef    std err          t      P>|t|      [0.025      0.975]\n",
      "------------------------------------------------------------------------------\n",
      "const          0.7894      0.185      4.264      0.000       0.425       1.154\n",
      "count_mean     0.0002   1.74e-05      9.687      0.000       0.000       0.000\n",
      "==============================================================================\n",
      "Omnibus:                       94.647   Durbin-Watson:                   2.040\n",
      "Prob(Omnibus):                  0.000   Jarque-Bera (JB):              388.822\n",
      "Skew:                           1.504   Prob(JB):                     3.70e-85\n",
      "Kurtosis:                       8.276   Cond. No.                     1.73e+04\n",
      "==============================================================================\n",
      "\n",
      "Notes:\n",
      "[1] Standard Errors assume that the covariance matrix of the errors is correctly specified.\n",
      "[2] The condition number is large, 1.73e+04. This might indicate that there are\n",
      "strong multicollinearity or other numerical problems.\n",
      "const         0.789436\n",
      "count_mean    0.000168\n",
      "dtype: float64\n"
     ]
    },
    {
     "data": {
      "text/plain": [
       "0     -0.801534\n",
       "1      1.042124\n",
       "2     -0.687768\n",
       "3     -0.077680\n",
       "4     -1.615743\n",
       "         ...   \n",
       "248   -1.253095\n",
       "249   -2.846396\n",
       "250    0.350914\n",
       "251   -0.743729\n",
       "252    0.144957\n",
       "Length: 253, dtype: float64"
      ]
     },
     "execution_count": 338,
     "metadata": {},
     "output_type": "execute_result"
    }
   ],
   "source": [
    "X = sm.add_constant(BA1_DTA_1944_n1406_omicron_cases_sample_n_epo_2.count_mean)\n",
    "BA1_DTA_1944_n1406_reg_epo_2 = sm.OLS(\n",
    "    BA1_DTA_1944_n1406_omicron_cases_sample_n_epo_2.sample_n,\n",
    "    X\n",
    ").fit()\n",
    "print(BA1_DTA_1944_n1406_reg_epo_2.summary())\n",
    "print(BA1_DTA_1944_n1406_reg_epo_2.params)\n",
    "BA1_DTA_1944_n1406_reg_epo_2.resid\n"
   ]
  },
  {
   "cell_type": "code",
   "execution_count": 339,
   "id": "presidential-bosnia",
   "metadata": {},
   "outputs": [
    {
     "data": {
      "text/html": [
       "<div>\n",
       "<style scoped>\n",
       "    .dataframe tbody tr th:only-of-type {\n",
       "        vertical-align: middle;\n",
       "    }\n",
       "\n",
       "    .dataframe tbody tr th {\n",
       "        vertical-align: top;\n",
       "    }\n",
       "\n",
       "    .dataframe thead th {\n",
       "        text-align: right;\n",
       "    }\n",
       "</style>\n",
       "<table border=\"1\" class=\"dataframe\">\n",
       "  <thead>\n",
       "    <tr style=\"text-align: right;\">\n",
       "      <th></th>\n",
       "      <th>origin</th>\n",
       "      <th>count_mean</th>\n",
       "      <th>sample_n</th>\n",
       "      <th>resid</th>\n",
       "    </tr>\n",
       "  </thead>\n",
       "  <tbody>\n",
       "    <tr>\n",
       "      <th>0</th>\n",
       "      <td>E06000001</td>\n",
       "      <td>6013.218639</td>\n",
       "      <td>1.0</td>\n",
       "      <td>-0.801534</td>\n",
       "    </tr>\n",
       "    <tr>\n",
       "      <th>1</th>\n",
       "      <td>E06000004</td>\n",
       "      <td>12883.440526</td>\n",
       "      <td>4.0</td>\n",
       "      <td>1.042124</td>\n",
       "    </tr>\n",
       "    <tr>\n",
       "      <th>2</th>\n",
       "      <td>E06000005</td>\n",
       "      <td>5337.296844</td>\n",
       "      <td>1.0</td>\n",
       "      <td>-0.687768</td>\n",
       "    </tr>\n",
       "    <tr>\n",
       "      <th>3</th>\n",
       "      <td>E06000006</td>\n",
       "      <td>7653.898475</td>\n",
       "      <td>2.0</td>\n",
       "      <td>-0.077680</td>\n",
       "    </tr>\n",
       "    <tr>\n",
       "      <th>4</th>\n",
       "      <td>E06000007</td>\n",
       "      <td>10850.713185</td>\n",
       "      <td>1.0</td>\n",
       "      <td>-1.615743</td>\n",
       "    </tr>\n",
       "    <tr>\n",
       "      <th>...</th>\n",
       "      <td>...</td>\n",
       "      <td>...</td>\n",
       "      <td>...</td>\n",
       "      <td>...</td>\n",
       "    </tr>\n",
       "    <tr>\n",
       "      <th>248</th>\n",
       "      <td>E09000029</td>\n",
       "      <td>8696.094999</td>\n",
       "      <td>1.0</td>\n",
       "      <td>-1.253095</td>\n",
       "    </tr>\n",
       "    <tr>\n",
       "      <th>249</th>\n",
       "      <td>E09000030</td>\n",
       "      <td>12221.102257</td>\n",
       "      <td>0.0</td>\n",
       "      <td>-2.846396</td>\n",
       "    </tr>\n",
       "    <tr>\n",
       "      <th>250</th>\n",
       "      <td>E09000031</td>\n",
       "      <td>11048.812696</td>\n",
       "      <td>3.0</td>\n",
       "      <td>0.350914</td>\n",
       "    </tr>\n",
       "    <tr>\n",
       "      <th>251</th>\n",
       "      <td>E09000032</td>\n",
       "      <td>11611.121439</td>\n",
       "      <td>2.0</td>\n",
       "      <td>-0.743729</td>\n",
       "    </tr>\n",
       "    <tr>\n",
       "      <th>252</th>\n",
       "      <td>E09000033</td>\n",
       "      <td>6331.133605</td>\n",
       "      <td>2.0</td>\n",
       "      <td>0.144957</td>\n",
       "    </tr>\n",
       "  </tbody>\n",
       "</table>\n",
       "<p>253 rows × 4 columns</p>\n",
       "</div>"
      ],
      "text/plain": [
       "        origin    count_mean  sample_n     resid\n",
       "0    E06000001   6013.218639       1.0 -0.801534\n",
       "1    E06000004  12883.440526       4.0  1.042124\n",
       "2    E06000005   5337.296844       1.0 -0.687768\n",
       "3    E06000006   7653.898475       2.0 -0.077680\n",
       "4    E06000007  10850.713185       1.0 -1.615743\n",
       "..         ...           ...       ...       ...\n",
       "248  E09000029   8696.094999       1.0 -1.253095\n",
       "249  E09000030  12221.102257       0.0 -2.846396\n",
       "250  E09000031  11048.812696       3.0  0.350914\n",
       "251  E09000032  11611.121439       2.0 -0.743729\n",
       "252  E09000033   6331.133605       2.0  0.144957\n",
       "\n",
       "[253 rows x 4 columns]"
      ]
     },
     "execution_count": 339,
     "metadata": {},
     "output_type": "execute_result"
    }
   ],
   "source": [
    "BA1_DTA_1944_n1406_omicron_cases_sample_n_epo_2['resid'] = BA1_DTA_1944_n1406_reg_epo_2.resid\n",
    "BA1_DTA_1944_n1406_omicron_cases_sample_n_epo_2\n"
   ]
  },
  {
   "cell_type": "code",
   "execution_count": 340,
   "id": "coordinated-coral",
   "metadata": {},
   "outputs": [
    {
     "data": {
      "text/plain": [
       "<matplotlib.collections.PathCollection at 0x7fd1521a4a90>"
      ]
     },
     "execution_count": 340,
     "metadata": {},
     "output_type": "execute_result"
    },
    {
     "data": {
      "image/png": "[encoded data removed]",
      "text/plain": [
       "<Figure size 432x288 with 1 Axes>"
      ]
     },
     "metadata": {
      "needs_background": "light"
     },
     "output_type": "display_data"
    }
   ],
   "source": [
    "plt.scatter([i for i in range(len(BA1_DTA_1944_n1406_omicron_cases_sample_n_epo_2.resid))],\n",
    "            BA1_DTA_1944_n1406_omicron_cases_sample_n_epo_2.resid)\n"
   ]
  },
  {
   "cell_type": "code",
   "execution_count": 341,
   "id": "respiratory-recognition",
   "metadata": {},
   "outputs": [],
   "source": [
    "with open('./BA.1_DTA_1944_n1406/ltla_residual_epo_2.tsv', 'w+') as outfile:\n",
    "    outfile.write('ltla\\tresidual\\n')\n",
    "    outfile.write('\\n'.join(['%s\\t%s' % (row.origin, row.resid)\n",
    "                             for index, row in BA1_DTA_1944_n1406_omicron_cases_sample_n_epo_2.iterrows()]))\n",
    "    "
   ]
  },
  {
   "cell_type": "markdown",
   "id": "fifteen-facing",
   "metadata": {},
   "source": [
    "#### Epoch-3"
   ]
  },
  {
   "cell_type": "code",
   "execution_count": 342,
   "id": "satisfactory-local",
   "metadata": {},
   "outputs": [
    {
     "data": {
      "image/png": "[encoded data removed]",
      "text/plain": [
       "<Figure size 432x288 with 1 Axes>"
      ]
     },
     "metadata": {
      "needs_background": "light"
     },
     "output_type": "display_data"
    }
   ],
   "source": [
    "plt.scatter(BA1_DTA_1944_n1406_omicron_cases_sample_n_epo_3.count_mean,\n",
    "            BA1_DTA_1944_n1406_omicron_cases_sample_n_epo_3.sample_n)\n",
    "plt.show()\n"
   ]
  },
  {
   "cell_type": "code",
   "execution_count": 343,
   "id": "mobile-union",
   "metadata": {},
   "outputs": [
    {
     "name": "stdout",
     "output_type": "stream",
     "text": [
      "                            OLS Regression Results                            \n",
      "==============================================================================\n",
      "Dep. Variable:               sample_n   R-squared:                       0.053\n",
      "Model:                            OLS   Adj. R-squared:                  0.049\n",
      "Method:                 Least Squares   F-statistic:                     14.04\n",
      "Date:                Mon, 19 Sep 2022   Prob (F-statistic):           0.000222\n",
      "Time:                        01:46:32   Log-Likelihood:                -541.90\n",
      "No. Observations:                 253   AIC:                             1088.\n",
      "Df Residuals:                     251   BIC:                             1095.\n",
      "Df Model:                           1                                         \n",
      "Covariance Type:            nonrobust                                         \n",
      "==============================================================================\n",
      "                 coef    std err          t      P>|t|      [0.025      0.975]\n",
      "------------------------------------------------------------------------------\n",
      "const          1.2274      0.211      5.818      0.000       0.812       1.643\n",
      "count_mean  7.418e-05   1.98e-05      3.747      0.000    3.52e-05       0.000\n",
      "==============================================================================\n",
      "Omnibus:                      159.787   Durbin-Watson:                   1.986\n",
      "Prob(Omnibus):                  0.000   Jarque-Bera (JB):             1402.626\n",
      "Skew:                           2.437   Prob(JB):                    2.65e-305\n",
      "Kurtosis:                      13.455   Cond. No.                     1.73e+04\n",
      "==============================================================================\n",
      "\n",
      "Notes:\n",
      "[1] Standard Errors assume that the covariance matrix of the errors is correctly specified.\n",
      "[2] The condition number is large, 1.73e+04. This might indicate that there are\n",
      "strong multicollinearity or other numerical problems.\n",
      "const         1.227417\n",
      "count_mean    0.000074\n",
      "dtype: float64\n"
     ]
    },
    {
     "data": {
      "text/plain": [
       "0     -0.673487\n",
       "1     -1.183130\n",
       "2     -1.623346\n",
       "3     -0.795195\n",
       "4     -1.032339\n",
       "         ...   \n",
       "248   -1.872506\n",
       "249   -1.133997\n",
       "250   -0.047034\n",
       "251    2.911253\n",
       "252   -0.697070\n",
       "Length: 253, dtype: float64"
      ]
     },
     "execution_count": 343,
     "metadata": {},
     "output_type": "execute_result"
    }
   ],
   "source": [
    "X = sm.add_constant(BA1_DTA_1944_n1406_omicron_cases_sample_n_epo_3.count_mean)\n",
    "BA1_DTA_1944_n1406_reg_epo_3 = sm.OLS(\n",
    "    BA1_DTA_1944_n1406_omicron_cases_sample_n_epo_3.sample_n,\n",
    "    X\n",
    ").fit()\n",
    "print(BA1_DTA_1944_n1406_reg_epo_3.summary())\n",
    "print(BA1_DTA_1944_n1406_reg_epo_3.params)\n",
    "BA1_DTA_1944_n1406_reg_epo_3.resid\n"
   ]
  },
  {
   "cell_type": "code",
   "execution_count": 344,
   "id": "behavioral-steering",
   "metadata": {},
   "outputs": [
    {
     "data": {
      "text/html": [
       "<div>\n",
       "<style scoped>\n",
       "    .dataframe tbody tr th:only-of-type {\n",
       "        vertical-align: middle;\n",
       "    }\n",
       "\n",
       "    .dataframe tbody tr th {\n",
       "        vertical-align: top;\n",
       "    }\n",
       "\n",
       "    .dataframe thead th {\n",
       "        text-align: right;\n",
       "    }\n",
       "</style>\n",
       "<table border=\"1\" class=\"dataframe\">\n",
       "  <thead>\n",
       "    <tr style=\"text-align: right;\">\n",
       "      <th></th>\n",
       "      <th>origin</th>\n",
       "      <th>count_mean</th>\n",
       "      <th>sample_n</th>\n",
       "      <th>resid</th>\n",
       "    </tr>\n",
       "  </thead>\n",
       "  <tbody>\n",
       "    <tr>\n",
       "      <th>0</th>\n",
       "      <td>E06000001</td>\n",
       "      <td>6013.218639</td>\n",
       "      <td>1.0</td>\n",
       "      <td>-0.673487</td>\n",
       "    </tr>\n",
       "    <tr>\n",
       "      <th>1</th>\n",
       "      <td>E06000004</td>\n",
       "      <td>12883.440526</td>\n",
       "      <td>1.0</td>\n",
       "      <td>-1.183130</td>\n",
       "    </tr>\n",
       "    <tr>\n",
       "      <th>2</th>\n",
       "      <td>E06000005</td>\n",
       "      <td>5337.296844</td>\n",
       "      <td>0.0</td>\n",
       "      <td>-1.623346</td>\n",
       "    </tr>\n",
       "    <tr>\n",
       "      <th>3</th>\n",
       "      <td>E06000006</td>\n",
       "      <td>7653.898475</td>\n",
       "      <td>1.0</td>\n",
       "      <td>-0.795195</td>\n",
       "    </tr>\n",
       "    <tr>\n",
       "      <th>4</th>\n",
       "      <td>E06000007</td>\n",
       "      <td>10850.713185</td>\n",
       "      <td>1.0</td>\n",
       "      <td>-1.032339</td>\n",
       "    </tr>\n",
       "    <tr>\n",
       "      <th>...</th>\n",
       "      <td>...</td>\n",
       "      <td>...</td>\n",
       "      <td>...</td>\n",
       "      <td>...</td>\n",
       "    </tr>\n",
       "    <tr>\n",
       "      <th>248</th>\n",
       "      <td>E09000029</td>\n",
       "      <td>8696.094999</td>\n",
       "      <td>0.0</td>\n",
       "      <td>-1.872506</td>\n",
       "    </tr>\n",
       "    <tr>\n",
       "      <th>249</th>\n",
       "      <td>E09000030</td>\n",
       "      <td>12221.102257</td>\n",
       "      <td>1.0</td>\n",
       "      <td>-1.133997</td>\n",
       "    </tr>\n",
       "    <tr>\n",
       "      <th>250</th>\n",
       "      <td>E09000031</td>\n",
       "      <td>11048.812696</td>\n",
       "      <td>2.0</td>\n",
       "      <td>-0.047034</td>\n",
       "    </tr>\n",
       "    <tr>\n",
       "      <th>251</th>\n",
       "      <td>E09000032</td>\n",
       "      <td>11611.121439</td>\n",
       "      <td>5.0</td>\n",
       "      <td>2.911253</td>\n",
       "    </tr>\n",
       "    <tr>\n",
       "      <th>252</th>\n",
       "      <td>E09000033</td>\n",
       "      <td>6331.133605</td>\n",
       "      <td>1.0</td>\n",
       "      <td>-0.697070</td>\n",
       "    </tr>\n",
       "  </tbody>\n",
       "</table>\n",
       "<p>253 rows × 4 columns</p>\n",
       "</div>"
      ],
      "text/plain": [
       "        origin    count_mean  sample_n     resid\n",
       "0    E06000001   6013.218639       1.0 -0.673487\n",
       "1    E06000004  12883.440526       1.0 -1.183130\n",
       "2    E06000005   5337.296844       0.0 -1.623346\n",
       "3    E06000006   7653.898475       1.0 -0.795195\n",
       "4    E06000007  10850.713185       1.0 -1.032339\n",
       "..         ...           ...       ...       ...\n",
       "248  E09000029   8696.094999       0.0 -1.872506\n",
       "249  E09000030  12221.102257       1.0 -1.133997\n",
       "250  E09000031  11048.812696       2.0 -0.047034\n",
       "251  E09000032  11611.121439       5.0  2.911253\n",
       "252  E09000033   6331.133605       1.0 -0.697070\n",
       "\n",
       "[253 rows x 4 columns]"
      ]
     },
     "execution_count": 344,
     "metadata": {},
     "output_type": "execute_result"
    }
   ],
   "source": [
    "BA1_DTA_1944_n1406_omicron_cases_sample_n_epo_3['resid'] = BA1_DTA_1944_n1406_reg_epo_3.resid\n",
    "BA1_DTA_1944_n1406_omicron_cases_sample_n_epo_3\n"
   ]
  },
  {
   "cell_type": "code",
   "execution_count": 345,
   "id": "expressed-export",
   "metadata": {},
   "outputs": [
    {
     "data": {
      "text/plain": [
       "<matplotlib.collections.PathCollection at 0x7fd152f54b90>"
      ]
     },
     "execution_count": 345,
     "metadata": {},
     "output_type": "execute_result"
    },
    {
     "data": {
      "image/png": "[encoded data removed]",
      "text/plain": [
       "<Figure size 432x288 with 1 Axes>"
      ]
     },
     "metadata": {
      "needs_background": "light"
     },
     "output_type": "display_data"
    }
   ],
   "source": [
    "plt.scatter([i for i in range(len(BA1_DTA_1944_n1406_omicron_cases_sample_n_epo_3.resid))],\n",
    "            BA1_DTA_1944_n1406_omicron_cases_sample_n_epo_3.resid)\n"
   ]
  },
  {
   "cell_type": "code",
   "execution_count": 346,
   "id": "cardiovascular-possibility",
   "metadata": {},
   "outputs": [],
   "source": [
    "with open('./BA.1_DTA_1944_n1406/ltla_residual_epo_3.tsv', 'w+') as outfile:\n",
    "    outfile.write('ltla\\tresidual\\n')\n",
    "    outfile.write('\\n'.join(['%s\\t%s' % (row.origin, row.resid)\n",
    "                             for index, row in BA1_DTA_1944_n1406_omicron_cases_sample_n_epo_3.iterrows()]))\n",
    "    "
   ]
  },
  {
   "cell_type": "markdown",
   "id": "excellent-editor",
   "metadata": {},
   "source": [
    "## Merge LTLAs for BA.1_DTA_1800_n944"
   ]
  },
  {
   "cell_type": "code",
   "execution_count": 347,
   "id": "sustainable-hunter",
   "metadata": {},
   "outputs": [],
   "source": [
    "BA1_DTA_1800_n944_mergers_rev_dict = dict(zip(BA1_DTA_1800_n944_mergers_rev.child_ltla.values,\n",
    "                                              BA1_DTA_1800_n944_mergers_rev.parent_ltla.values))\n",
    "\n",
    "BA1_DTA_1800_n944_omicron_cases_study = omicron_cases.copy()\n",
    "BA1_DTA_1800_n944_omicron_cases_study.origin = BA1_DTA_1800_n944_omicron_cases_study.origin.apply(\n",
    "    lambda x: BA1_DTA_1800_n944_mergers_rev_dict[x] if x in BA1_DTA_1800_n944_mergers_rev_dict else x\n",
    ")\n",
    "BA1_DTA_1800_n944_omicron_cases_study = BA1_DTA_1800_n944_omicron_cases_study[\n",
    "    BA1_DTA_1800_n944_omicron_cases_study.origin.isin(BA1_DTA_1800_n944_tip_ltla.ltla.unique().tolist())]\n",
    "\n",
    "BA1_DTA_1800_n944_omicron_cases_epo_1 = BA1_DTA_1800_n944_omicron_cases_study[\n",
    "    (BA1_DTA_1800_n944_omicron_cases_study.epoch == 1) &\n",
    "    (BA1_DTA_1800_n944_omicron_cases_study.date >= dec2date(BA1_DTA_1800_n944_import_est, get_str=True))\n",
    "].groupby('origin').agg({'count_mean': 'sum'}).reset_index()\n",
    "\n",
    "BA1_DTA_1800_n944_omicron_cases_epo_2 = BA1_DTA_1800_n944_omicron_cases_study[\n",
    "    BA1_DTA_1800_n944_omicron_cases_study.epoch == 2\n",
    "].groupby('origin').agg({'count_mean': 'sum'}).reset_index()\n",
    "\n",
    "BA1_DTA_1800_n944_omicron_cases_epo_3 = BA1_DTA_1800_n944_omicron_cases_study[\n",
    "    BA1_DTA_1800_n944_omicron_cases_study.epoch == 3\n",
    "].groupby('origin').agg({'count_mean': 'sum'}).reset_index()\n"
   ]
  },
  {
   "cell_type": "code",
   "execution_count": 348,
   "id": "raised-azerbaijan",
   "metadata": {},
   "outputs": [],
   "source": [
    "BA1_DTA_1800_n944_omicron_cases_sample_n_epo_1 = pd.merge(\n",
    "    BA1_DTA_1800_n944_omicron_cases_epo_1,\n",
    "    BA1_DTA_1800_n944_tip_ltla[BA1_DTA_1800_n944_tip_ltla.epoch == 1\n",
    "                              ].groupby('ltla').count().reset_index().rename(columns={'ltla': 'origin'}),\n",
    "    on='origin', how='left').rename(columns={'name': 'sample_n'})[['origin', 'count_mean', 'sample_n']]\n",
    "zero_filled_sample_n_epo_1 = BA1_DTA_1800_n944_omicron_cases_sample_n_epo_1.sample_n.apply(\n",
    "    lambda x: 0 if pd.isna(x) else x)\n",
    "BA1_DTA_1800_n944_omicron_cases_sample_n_epo_1.sample_n = zero_filled_sample_n_epo_1\n",
    "\n",
    "BA1_DTA_1800_n944_omicron_cases_sample_n_epo_2 = pd.merge(\n",
    "    BA1_DTA_1800_n944_omicron_cases_epo_2,\n",
    "    BA1_DTA_1800_n944_tip_ltla[BA1_DTA_1800_n944_tip_ltla.epoch == 2\n",
    "                              ].groupby('ltla').count().reset_index().rename(columns={'ltla': 'origin'}),\n",
    "    on='origin', how='left').rename(columns={'name': 'sample_n'})[['origin', 'count_mean', 'sample_n']]\n",
    "zero_filled_sample_n_epo_2 = BA1_DTA_1800_n944_omicron_cases_sample_n_epo_2.sample_n.apply(\n",
    "    lambda x: 0 if pd.isna(x) else x)\n",
    "BA1_DTA_1800_n944_omicron_cases_sample_n_epo_2.sample_n = zero_filled_sample_n_epo_2\n",
    "\n",
    "BA1_DTA_1800_n944_omicron_cases_sample_n_epo_3 = pd.merge(\n",
    "    BA1_DTA_1800_n944_omicron_cases_epo_3,\n",
    "    BA1_DTA_1800_n944_tip_ltla[BA1_DTA_1800_n944_tip_ltla.epoch == 3\n",
    "                              ].groupby('ltla').count().reset_index().rename(columns={'ltla': 'origin'}),\n",
    "    on='origin', how='left').rename(columns={'name': 'sample_n'})[['origin', 'count_mean', 'sample_n']]\n",
    "zero_filled_sample_n_epo_3 = BA1_DTA_1800_n944_omicron_cases_sample_n_epo_3.sample_n.apply(\n",
    "    lambda x: 0 if pd.isna(x) else x)\n",
    "BA1_DTA_1800_n944_omicron_cases_sample_n_epo_3.sample_n = zero_filled_sample_n_epo_3\n"
   ]
  },
  {
   "cell_type": "markdown",
   "id": "straight-backup",
   "metadata": {},
   "source": [
    "#### Epoch-1"
   ]
  },
  {
   "cell_type": "code",
   "execution_count": 357,
   "id": "driving-member",
   "metadata": {},
   "outputs": [
    {
     "data": {
      "image/png": "[encoded data removed]",
      "text/plain": [
       "<Figure size 432x288 with 1 Axes>"
      ]
     },
     "metadata": {
      "needs_background": "light"
     },
     "output_type": "display_data"
    }
   ],
   "source": [
    "plt.scatter(BA1_DTA_1800_n944_omicron_cases_sample_n_epo_1.count_mean,\n",
    "            BA1_DTA_1800_n944_omicron_cases_sample_n_epo_1.sample_n)\n",
    "plt.show()\n"
   ]
  },
  {
   "cell_type": "code",
   "execution_count": 358,
   "id": "virtual-cancellation",
   "metadata": {},
   "outputs": [
    {
     "name": "stdout",
     "output_type": "stream",
     "text": [
      "                            OLS Regression Results                            \n",
      "==============================================================================\n",
      "Dep. Variable:               sample_n   R-squared:                       0.301\n",
      "Model:                            OLS   Adj. R-squared:                  0.298\n",
      "Method:                 Least Squares   F-statistic:                     107.9\n",
      "Date:                Mon, 19 Sep 2022   Prob (F-statistic):           2.98e-21\n",
      "Time:                        02:02:58   Log-Likelihood:                -324.10\n",
      "No. Observations:                 253   AIC:                             652.2\n",
      "Df Residuals:                     251   BIC:                             659.3\n",
      "Df Model:                           1                                         \n",
      "Covariance Type:            nonrobust                                         \n",
      "==============================================================================\n",
      "                 coef    std err          t      P>|t|      [0.025      0.975]\n",
      "------------------------------------------------------------------------------\n",
      "const         -0.0816      0.082     -0.992      0.322      -0.243       0.080\n",
      "count_mean     0.0002   1.71e-05     10.386      0.000       0.000       0.000\n",
      "==============================================================================\n",
      "Omnibus:                       89.375   Durbin-Watson:                   1.634\n",
      "Prob(Omnibus):                  0.000   Jarque-Bera (JB):              340.948\n",
      "Skew:                           1.439   Prob(JB):                     9.21e-75\n",
      "Kurtosis:                       7.905   Cond. No.                     7.17e+03\n",
      "==============================================================================\n",
      "\n",
      "Notes:\n",
      "[1] Standard Errors assume that the covariance matrix of the errors is correctly specified.\n",
      "[2] The condition number is large, 7.17e+03. This might indicate that there are\n",
      "strong multicollinearity or other numerical problems.\n",
      "const        -0.081551\n",
      "count_mean    0.000178\n",
      "dtype: float64\n"
     ]
    },
    {
     "data": {
      "text/plain": [
       "0     -0.057659\n",
       "1     -0.058587\n",
       "2      1.720904\n",
       "3     -0.596790\n",
       "4     -0.245153\n",
       "         ...   \n",
       "248    2.400719\n",
       "249   -2.146891\n",
       "250   -1.649074\n",
       "251    1.162733\n",
       "252   -0.186140\n",
       "Length: 253, dtype: float64"
      ]
     },
     "execution_count": 358,
     "metadata": {},
     "output_type": "execute_result"
    }
   ],
   "source": [
    "X = sm.add_constant(BA1_DTA_1800_n944_omicron_cases_sample_n_epo_1.count_mean)\n",
    "BA1_DTA_1800_n944_reg_epo_1 = sm.OLS(\n",
    "    BA1_DTA_1800_n944_omicron_cases_sample_n_epo_1.sample_n,\n",
    "    X\n",
    ").fit()\n",
    "print(BA1_DTA_1800_n944_reg_epo_1.summary())\n",
    "print(BA1_DTA_1800_n944_reg_epo_1.params)\n",
    "BA1_DTA_1800_n944_reg_epo_1.resid\n"
   ]
  },
  {
   "cell_type": "code",
   "execution_count": 366,
   "id": "exposed-northern",
   "metadata": {},
   "outputs": [
    {
     "data": {
      "text/html": [
       "<div>\n",
       "<style scoped>\n",
       "    .dataframe tbody tr th:only-of-type {\n",
       "        vertical-align: middle;\n",
       "    }\n",
       "\n",
       "    .dataframe tbody tr th {\n",
       "        vertical-align: top;\n",
       "    }\n",
       "\n",
       "    .dataframe thead th {\n",
       "        text-align: right;\n",
       "    }\n",
       "</style>\n",
       "<table border=\"1\" class=\"dataframe\">\n",
       "  <thead>\n",
       "    <tr style=\"text-align: right;\">\n",
       "      <th></th>\n",
       "      <th>origin</th>\n",
       "      <th>count_mean</th>\n",
       "      <th>sample_n</th>\n",
       "      <th>resid</th>\n",
       "    </tr>\n",
       "  </thead>\n",
       "  <tbody>\n",
       "    <tr>\n",
       "      <th>0</th>\n",
       "      <td>E06000002</td>\n",
       "      <td>782.071904</td>\n",
       "      <td>0.0</td>\n",
       "      <td>-0.057659</td>\n",
       "    </tr>\n",
       "    <tr>\n",
       "      <th>1</th>\n",
       "      <td>E06000003</td>\n",
       "      <td>787.287536</td>\n",
       "      <td>0.0</td>\n",
       "      <td>-0.058587</td>\n",
       "    </tr>\n",
       "    <tr>\n",
       "      <th>2</th>\n",
       "      <td>E06000006</td>\n",
       "      <td>2026.094928</td>\n",
       "      <td>2.0</td>\n",
       "      <td>1.720904</td>\n",
       "    </tr>\n",
       "    <tr>\n",
       "      <th>3</th>\n",
       "      <td>E06000007</td>\n",
       "      <td>3810.885166</td>\n",
       "      <td>0.0</td>\n",
       "      <td>-0.596790</td>\n",
       "    </tr>\n",
       "    <tr>\n",
       "      <th>4</th>\n",
       "      <td>E06000008</td>\n",
       "      <td>1835.408854</td>\n",
       "      <td>0.0</td>\n",
       "      <td>-0.245153</td>\n",
       "    </tr>\n",
       "    <tr>\n",
       "      <th>...</th>\n",
       "      <td>...</td>\n",
       "      <td>...</td>\n",
       "      <td>...</td>\n",
       "      <td>...</td>\n",
       "    </tr>\n",
       "    <tr>\n",
       "      <th>248</th>\n",
       "      <td>E09000028</td>\n",
       "      <td>15060.786894</td>\n",
       "      <td>5.0</td>\n",
       "      <td>2.400719</td>\n",
       "    </tr>\n",
       "    <tr>\n",
       "      <th>249</th>\n",
       "      <td>E09000030</td>\n",
       "      <td>12519.278694</td>\n",
       "      <td>0.0</td>\n",
       "      <td>-2.146891</td>\n",
       "    </tr>\n",
       "    <tr>\n",
       "      <th>250</th>\n",
       "      <td>E09000031</td>\n",
       "      <td>9722.566622</td>\n",
       "      <td>0.0</td>\n",
       "      <td>-1.649074</td>\n",
       "    </tr>\n",
       "    <tr>\n",
       "      <th>251</th>\n",
       "      <td>E09000032</td>\n",
       "      <td>16397.776919</td>\n",
       "      <td>4.0</td>\n",
       "      <td>1.162733</td>\n",
       "    </tr>\n",
       "    <tr>\n",
       "      <th>252</th>\n",
       "      <td>E09000033</td>\n",
       "      <td>7121.824720</td>\n",
       "      <td>1.0</td>\n",
       "      <td>-0.186140</td>\n",
       "    </tr>\n",
       "  </tbody>\n",
       "</table>\n",
       "<p>253 rows × 4 columns</p>\n",
       "</div>"
      ],
      "text/plain": [
       "        origin    count_mean  sample_n     resid\n",
       "0    E06000002    782.071904       0.0 -0.057659\n",
       "1    E06000003    787.287536       0.0 -0.058587\n",
       "2    E06000006   2026.094928       2.0  1.720904\n",
       "3    E06000007   3810.885166       0.0 -0.596790\n",
       "4    E06000008   1835.408854       0.0 -0.245153\n",
       "..         ...           ...       ...       ...\n",
       "248  E09000028  15060.786894       5.0  2.400719\n",
       "249  E09000030  12519.278694       0.0 -2.146891\n",
       "250  E09000031   9722.566622       0.0 -1.649074\n",
       "251  E09000032  16397.776919       4.0  1.162733\n",
       "252  E09000033   7121.824720       1.0 -0.186140\n",
       "\n",
       "[253 rows x 4 columns]"
      ]
     },
     "execution_count": 366,
     "metadata": {},
     "output_type": "execute_result"
    }
   ],
   "source": [
    "BA1_DTA_1800_n944_omicron_cases_sample_n_epo_1['resid'] = BA1_DTA_1800_n944_reg_epo_1.resid\n",
    "BA1_DTA_1800_n944_omicron_cases_sample_n_epo_1\n"
   ]
  },
  {
   "cell_type": "code",
   "execution_count": 360,
   "id": "starting-moore",
   "metadata": {},
   "outputs": [
    {
     "data": {
      "text/plain": [
       "<matplotlib.collections.PathCollection at 0x7fd15320b290>"
      ]
     },
     "execution_count": 360,
     "metadata": {},
     "output_type": "execute_result"
    },
    {
     "data": {
      "image/png": "[encoded data removed]",
      "text/plain": [
       "<Figure size 432x288 with 1 Axes>"
      ]
     },
     "metadata": {
      "needs_background": "light"
     },
     "output_type": "display_data"
    }
   ],
   "source": [
    "plt.scatter([i for i in range(len(BA1_DTA_1800_n944_omicron_cases_sample_n_epo_1.resid))],\n",
    "            BA1_DTA_1800_n944_omicron_cases_sample_n_epo_1.resid)\n"
   ]
  },
  {
   "cell_type": "code",
   "execution_count": 361,
   "id": "norwegian-choice",
   "metadata": {},
   "outputs": [],
   "source": [
    "with open('./BA.1_DTA_1800_n944/ltla_residual_epo_1.tsv', 'w+') as outfile:\n",
    "    outfile.write('ltla\\tresidual\\n')\n",
    "    outfile.write('\\n'.join(['%s\\t%s' % (row.origin, row.resid)\n",
    "                             for index, row in BA1_DTA_1800_n944_omicron_cases_sample_n_epo_1.iterrows()]))\n",
    "    "
   ]
  },
  {
   "cell_type": "markdown",
   "id": "deadly-james",
   "metadata": {},
   "source": [
    "#### Epoch-2"
   ]
  },
  {
   "cell_type": "code",
   "execution_count": 372,
   "id": "patient-forest",
   "metadata": {},
   "outputs": [
    {
     "data": {
      "image/png": "[encoded data removed]",
      "text/plain": [
       "<Figure size 432x288 with 1 Axes>"
      ]
     },
     "metadata": {
      "needs_background": "light"
     },
     "output_type": "display_data"
    }
   ],
   "source": [
    "plt.scatter(BA1_DTA_1800_n944_omicron_cases_sample_n_epo_2.count_mean,\n",
    "            BA1_DTA_1800_n944_omicron_cases_sample_n_epo_2.sample_n)\n",
    "plt.show()\n"
   ]
  },
  {
   "cell_type": "code",
   "execution_count": 373,
   "id": "choice-kentucky",
   "metadata": {},
   "outputs": [
    {
     "name": "stdout",
     "output_type": "stream",
     "text": [
      "                            OLS Regression Results                            \n",
      "==============================================================================\n",
      "Dep. Variable:               sample_n   R-squared:                       0.256\n",
      "Model:                            OLS   Adj. R-squared:                  0.253\n",
      "Method:                 Least Squares   F-statistic:                     86.56\n",
      "Date:                Mon, 19 Sep 2022   Prob (F-statistic):           6.97e-18\n",
      "Time:                        02:06:15   Log-Likelihood:                -441.41\n",
      "No. Observations:                 253   AIC:                             886.8\n",
      "Df Residuals:                     251   BIC:                             893.9\n",
      "Df Model:                           1                                         \n",
      "Covariance Type:            nonrobust                                         \n",
      "==============================================================================\n",
      "                 coef    std err          t      P>|t|      [0.025      0.975]\n",
      "------------------------------------------------------------------------------\n",
      "const          0.2436      0.147      1.660      0.098      -0.045       0.533\n",
      "count_mean     0.0001   1.46e-05      9.304      0.000       0.000       0.000\n",
      "==============================================================================\n",
      "Omnibus:                       83.183   Durbin-Watson:                   2.131\n",
      "Prob(Omnibus):                  0.000   Jarque-Bera (JB):              295.932\n",
      "Skew:                           1.356   Prob(JB):                     5.48e-65\n",
      "Kurtosis:                       7.551   Cond. No.                     1.69e+04\n",
      "==============================================================================\n",
      "\n",
      "Notes:\n",
      "[1] Standard Errors assume that the covariance matrix of the errors is correctly specified.\n",
      "[2] The condition number is large, 1.69e+04. This might indicate that there are\n",
      "strong multicollinearity or other numerical problems.\n",
      "const         0.243598\n",
      "count_mean    0.000136\n",
      "dtype: float64\n"
     ]
    },
    {
     "data": {
      "text/plain": [
       "0     -1.519922\n",
       "1     -1.417256\n",
       "2     -1.282859\n",
       "3      0.283071\n",
       "4      1.568273\n",
       "         ...   \n",
       "248    1.212830\n",
       "249    2.096997\n",
       "250   -1.743827\n",
       "251    0.179822\n",
       "252   -0.103251\n",
       "Length: 253, dtype: float64"
      ]
     },
     "execution_count": 373,
     "metadata": {},
     "output_type": "execute_result"
    }
   ],
   "source": [
    "X = sm.add_constant(BA1_DTA_1800_n944_omicron_cases_sample_n_epo_2.count_mean)\n",
    "BA1_DTA_1800_n944_reg_epo_2 = sm.OLS(\n",
    "    BA1_DTA_1800_n944_omicron_cases_sample_n_epo_2.sample_n,\n",
    "    X\n",
    ").fit()\n",
    "print(BA1_DTA_1800_n944_reg_epo_2.summary())\n",
    "print(BA1_DTA_1800_n944_reg_epo_2.params)\n",
    "BA1_DTA_1800_n944_reg_epo_2.resid\n"
   ]
  },
  {
   "cell_type": "code",
   "execution_count": 374,
   "id": "adapted-messenger",
   "metadata": {},
   "outputs": [
    {
     "data": {
      "text/html": [
       "<div>\n",
       "<style scoped>\n",
       "    .dataframe tbody tr th:only-of-type {\n",
       "        vertical-align: middle;\n",
       "    }\n",
       "\n",
       "    .dataframe tbody tr th {\n",
       "        vertical-align: top;\n",
       "    }\n",
       "\n",
       "    .dataframe thead th {\n",
       "        text-align: right;\n",
       "    }\n",
       "</style>\n",
       "<table border=\"1\" class=\"dataframe\">\n",
       "  <thead>\n",
       "    <tr style=\"text-align: right;\">\n",
       "      <th></th>\n",
       "      <th>origin</th>\n",
       "      <th>count_mean</th>\n",
       "      <th>sample_n</th>\n",
       "      <th>resid</th>\n",
       "    </tr>\n",
       "  </thead>\n",
       "  <tbody>\n",
       "    <tr>\n",
       "      <th>0</th>\n",
       "      <td>E06000002</td>\n",
       "      <td>9399.812953</td>\n",
       "      <td>0.0</td>\n",
       "      <td>-1.519922</td>\n",
       "    </tr>\n",
       "    <tr>\n",
       "      <th>1</th>\n",
       "      <td>E06000003</td>\n",
       "      <td>8643.702112</td>\n",
       "      <td>0.0</td>\n",
       "      <td>-1.417256</td>\n",
       "    </tr>\n",
       "    <tr>\n",
       "      <th>2</th>\n",
       "      <td>E06000006</td>\n",
       "      <td>7653.898475</td>\n",
       "      <td>0.0</td>\n",
       "      <td>-1.282859</td>\n",
       "    </tr>\n",
       "    <tr>\n",
       "      <th>3</th>\n",
       "      <td>E06000007</td>\n",
       "      <td>10850.713185</td>\n",
       "      <td>2.0</td>\n",
       "      <td>0.283071</td>\n",
       "    </tr>\n",
       "    <tr>\n",
       "      <th>4</th>\n",
       "      <td>E06000008</td>\n",
       "      <td>8750.272023</td>\n",
       "      <td>3.0</td>\n",
       "      <td>1.568273</td>\n",
       "    </tr>\n",
       "    <tr>\n",
       "      <th>...</th>\n",
       "      <td>...</td>\n",
       "      <td>...</td>\n",
       "      <td>...</td>\n",
       "      <td>...</td>\n",
       "    </tr>\n",
       "    <tr>\n",
       "      <th>248</th>\n",
       "      <td>E09000028</td>\n",
       "      <td>11368.020617</td>\n",
       "      <td>3.0</td>\n",
       "      <td>1.212830</td>\n",
       "    </tr>\n",
       "    <tr>\n",
       "      <th>249</th>\n",
       "      <td>E09000030</td>\n",
       "      <td>12221.102257</td>\n",
       "      <td>4.0</td>\n",
       "      <td>2.096997</td>\n",
       "    </tr>\n",
       "    <tr>\n",
       "      <th>250</th>\n",
       "      <td>E09000031</td>\n",
       "      <td>11048.812696</td>\n",
       "      <td>0.0</td>\n",
       "      <td>-1.743827</td>\n",
       "    </tr>\n",
       "    <tr>\n",
       "      <th>251</th>\n",
       "      <td>E09000032</td>\n",
       "      <td>11611.121439</td>\n",
       "      <td>2.0</td>\n",
       "      <td>0.179822</td>\n",
       "    </tr>\n",
       "    <tr>\n",
       "      <th>252</th>\n",
       "      <td>E09000033</td>\n",
       "      <td>6331.133605</td>\n",
       "      <td>1.0</td>\n",
       "      <td>-0.103251</td>\n",
       "    </tr>\n",
       "  </tbody>\n",
       "</table>\n",
       "<p>253 rows × 4 columns</p>\n",
       "</div>"
      ],
      "text/plain": [
       "        origin    count_mean  sample_n     resid\n",
       "0    E06000002   9399.812953       0.0 -1.519922\n",
       "1    E06000003   8643.702112       0.0 -1.417256\n",
       "2    E06000006   7653.898475       0.0 -1.282859\n",
       "3    E06000007  10850.713185       2.0  0.283071\n",
       "4    E06000008   8750.272023       3.0  1.568273\n",
       "..         ...           ...       ...       ...\n",
       "248  E09000028  11368.020617       3.0  1.212830\n",
       "249  E09000030  12221.102257       4.0  2.096997\n",
       "250  E09000031  11048.812696       0.0 -1.743827\n",
       "251  E09000032  11611.121439       2.0  0.179822\n",
       "252  E09000033   6331.133605       1.0 -0.103251\n",
       "\n",
       "[253 rows x 4 columns]"
      ]
     },
     "execution_count": 374,
     "metadata": {},
     "output_type": "execute_result"
    }
   ],
   "source": [
    "BA1_DTA_1800_n944_omicron_cases_sample_n_epo_2['resid'] = BA1_DTA_1800_n944_reg_epo_2.resid\n",
    "BA1_DTA_1800_n944_omicron_cases_sample_n_epo_2\n"
   ]
  },
  {
   "cell_type": "code",
   "execution_count": 375,
   "id": "delayed-feeling",
   "metadata": {},
   "outputs": [
    {
     "data": {
      "text/plain": [
       "<matplotlib.collections.PathCollection at 0x7fd1539b7650>"
      ]
     },
     "execution_count": 375,
     "metadata": {},
     "output_type": "execute_result"
    },
    {
     "data": {
      "image/png": "[encoded data removed]",
      "text/plain": [
       "<Figure size 432x288 with 1 Axes>"
      ]
     },
     "metadata": {
      "needs_background": "light"
     },
     "output_type": "display_data"
    }
   ],
   "source": [
    "plt.scatter([i for i in range(len(BA1_DTA_1800_n944_omicron_cases_sample_n_epo_2.resid))],\n",
    "            BA1_DTA_1800_n944_omicron_cases_sample_n_epo_2.resid)\n"
   ]
  },
  {
   "cell_type": "code",
   "execution_count": 376,
   "id": "relevant-player",
   "metadata": {},
   "outputs": [],
   "source": [
    "with open('./BA.1_DTA_1800_n944/ltla_residual_epo_2.tsv', 'w+') as outfile:\n",
    "    outfile.write('ltla\\tresidual\\n')\n",
    "    outfile.write('\\n'.join(['%s\\t%s' % (row.origin, row.resid)\n",
    "                             for index, row in BA1_DTA_1800_n944_omicron_cases_sample_n_epo_2.iterrows()]))\n",
    "    "
   ]
  },
  {
   "cell_type": "markdown",
   "id": "extensive-agenda",
   "metadata": {},
   "source": [
    "#### Epoch-3"
   ]
  },
  {
   "cell_type": "code",
   "execution_count": 377,
   "id": "possible-access",
   "metadata": {},
   "outputs": [
    {
     "data": {
      "image/png": "[encoded data removed]",
      "text/plain": [
       "<Figure size 432x288 with 1 Axes>"
      ]
     },
     "metadata": {
      "needs_background": "light"
     },
     "output_type": "display_data"
    }
   ],
   "source": [
    "plt.scatter(BA1_DTA_1800_n944_omicron_cases_sample_n_epo_3.count_mean,\n",
    "            BA1_DTA_1800_n944_omicron_cases_sample_n_epo_3.sample_n)\n",
    "plt.show()\n"
   ]
  },
  {
   "cell_type": "code",
   "execution_count": 378,
   "id": "neural-corrections",
   "metadata": {},
   "outputs": [
    {
     "name": "stdout",
     "output_type": "stream",
     "text": [
      "                            OLS Regression Results                            \n",
      "==============================================================================\n",
      "Dep. Variable:               sample_n   R-squared:                       0.255\n",
      "Model:                            OLS   Adj. R-squared:                  0.252\n",
      "Method:                 Least Squares   F-statistic:                     85.79\n",
      "Date:                Mon, 19 Sep 2022   Prob (F-statistic):           9.32e-18\n",
      "Time:                        02:06:46   Log-Likelihood:                -515.99\n",
      "No. Observations:                 253   AIC:                             1036.\n",
      "Df Residuals:                     251   BIC:                             1043.\n",
      "Df Model:                           1                                         \n",
      "Covariance Type:            nonrobust                                         \n",
      "==============================================================================\n",
      "                 coef    std err          t      P>|t|      [0.025      0.975]\n",
      "------------------------------------------------------------------------------\n",
      "const          0.2413      0.209      1.157      0.248      -0.169       0.652\n",
      "count_mean     0.0005   4.94e-05      9.262      0.000       0.000       0.001\n",
      "==============================================================================\n",
      "Omnibus:                      114.646   Durbin-Watson:                   1.510\n",
      "Prob(Omnibus):                  0.000   Jarque-Bera (JB):              576.259\n",
      "Skew:                           1.790   Prob(JB):                    7.36e-126\n",
      "Kurtosis:                       9.469   Cond. No.                     7.50e+03\n",
      "==============================================================================\n",
      "\n",
      "Notes:\n",
      "[1] Standard Errors assume that the covariance matrix of the errors is correctly specified.\n",
      "[2] The condition number is large, 7.5e+03. This might indicate that there are\n",
      "strong multicollinearity or other numerical problems.\n",
      "const         0.241347\n",
      "count_mean    0.000458\n",
      "dtype: float64\n"
     ]
    },
    {
     "data": {
      "text/plain": [
       "0     -0.542255\n",
       "1     -0.414345\n",
       "2     -0.355339\n",
       "3      0.207342\n",
       "4     -0.506011\n",
       "         ...   \n",
       "248   -0.072464\n",
       "249   -0.222945\n",
       "250   -1.085715\n",
       "251   -0.702704\n",
       "252    0.503959\n",
       "Length: 253, dtype: float64"
      ]
     },
     "execution_count": 378,
     "metadata": {},
     "output_type": "execute_result"
    }
   ],
   "source": [
    "X = sm.add_constant(BA1_DTA_1800_n944_omicron_cases_sample_n_epo_3.count_mean)\n",
    "BA1_DTA_1800_n944_reg_epo_3 = sm.OLS(\n",
    "    BA1_DTA_1800_n944_omicron_cases_sample_n_epo_3.sample_n,\n",
    "    X\n",
    ").fit()\n",
    "print(BA1_DTA_1800_n944_reg_epo_3.summary())\n",
    "print(BA1_DTA_1800_n944_reg_epo_3.params)\n",
    "BA1_DTA_1800_n944_reg_epo_3.resid\n"
   ]
  },
  {
   "cell_type": "code",
   "execution_count": 379,
   "id": "explicit-capital",
   "metadata": {},
   "outputs": [
    {
     "data": {
      "text/html": [
       "<div>\n",
       "<style scoped>\n",
       "    .dataframe tbody tr th:only-of-type {\n",
       "        vertical-align: middle;\n",
       "    }\n",
       "\n",
       "    .dataframe tbody tr th {\n",
       "        vertical-align: top;\n",
       "    }\n",
       "\n",
       "    .dataframe thead th {\n",
       "        text-align: right;\n",
       "    }\n",
       "</style>\n",
       "<table border=\"1\" class=\"dataframe\">\n",
       "  <thead>\n",
       "    <tr style=\"text-align: right;\">\n",
       "      <th></th>\n",
       "      <th>origin</th>\n",
       "      <th>count_mean</th>\n",
       "      <th>sample_n</th>\n",
       "      <th>resid</th>\n",
       "    </tr>\n",
       "  </thead>\n",
       "  <tbody>\n",
       "    <tr>\n",
       "      <th>0</th>\n",
       "      <td>E06000002</td>\n",
       "      <td>2843.019016</td>\n",
       "      <td>1.0</td>\n",
       "      <td>-0.542255</td>\n",
       "    </tr>\n",
       "    <tr>\n",
       "      <th>1</th>\n",
       "      <td>E06000003</td>\n",
       "      <td>2563.482609</td>\n",
       "      <td>1.0</td>\n",
       "      <td>-0.414345</td>\n",
       "    </tr>\n",
       "    <tr>\n",
       "      <th>2</th>\n",
       "      <td>E06000006</td>\n",
       "      <td>2434.531879</td>\n",
       "      <td>1.0</td>\n",
       "      <td>-0.355339</td>\n",
       "    </tr>\n",
       "    <tr>\n",
       "      <th>3</th>\n",
       "      <td>E06000007</td>\n",
       "      <td>3390.253717</td>\n",
       "      <td>2.0</td>\n",
       "      <td>0.207342</td>\n",
       "    </tr>\n",
       "    <tr>\n",
       "      <th>4</th>\n",
       "      <td>E06000008</td>\n",
       "      <td>2763.811373</td>\n",
       "      <td>1.0</td>\n",
       "      <td>-0.506011</td>\n",
       "    </tr>\n",
       "    <tr>\n",
       "      <th>...</th>\n",
       "      <td>...</td>\n",
       "      <td>...</td>\n",
       "      <td>...</td>\n",
       "      <td>...</td>\n",
       "    </tr>\n",
       "    <tr>\n",
       "      <th>248</th>\n",
       "      <td>E09000028</td>\n",
       "      <td>4001.745160</td>\n",
       "      <td>2.0</td>\n",
       "      <td>-0.072464</td>\n",
       "    </tr>\n",
       "    <tr>\n",
       "      <th>249</th>\n",
       "      <td>E09000030</td>\n",
       "      <td>4330.607922</td>\n",
       "      <td>2.0</td>\n",
       "      <td>-0.222945</td>\n",
       "    </tr>\n",
       "    <tr>\n",
       "      <th>250</th>\n",
       "      <td>E09000031</td>\n",
       "      <td>4030.702329</td>\n",
       "      <td>1.0</td>\n",
       "      <td>-1.085715</td>\n",
       "    </tr>\n",
       "    <tr>\n",
       "      <th>251</th>\n",
       "      <td>E09000032</td>\n",
       "      <td>5379.078310</td>\n",
       "      <td>2.0</td>\n",
       "      <td>-0.702704</td>\n",
       "    </tr>\n",
       "    <tr>\n",
       "      <th>252</th>\n",
       "      <td>E09000033</td>\n",
       "      <td>2742.022294</td>\n",
       "      <td>2.0</td>\n",
       "      <td>0.503959</td>\n",
       "    </tr>\n",
       "  </tbody>\n",
       "</table>\n",
       "<p>253 rows × 4 columns</p>\n",
       "</div>"
      ],
      "text/plain": [
       "        origin   count_mean  sample_n     resid\n",
       "0    E06000002  2843.019016       1.0 -0.542255\n",
       "1    E06000003  2563.482609       1.0 -0.414345\n",
       "2    E06000006  2434.531879       1.0 -0.355339\n",
       "3    E06000007  3390.253717       2.0  0.207342\n",
       "4    E06000008  2763.811373       1.0 -0.506011\n",
       "..         ...          ...       ...       ...\n",
       "248  E09000028  4001.745160       2.0 -0.072464\n",
       "249  E09000030  4330.607922       2.0 -0.222945\n",
       "250  E09000031  4030.702329       1.0 -1.085715\n",
       "251  E09000032  5379.078310       2.0 -0.702704\n",
       "252  E09000033  2742.022294       2.0  0.503959\n",
       "\n",
       "[253 rows x 4 columns]"
      ]
     },
     "execution_count": 379,
     "metadata": {},
     "output_type": "execute_result"
    }
   ],
   "source": [
    "BA1_DTA_1800_n944_omicron_cases_sample_n_epo_3['resid'] = BA1_DTA_1800_n944_reg_epo_3.resid\n",
    "BA1_DTA_1800_n944_omicron_cases_sample_n_epo_3\n"
   ]
  },
  {
   "cell_type": "code",
   "execution_count": 380,
   "id": "early-thesis",
   "metadata": {},
   "outputs": [
    {
     "data": {
      "text/plain": [
       "<matplotlib.collections.PathCollection at 0x7fd153c09f10>"
      ]
     },
     "execution_count": 380,
     "metadata": {},
     "output_type": "execute_result"
    },
    {
     "data": {
      "image/png": "[encoded data removed]",
      "text/plain": [
       "<Figure size 432x288 with 1 Axes>"
      ]
     },
     "metadata": {
      "needs_background": "light"
     },
     "output_type": "display_data"
    }
   ],
   "source": [
    "plt.scatter([i for i in range(len(BA1_DTA_1800_n944_omicron_cases_sample_n_epo_3.resid))],\n",
    "            BA1_DTA_1800_n944_omicron_cases_sample_n_epo_3.resid)\n"
   ]
  },
  {
   "cell_type": "code",
   "execution_count": 381,
   "id": "better-surveillance",
   "metadata": {},
   "outputs": [],
   "source": [
    "with open('./BA.1_DTA_1800_n944/ltla_residual_epo_3.tsv', 'w+') as outfile:\n",
    "    outfile.write('ltla\\tresidual\\n')\n",
    "    outfile.write('\\n'.join(['%s\\t%s' % (row.origin, row.resid)\n",
    "                             for index, row in BA1_DTA_1800_n944_omicron_cases_sample_n_epo_3.iterrows()]))\n",
    "    "
   ]
  },
  {
   "cell_type": "markdown",
   "id": "knowing-elimination",
   "metadata": {},
   "source": [
    "## Merge LTLAs for BA.1_DTA_1207_n9727"
   ]
  },
  {
   "cell_type": "code",
   "execution_count": 382,
   "id": "durable-bicycle",
   "metadata": {},
   "outputs": [],
   "source": [
    "BA1_DTA_1207_n9727_mergers_rev_dict = dict(zip(BA1_DTA_1207_n9727_mergers_rev.child_ltla.values,\n",
    "                                               BA1_DTA_1207_n9727_mergers_rev.parent_ltla.values))\n",
    "\n",
    "BA1_DTA_1207_n9727_omicron_cases_study = omicron_cases.copy()\n",
    "BA1_DTA_1207_n9727_omicron_cases_study.origin = BA1_DTA_1207_n9727_omicron_cases_study.origin.apply(\n",
    "    lambda x: BA1_DTA_1207_n9727_mergers_rev_dict[x] if x in BA1_DTA_1207_n9727_mergers_rev_dict else x\n",
    ")\n",
    "BA1_DTA_1207_n9727_omicron_cases_study = BA1_DTA_1207_n9727_omicron_cases_study[\n",
    "    BA1_DTA_1207_n9727_omicron_cases_study.origin.isin(BA1_DTA_1207_n9727_tip_ltla.ltla.unique().tolist())]\n",
    "\n",
    "BA1_DTA_1207_n9727_omicron_cases_epo_1 = BA1_DTA_1207_n9727_omicron_cases_study[\n",
    "    (BA1_DTA_1207_n9727_omicron_cases_study.epoch == 1) &\n",
    "    (BA1_DTA_1207_n9727_omicron_cases_study.date >= dec2date(BA1_DTA_1207_n9727_import_est, get_str=True))\n",
    "].groupby('origin').agg({'count_mean': 'sum'}).reset_index()\n",
    "\n",
    "BA1_DTA_1207_n9727_omicron_cases_epo_2 = BA1_DTA_1207_n9727_omicron_cases_study[\n",
    "    BA1_DTA_1207_n9727_omicron_cases_study.epoch == 2\n",
    "].groupby('origin').agg({'count_mean': 'sum'}).reset_index()\n",
    "\n",
    "BA1_DTA_1207_n9727_omicron_cases_epo_3 = BA1_DTA_1207_n9727_omicron_cases_study[\n",
    "    BA1_DTA_1207_n9727_omicron_cases_study.epoch == 3\n",
    "].groupby('origin').agg({'count_mean': 'sum'}).reset_index()\n"
   ]
  },
  {
   "cell_type": "code",
   "execution_count": 383,
   "id": "southern-vinyl",
   "metadata": {},
   "outputs": [],
   "source": [
    "BA1_DTA_1207_n9727_omicron_cases_sample_n_epo_1 = pd.merge(\n",
    "    BA1_DTA_1207_n9727_omicron_cases_epo_1,\n",
    "    BA1_DTA_1207_n9727_tip_ltla[BA1_DTA_1207_n9727_tip_ltla.epoch == 1\n",
    "                               ].groupby('ltla').count().reset_index().rename(columns={'ltla': 'origin'}),\n",
    "    on='origin', how='left').rename(columns={'name': 'sample_n'})[['origin', 'count_mean', 'sample_n']]\n",
    "zero_filled_sample_n_epo_1 = BA1_DTA_1207_n9727_omicron_cases_sample_n_epo_1.sample_n.apply(\n",
    "    lambda x: 0 if pd.isna(x) else x)\n",
    "BA1_DTA_1207_n9727_omicron_cases_sample_n_epo_1.sample_n = zero_filled_sample_n_epo_1\n",
    "\n",
    "BA1_DTA_1207_n9727_omicron_cases_sample_n_epo_2 = pd.merge(\n",
    "    BA1_DTA_1207_n9727_omicron_cases_epo_2,\n",
    "    BA1_DTA_1207_n9727_tip_ltla[BA1_DTA_1207_n9727_tip_ltla.epoch == 2\n",
    "                               ].groupby('ltla').count().reset_index().rename(columns={'ltla': 'origin'}),\n",
    "    on='origin', how='left').rename(columns={'name': 'sample_n'})[['origin', 'count_mean', 'sample_n']]\n",
    "zero_filled_sample_n_epo_2 = BA1_DTA_1207_n9727_omicron_cases_sample_n_epo_2.sample_n.apply(\n",
    "    lambda x: 0 if pd.isna(x) else x)\n",
    "BA1_DTA_1207_n9727_omicron_cases_sample_n_epo_2.sample_n = zero_filled_sample_n_epo_2\n",
    "\n",
    "BA1_DTA_1207_n9727_omicron_cases_sample_n_epo_3 = pd.merge(\n",
    "    BA1_DTA_1207_n9727_omicron_cases_epo_2,\n",
    "    BA1_DTA_1207_n9727_tip_ltla[BA1_DTA_1207_n9727_tip_ltla.epoch == 3\n",
    "                               ].groupby('ltla').count().reset_index().rename(columns={'ltla': 'origin'}),\n",
    "    on='origin', how='left').rename(columns={'name': 'sample_n'})[['origin', 'count_mean', 'sample_n']]\n",
    "zero_filled_sample_n_epo_3 = BA1_DTA_1207_n9727_omicron_cases_sample_n_epo_3.sample_n.apply(\n",
    "    lambda x: 0 if pd.isna(x) else x)\n",
    "BA1_DTA_1207_n9727_omicron_cases_sample_n_epo_3.sample_n = zero_filled_sample_n_epo_3\n"
   ]
  },
  {
   "cell_type": "markdown",
   "id": "normal-pantyhose",
   "metadata": {},
   "source": [
    "#### Epoch-1"
   ]
  },
  {
   "cell_type": "code",
   "execution_count": 391,
   "id": "suspected-criminal",
   "metadata": {},
   "outputs": [
    {
     "data": {
      "image/png": "[encoded data removed]",
      "text/plain": [
       "<Figure size 432x288 with 1 Axes>"
      ]
     },
     "metadata": {
      "needs_background": "light"
     },
     "output_type": "display_data"
    }
   ],
   "source": [
    "plt.scatter(BA1_DTA_1207_n9727_omicron_cases_sample_n_epo_1.count_mean,\n",
    "            BA1_DTA_1207_n9727_omicron_cases_sample_n_epo_1.sample_n)\n",
    "plt.show()\n"
   ]
  },
  {
   "cell_type": "code",
   "execution_count": 392,
   "id": "sustainable-zimbabwe",
   "metadata": {},
   "outputs": [
    {
     "name": "stdout",
     "output_type": "stream",
     "text": [
      "                            OLS Regression Results                            \n",
      "==============================================================================\n",
      "Dep. Variable:               sample_n   R-squared:                       0.831\n",
      "Model:                            OLS   Adj. R-squared:                  0.830\n",
      "Method:                 Least Squares   F-statistic:                     1230.\n",
      "Date:                Mon, 19 Sep 2022   Prob (F-statistic):           9.88e-99\n",
      "Time:                        02:12:17   Log-Likelihood:                -730.63\n",
      "No. Observations:                 253   AIC:                             1465.\n",
      "Df Residuals:                     251   BIC:                             1472.\n",
      "Df Model:                           1                                         \n",
      "Covariance Type:            nonrobust                                         \n",
      "==============================================================================\n",
      "                 coef    std err          t      P>|t|      [0.025      0.975]\n",
      "------------------------------------------------------------------------------\n",
      "const         -1.9983      0.428     -4.666      0.000      -2.842      -1.155\n",
      "count_mean     0.0029   8.24e-05     35.072      0.000       0.003       0.003\n",
      "==============================================================================\n",
      "Omnibus:                       23.157   Durbin-Watson:                   1.634\n",
      "Prob(Omnibus):                  0.000   Jarque-Bera (JB):               96.140\n",
      "Skew:                          -0.036   Prob(JB):                     1.33e-21\n",
      "Kurtosis:                       6.019   Cond. No.                     8.12e+03\n",
      "==============================================================================\n",
      "\n",
      "Notes:\n",
      "[1] Standard Errors assume that the covariance matrix of the errors is correctly specified.\n",
      "[2] The condition number is large, 8.12e+03. This might indicate that there are\n",
      "strong multicollinearity or other numerical problems.\n",
      "const        -1.998335\n",
      "count_mean    0.002889\n",
      "dtype: float64\n"
     ]
    },
    {
     "data": {
      "text/plain": [
       "0      -3.351791\n",
       "1      -3.873909\n",
       "2      -1.026899\n",
       "3      -7.292598\n",
       "4       0.749034\n",
       "         ...    \n",
       "248    -4.995398\n",
       "249     7.754931\n",
       "250     8.854456\n",
       "251    13.545890\n",
       "252     4.378098\n",
       "Length: 253, dtype: float64"
      ]
     },
     "execution_count": 392,
     "metadata": {},
     "output_type": "execute_result"
    }
   ],
   "source": [
    "X = sm.add_constant(BA1_DTA_1207_n9727_omicron_cases_sample_n_epo_1.count_mean)\n",
    "BA1_DTA_1207_n9727_reg_epo_1 = sm.OLS(\n",
    "    BA1_DTA_1207_n9727_omicron_cases_sample_n_epo_1.sample_n,\n",
    "    X\n",
    ").fit()\n",
    "print(BA1_DTA_1207_n9727_reg_epo_1.summary())\n",
    "print(BA1_DTA_1207_n9727_reg_epo_1.params)\n",
    "BA1_DTA_1207_n9727_reg_epo_1.resid\n"
   ]
  },
  {
   "cell_type": "code",
   "execution_count": 393,
   "id": "scenic-exhibition",
   "metadata": {},
   "outputs": [
    {
     "data": {
      "text/html": [
       "<div>\n",
       "<style scoped>\n",
       "    .dataframe tbody tr th:only-of-type {\n",
       "        vertical-align: middle;\n",
       "    }\n",
       "\n",
       "    .dataframe tbody tr th {\n",
       "        vertical-align: top;\n",
       "    }\n",
       "\n",
       "    .dataframe thead th {\n",
       "        text-align: right;\n",
       "    }\n",
       "</style>\n",
       "<table border=\"1\" class=\"dataframe\">\n",
       "  <thead>\n",
       "    <tr style=\"text-align: right;\">\n",
       "      <th></th>\n",
       "      <th>origin</th>\n",
       "      <th>count_mean</th>\n",
       "      <th>sample_n</th>\n",
       "      <th>resid</th>\n",
       "    </tr>\n",
       "  </thead>\n",
       "  <tbody>\n",
       "    <tr>\n",
       "      <th>0</th>\n",
       "      <td>E06000004</td>\n",
       "      <td>3236.310907</td>\n",
       "      <td>4.0</td>\n",
       "      <td>-3.351791</td>\n",
       "    </tr>\n",
       "    <tr>\n",
       "      <th>1</th>\n",
       "      <td>E06000006</td>\n",
       "      <td>2032.529455</td>\n",
       "      <td>0.0</td>\n",
       "      <td>-3.873909</td>\n",
       "    </tr>\n",
       "    <tr>\n",
       "      <th>2</th>\n",
       "      <td>E06000007</td>\n",
       "      <td>3816.107467</td>\n",
       "      <td>8.0</td>\n",
       "      <td>-1.026899</td>\n",
       "    </tr>\n",
       "    <tr>\n",
       "      <th>3</th>\n",
       "      <td>E06000008</td>\n",
       "      <td>5984.821921</td>\n",
       "      <td>8.0</td>\n",
       "      <td>-7.292598</td>\n",
       "    </tr>\n",
       "    <tr>\n",
       "      <th>4</th>\n",
       "      <td>E06000009</td>\n",
       "      <td>1470.788539</td>\n",
       "      <td>3.0</td>\n",
       "      <td>0.749034</td>\n",
       "    </tr>\n",
       "    <tr>\n",
       "      <th>...</th>\n",
       "      <td>...</td>\n",
       "      <td>...</td>\n",
       "      <td>...</td>\n",
       "      <td>...</td>\n",
       "    </tr>\n",
       "    <tr>\n",
       "      <th>248</th>\n",
       "      <td>E09000029</td>\n",
       "      <td>6920.328151</td>\n",
       "      <td>13.0</td>\n",
       "      <td>-4.995398</td>\n",
       "    </tr>\n",
       "    <tr>\n",
       "      <th>249</th>\n",
       "      <td>E09000030</td>\n",
       "      <td>12544.743456</td>\n",
       "      <td>42.0</td>\n",
       "      <td>7.754931</td>\n",
       "    </tr>\n",
       "    <tr>\n",
       "      <th>250</th>\n",
       "      <td>E09000031</td>\n",
       "      <td>9741.296396</td>\n",
       "      <td>35.0</td>\n",
       "      <td>8.854456</td>\n",
       "    </tr>\n",
       "    <tr>\n",
       "      <th>251</th>\n",
       "      <td>E09000032</td>\n",
       "      <td>16424.471480</td>\n",
       "      <td>59.0</td>\n",
       "      <td>13.545890</td>\n",
       "    </tr>\n",
       "    <tr>\n",
       "      <th>252</th>\n",
       "      <td>E09000033</td>\n",
       "      <td>7137.176653</td>\n",
       "      <td>23.0</td>\n",
       "      <td>4.378098</td>\n",
       "    </tr>\n",
       "  </tbody>\n",
       "</table>\n",
       "<p>253 rows × 4 columns</p>\n",
       "</div>"
      ],
      "text/plain": [
       "        origin    count_mean  sample_n      resid\n",
       "0    E06000004   3236.310907       4.0  -3.351791\n",
       "1    E06000006   2032.529455       0.0  -3.873909\n",
       "2    E06000007   3816.107467       8.0  -1.026899\n",
       "3    E06000008   5984.821921       8.0  -7.292598\n",
       "4    E06000009   1470.788539       3.0   0.749034\n",
       "..         ...           ...       ...        ...\n",
       "248  E09000029   6920.328151      13.0  -4.995398\n",
       "249  E09000030  12544.743456      42.0   7.754931\n",
       "250  E09000031   9741.296396      35.0   8.854456\n",
       "251  E09000032  16424.471480      59.0  13.545890\n",
       "252  E09000033   7137.176653      23.0   4.378098\n",
       "\n",
       "[253 rows x 4 columns]"
      ]
     },
     "execution_count": 393,
     "metadata": {},
     "output_type": "execute_result"
    }
   ],
   "source": [
    "BA1_DTA_1207_n9727_omicron_cases_sample_n_epo_1['resid'] = BA1_DTA_1207_n9727_reg_epo_1.resid\n",
    "BA1_DTA_1207_n9727_omicron_cases_sample_n_epo_1\n"
   ]
  },
  {
   "cell_type": "code",
   "execution_count": 394,
   "id": "general-address",
   "metadata": {},
   "outputs": [
    {
     "data": {
      "text/plain": [
       "<matplotlib.collections.PathCollection at 0x7fd153f53b90>"
      ]
     },
     "execution_count": 394,
     "metadata": {},
     "output_type": "execute_result"
    },
    {
     "data": {
      "image/png": "[encoded data removed]",
      "text/plain": [
       "<Figure size 432x288 with 1 Axes>"
      ]
     },
     "metadata": {
      "needs_background": "light"
     },
     "output_type": "display_data"
    }
   ],
   "source": [
    "plt.scatter([i for i in range(len(BA1_DTA_1207_n9727_omicron_cases_sample_n_epo_1.resid))],\n",
    "            BA1_DTA_1207_n9727_omicron_cases_sample_n_epo_1.resid)\n"
   ]
  },
  {
   "cell_type": "code",
   "execution_count": 395,
   "id": "aware-fortune",
   "metadata": {},
   "outputs": [],
   "source": [
    "with open('./BA.1_DTA_1207_n9727/ltla_residual_epo_1.tsv', 'w+') as outfile:\n",
    "    outfile.write('ltla\\tresidual\\n')\n",
    "    outfile.write('\\n'.join(['%s\\t%s' % (row.origin, row.resid)\n",
    "                             for index, row in BA1_DTA_1207_n9727_omicron_cases_sample_n_epo_1.iterrows()]))\n",
    "    "
   ]
  },
  {
   "cell_type": "markdown",
   "id": "conservative-velvet",
   "metadata": {},
   "source": [
    "#### Epoch-2"
   ]
  },
  {
   "cell_type": "code",
   "execution_count": 396,
   "id": "realistic-payroll",
   "metadata": {},
   "outputs": [
    {
     "data": {
      "image/png": "[encoded data removed]",
      "text/plain": [
       "<Figure size 432x288 with 1 Axes>"
      ]
     },
     "metadata": {
      "needs_background": "light"
     },
     "output_type": "display_data"
    }
   ],
   "source": [
    "plt.scatter(BA1_DTA_1207_n9727_omicron_cases_sample_n_epo_2.count_mean,\n",
    "            BA1_DTA_1207_n9727_omicron_cases_sample_n_epo_2.sample_n)\n",
    "plt.show()\n"
   ]
  },
  {
   "cell_type": "code",
   "execution_count": 397,
   "id": "ongoing-birthday",
   "metadata": {},
   "outputs": [
    {
     "name": "stdout",
     "output_type": "stream",
     "text": [
      "                            OLS Regression Results                            \n",
      "==============================================================================\n",
      "Dep. Variable:               sample_n   R-squared:                       0.818\n",
      "Model:                            OLS   Adj. R-squared:                  0.818\n",
      "Method:                 Least Squares   F-statistic:                     1131.\n",
      "Date:                Mon, 19 Sep 2022   Prob (F-statistic):           5.85e-95\n",
      "Time:                        02:13:35   Log-Likelihood:                -779.08\n",
      "No. Observations:                 253   AIC:                             1562.\n",
      "Df Residuals:                     251   BIC:                             1569.\n",
      "Df Model:                           1                                         \n",
      "Covariance Type:            nonrobust                                         \n",
      "==============================================================================\n",
      "                 coef    std err          t      P>|t|      [0.025      0.975]\n",
      "------------------------------------------------------------------------------\n",
      "const          1.2820      0.545      2.352      0.019       0.208       2.355\n",
      "count_mean     0.0016   4.77e-05     33.631      0.000       0.002       0.002\n",
      "==============================================================================\n",
      "Omnibus:                       34.384   Durbin-Watson:                   1.522\n",
      "Prob(Omnibus):                  0.000   Jarque-Bera (JB):              133.763\n",
      "Skew:                           0.450   Prob(JB):                     8.99e-30\n",
      "Kurtosis:                       6.447   Cond. No.                     1.88e+04\n",
      "==============================================================================\n",
      "\n",
      "Notes:\n",
      "[1] Standard Errors assume that the covariance matrix of the errors is correctly specified.\n",
      "[2] The condition number is large, 1.88e+04. This might indicate that there are\n",
      "strong multicollinearity or other numerical problems.\n",
      "const         1.281966\n",
      "count_mean    0.001603\n",
      "dtype: float64\n"
     ]
    },
    {
     "data": {
      "text/plain": [
       "0     -23.857808\n",
       "1       1.448852\n",
       "2      10.324365\n",
       "3       5.686148\n",
       "4      -4.241064\n",
       "         ...    \n",
       "248    -1.221787\n",
       "249    -1.872366\n",
       "250     4.006812\n",
       "251    -1.894568\n",
       "252     0.569241\n",
       "Length: 253, dtype: float64"
      ]
     },
     "execution_count": 397,
     "metadata": {},
     "output_type": "execute_result"
    }
   ],
   "source": [
    "X = sm.add_constant(BA1_DTA_1207_n9727_omicron_cases_sample_n_epo_2.count_mean)\n",
    "BA1_DTA_1207_n9727_reg_epo_2 = sm.OLS(\n",
    "    BA1_DTA_1207_n9727_omicron_cases_sample_n_epo_2.sample_n,\n",
    "    X\n",
    ").fit()\n",
    "print(BA1_DTA_1207_n9727_reg_epo_2.summary())\n",
    "print(BA1_DTA_1207_n9727_reg_epo_2.params)\n",
    "BA1_DTA_1207_n9727_reg_epo_2.resid\n"
   ]
  },
  {
   "cell_type": "code",
   "execution_count": 398,
   "id": "pending-sweden",
   "metadata": {},
   "outputs": [
    {
     "data": {
      "text/html": [
       "<div>\n",
       "<style scoped>\n",
       "    .dataframe tbody tr th:only-of-type {\n",
       "        vertical-align: middle;\n",
       "    }\n",
       "\n",
       "    .dataframe tbody tr th {\n",
       "        vertical-align: top;\n",
       "    }\n",
       "\n",
       "    .dataframe thead th {\n",
       "        text-align: right;\n",
       "    }\n",
       "</style>\n",
       "<table border=\"1\" class=\"dataframe\">\n",
       "  <thead>\n",
       "    <tr style=\"text-align: right;\">\n",
       "      <th></th>\n",
       "      <th>origin</th>\n",
       "      <th>count_mean</th>\n",
       "      <th>sample_n</th>\n",
       "      <th>resid</th>\n",
       "    </tr>\n",
       "  </thead>\n",
       "  <tbody>\n",
       "    <tr>\n",
       "      <th>0</th>\n",
       "      <td>E06000004</td>\n",
       "      <td>30926.955590</td>\n",
       "      <td>27.0</td>\n",
       "      <td>-23.857808</td>\n",
       "    </tr>\n",
       "    <tr>\n",
       "      <th>1</th>\n",
       "      <td>E06000006</td>\n",
       "      <td>7653.898475</td>\n",
       "      <td>15.0</td>\n",
       "      <td>1.448852</td>\n",
       "    </tr>\n",
       "    <tr>\n",
       "      <th>2</th>\n",
       "      <td>E06000007</td>\n",
       "      <td>10850.713185</td>\n",
       "      <td>29.0</td>\n",
       "      <td>10.324365</td>\n",
       "    </tr>\n",
       "    <tr>\n",
       "      <th>3</th>\n",
       "      <td>E06000008</td>\n",
       "      <td>23725.476234</td>\n",
       "      <td>45.0</td>\n",
       "      <td>5.686148</td>\n",
       "    </tr>\n",
       "    <tr>\n",
       "      <th>4</th>\n",
       "      <td>E06000009</td>\n",
       "      <td>8084.289389</td>\n",
       "      <td>10.0</td>\n",
       "      <td>-4.241064</td>\n",
       "    </tr>\n",
       "    <tr>\n",
       "      <th>...</th>\n",
       "      <td>...</td>\n",
       "      <td>...</td>\n",
       "      <td>...</td>\n",
       "      <td>...</td>\n",
       "    </tr>\n",
       "    <tr>\n",
       "      <th>248</th>\n",
       "      <td>E09000029</td>\n",
       "      <td>8696.094999</td>\n",
       "      <td>14.0</td>\n",
       "      <td>-1.221787</td>\n",
       "    </tr>\n",
       "    <tr>\n",
       "      <th>249</th>\n",
       "      <td>E09000030</td>\n",
       "      <td>12221.102257</td>\n",
       "      <td>19.0</td>\n",
       "      <td>-1.872366</td>\n",
       "    </tr>\n",
       "    <tr>\n",
       "      <th>250</th>\n",
       "      <td>E09000031</td>\n",
       "      <td>11048.812696</td>\n",
       "      <td>23.0</td>\n",
       "      <td>4.006812</td>\n",
       "    </tr>\n",
       "    <tr>\n",
       "      <th>251</th>\n",
       "      <td>E09000032</td>\n",
       "      <td>11611.121439</td>\n",
       "      <td>18.0</td>\n",
       "      <td>-1.894568</td>\n",
       "    </tr>\n",
       "    <tr>\n",
       "      <th>252</th>\n",
       "      <td>E09000033</td>\n",
       "      <td>6331.133605</td>\n",
       "      <td>12.0</td>\n",
       "      <td>0.569241</td>\n",
       "    </tr>\n",
       "  </tbody>\n",
       "</table>\n",
       "<p>253 rows × 4 columns</p>\n",
       "</div>"
      ],
      "text/plain": [
       "        origin    count_mean  sample_n      resid\n",
       "0    E06000004  30926.955590      27.0 -23.857808\n",
       "1    E06000006   7653.898475      15.0   1.448852\n",
       "2    E06000007  10850.713185      29.0  10.324365\n",
       "3    E06000008  23725.476234      45.0   5.686148\n",
       "4    E06000009   8084.289389      10.0  -4.241064\n",
       "..         ...           ...       ...        ...\n",
       "248  E09000029   8696.094999      14.0  -1.221787\n",
       "249  E09000030  12221.102257      19.0  -1.872366\n",
       "250  E09000031  11048.812696      23.0   4.006812\n",
       "251  E09000032  11611.121439      18.0  -1.894568\n",
       "252  E09000033   6331.133605      12.0   0.569241\n",
       "\n",
       "[253 rows x 4 columns]"
      ]
     },
     "execution_count": 398,
     "metadata": {},
     "output_type": "execute_result"
    }
   ],
   "source": [
    "BA1_DTA_1207_n9727_omicron_cases_sample_n_epo_2['resid'] = BA1_DTA_1207_n9727_reg_epo_2.resid\n",
    "BA1_DTA_1207_n9727_omicron_cases_sample_n_epo_2\n"
   ]
  },
  {
   "cell_type": "code",
   "execution_count": 399,
   "id": "cultural-planning",
   "metadata": {},
   "outputs": [
    {
     "data": {
      "text/plain": [
       "<matplotlib.collections.PathCollection at 0x7fd1542bd790>"
      ]
     },
     "execution_count": 399,
     "metadata": {},
     "output_type": "execute_result"
    },
    {
     "data": {
      "image/png": "[encoded data removed]",
      "text/plain": [
       "<Figure size 432x288 with 1 Axes>"
      ]
     },
     "metadata": {
      "needs_background": "light"
     },
     "output_type": "display_data"
    }
   ],
   "source": [
    "plt.scatter([i for i in range(len(BA1_DTA_1207_n9727_omicron_cases_sample_n_epo_2.resid))],\n",
    "            BA1_DTA_1207_n9727_omicron_cases_sample_n_epo_2.resid)\n"
   ]
  },
  {
   "cell_type": "code",
   "execution_count": 400,
   "id": "essential-external",
   "metadata": {},
   "outputs": [],
   "source": [
    "with open('./BA.1_DTA_1207_n9727/ltla_residual_epo_2.tsv', 'w+') as outfile:\n",
    "    outfile.write('ltla\\tresidual\\n')\n",
    "    outfile.write('\\n'.join(['%s\\t%s' % (row.origin, row.resid)\n",
    "                             for index, row in BA1_DTA_1207_n9727_omicron_cases_sample_n_epo_2.iterrows()]))\n",
    "    "
   ]
  },
  {
   "cell_type": "markdown",
   "id": "constitutional-campaign",
   "metadata": {},
   "source": [
    "#### Epoch-3"
   ]
  },
  {
   "cell_type": "code",
   "execution_count": 401,
   "id": "standard-wagner",
   "metadata": {},
   "outputs": [
    {
     "data": {
      "image/png": "[encoded data removed]",
      "text/plain": [
       "<Figure size 432x288 with 1 Axes>"
      ]
     },
     "metadata": {
      "needs_background": "light"
     },
     "output_type": "display_data"
    }
   ],
   "source": [
    "plt.scatter(BA1_DTA_1207_n9727_omicron_cases_sample_n_epo_3.count_mean,\n",
    "            BA1_DTA_1207_n9727_omicron_cases_sample_n_epo_3.sample_n)\n",
    "plt.show()\n"
   ]
  },
  {
   "cell_type": "code",
   "execution_count": 402,
   "id": "international-mounting",
   "metadata": {},
   "outputs": [
    {
     "name": "stdout",
     "output_type": "stream",
     "text": [
      "                            OLS Regression Results                            \n",
      "==============================================================================\n",
      "Dep. Variable:               sample_n   R-squared:                       0.453\n",
      "Model:                            OLS   Adj. R-squared:                  0.451\n",
      "Method:                 Least Squares   F-statistic:                     208.3\n",
      "Date:                Mon, 19 Sep 2022   Prob (F-statistic):           8.69e-35\n",
      "Time:                        02:14:25   Log-Likelihood:                -834.05\n",
      "No. Observations:                 253   AIC:                             1672.\n",
      "Df Residuals:                     251   BIC:                             1679.\n",
      "Df Model:                           1                                         \n",
      "Covariance Type:            nonrobust                                         \n",
      "==============================================================================\n",
      "                 coef    std err          t      P>|t|      [0.025      0.975]\n",
      "------------------------------------------------------------------------------\n",
      "const          5.3395      0.677      7.883      0.000       4.006       6.674\n",
      "count_mean     0.0009   5.92e-05     14.432      0.000       0.001       0.001\n",
      "==============================================================================\n",
      "Omnibus:                       65.848   Durbin-Watson:                   1.303\n",
      "Prob(Omnibus):                  0.000   Jarque-Bera (JB):              198.655\n",
      "Skew:                           1.113   Prob(JB):                     7.29e-44\n",
      "Kurtosis:                       6.727   Cond. No.                     1.88e+04\n",
      "==============================================================================\n",
      "\n",
      "Notes:\n",
      "[1] Standard Errors assume that the covariance matrix of the errors is correctly specified.\n",
      "[2] The condition number is large, 1.88e+04. This might indicate that there are\n",
      "strong multicollinearity or other numerical problems.\n",
      "const         5.339517\n",
      "count_mean    0.000855\n",
      "dtype: float64\n"
     ]
    },
    {
     "data": {
      "text/plain": [
       "0     -25.775681\n",
       "1      -2.882021\n",
       "2      -3.614637\n",
       "3      -8.619902\n",
       "4      -9.249916\n",
       "         ...    \n",
       "248    -3.772884\n",
       "249    -6.786037\n",
       "250    -5.783972\n",
       "251     4.735371\n",
       "252     1.248670\n",
       "Length: 253, dtype: float64"
      ]
     },
     "execution_count": 402,
     "metadata": {},
     "output_type": "execute_result"
    }
   ],
   "source": [
    "X = sm.add_constant(BA1_DTA_1207_n9727_omicron_cases_sample_n_epo_3.count_mean)\n",
    "BA1_DTA_1207_n9727_reg_epo_3 = sm.OLS(\n",
    "    BA1_DTA_1207_n9727_omicron_cases_sample_n_epo_3.sample_n,\n",
    "    X\n",
    ").fit()\n",
    "print(BA1_DTA_1207_n9727_reg_epo_3.summary())\n",
    "print(BA1_DTA_1207_n9727_reg_epo_3.params)\n",
    "BA1_DTA_1207_n9727_reg_epo_3.resid\n"
   ]
  },
  {
   "cell_type": "code",
   "execution_count": 403,
   "id": "according-perry",
   "metadata": {},
   "outputs": [
    {
     "data": {
      "text/html": [
       "<div>\n",
       "<style scoped>\n",
       "    .dataframe tbody tr th:only-of-type {\n",
       "        vertical-align: middle;\n",
       "    }\n",
       "\n",
       "    .dataframe tbody tr th {\n",
       "        vertical-align: top;\n",
       "    }\n",
       "\n",
       "    .dataframe thead th {\n",
       "        text-align: right;\n",
       "    }\n",
       "</style>\n",
       "<table border=\"1\" class=\"dataframe\">\n",
       "  <thead>\n",
       "    <tr style=\"text-align: right;\">\n",
       "      <th></th>\n",
       "      <th>origin</th>\n",
       "      <th>count_mean</th>\n",
       "      <th>sample_n</th>\n",
       "      <th>resid</th>\n",
       "    </tr>\n",
       "  </thead>\n",
       "  <tbody>\n",
       "    <tr>\n",
       "      <th>0</th>\n",
       "      <td>E06000004</td>\n",
       "      <td>30926.955590</td>\n",
       "      <td>6.0</td>\n",
       "      <td>-25.775681</td>\n",
       "    </tr>\n",
       "    <tr>\n",
       "      <th>1</th>\n",
       "      <td>E06000006</td>\n",
       "      <td>7653.898475</td>\n",
       "      <td>9.0</td>\n",
       "      <td>-2.882021</td>\n",
       "    </tr>\n",
       "    <tr>\n",
       "      <th>2</th>\n",
       "      <td>E06000007</td>\n",
       "      <td>10850.713185</td>\n",
       "      <td>11.0</td>\n",
       "      <td>-3.614637</td>\n",
       "    </tr>\n",
       "    <tr>\n",
       "      <th>3</th>\n",
       "      <td>E06000008</td>\n",
       "      <td>23725.476234</td>\n",
       "      <td>17.0</td>\n",
       "      <td>-8.619902</td>\n",
       "    </tr>\n",
       "    <tr>\n",
       "      <th>4</th>\n",
       "      <td>E06000009</td>\n",
       "      <td>8084.289389</td>\n",
       "      <td>3.0</td>\n",
       "      <td>-9.249916</td>\n",
       "    </tr>\n",
       "    <tr>\n",
       "      <th>...</th>\n",
       "      <td>...</td>\n",
       "      <td>...</td>\n",
       "      <td>...</td>\n",
       "      <td>...</td>\n",
       "    </tr>\n",
       "    <tr>\n",
       "      <th>248</th>\n",
       "      <td>E09000029</td>\n",
       "      <td>8696.094999</td>\n",
       "      <td>9.0</td>\n",
       "      <td>-3.772884</td>\n",
       "    </tr>\n",
       "    <tr>\n",
       "      <th>249</th>\n",
       "      <td>E09000030</td>\n",
       "      <td>12221.102257</td>\n",
       "      <td>9.0</td>\n",
       "      <td>-6.786037</td>\n",
       "    </tr>\n",
       "    <tr>\n",
       "      <th>250</th>\n",
       "      <td>E09000031</td>\n",
       "      <td>11048.812696</td>\n",
       "      <td>9.0</td>\n",
       "      <td>-5.783972</td>\n",
       "    </tr>\n",
       "    <tr>\n",
       "      <th>251</th>\n",
       "      <td>E09000032</td>\n",
       "      <td>11611.121439</td>\n",
       "      <td>20.0</td>\n",
       "      <td>4.735371</td>\n",
       "    </tr>\n",
       "    <tr>\n",
       "      <th>252</th>\n",
       "      <td>E09000033</td>\n",
       "      <td>6331.133605</td>\n",
       "      <td>12.0</td>\n",
       "      <td>1.248670</td>\n",
       "    </tr>\n",
       "  </tbody>\n",
       "</table>\n",
       "<p>253 rows × 4 columns</p>\n",
       "</div>"
      ],
      "text/plain": [
       "        origin    count_mean  sample_n      resid\n",
       "0    E06000004  30926.955590       6.0 -25.775681\n",
       "1    E06000006   7653.898475       9.0  -2.882021\n",
       "2    E06000007  10850.713185      11.0  -3.614637\n",
       "3    E06000008  23725.476234      17.0  -8.619902\n",
       "4    E06000009   8084.289389       3.0  -9.249916\n",
       "..         ...           ...       ...        ...\n",
       "248  E09000029   8696.094999       9.0  -3.772884\n",
       "249  E09000030  12221.102257       9.0  -6.786037\n",
       "250  E09000031  11048.812696       9.0  -5.783972\n",
       "251  E09000032  11611.121439      20.0   4.735371\n",
       "252  E09000033   6331.133605      12.0   1.248670\n",
       "\n",
       "[253 rows x 4 columns]"
      ]
     },
     "execution_count": 403,
     "metadata": {},
     "output_type": "execute_result"
    }
   ],
   "source": [
    "BA1_DTA_1207_n9727_omicron_cases_sample_n_epo_3['resid'] = BA1_DTA_1207_n9727_reg_epo_3.resid\n",
    "BA1_DTA_1207_n9727_omicron_cases_sample_n_epo_3\n"
   ]
  },
  {
   "cell_type": "code",
   "execution_count": 404,
   "id": "precise-fraud",
   "metadata": {},
   "outputs": [
    {
     "data": {
      "text/plain": [
       "<matplotlib.collections.PathCollection at 0x7fd153c85a10>"
      ]
     },
     "execution_count": 404,
     "metadata": {},
     "output_type": "execute_result"
    },
    {
     "data": {
      "image/png": "[encoded data removed]",
      "text/plain": [
       "<Figure size 432x288 with 1 Axes>"
      ]
     },
     "metadata": {
      "needs_background": "light"
     },
     "output_type": "display_data"
    }
   ],
   "source": [
    "plt.scatter([i for i in range(len(BA1_DTA_1207_n9727_omicron_cases_sample_n_epo_3.resid))],\n",
    "            BA1_DTA_1207_n9727_omicron_cases_sample_n_epo_3.resid)\n"
   ]
  },
  {
   "cell_type": "code",
   "execution_count": 405,
   "id": "representative-mobility",
   "metadata": {},
   "outputs": [],
   "source": [
    "with open('./BA.1_DTA_1207_n9727/ltla_residual_epo_3.tsv', 'w+') as outfile:\n",
    "    outfile.write('ltla\\tresidual\\n')\n",
    "    outfile.write('\\n'.join(['%s\\t%s' % (row.origin, row.resid)\n",
    "                             for index, row in BA1_DTA_1207_n9727_omicron_cases_sample_n_epo_3.iterrows()]))\n",
    "    "
   ]
  },
  {
   "cell_type": "code",
   "execution_count": null,
   "id": "korean-today",
   "metadata": {},
   "outputs": [],
   "source": []
  }
 ],
 "metadata": {
  "kernelspec": {
   "display_name": "Python 3",
   "language": "python",
   "name": "python3"
  },
  "language_info": {
   "codemirror_mode": {
    "name": "ipython",
    "version": 3
   },
   "file_extension": ".py",
   "mimetype": "text/x-python",
   "name": "python",
   "nbconvert_exporter": "python",
   "pygments_lexer": "ipython3",
   "version": "3.7.9"
  }
 },
 "nbformat": 4,
 "nbformat_minor": 5
}
